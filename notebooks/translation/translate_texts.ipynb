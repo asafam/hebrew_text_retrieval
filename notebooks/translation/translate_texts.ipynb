{
 "cells": [
  {
   "cell_type": "markdown",
   "metadata": {},
   "source": [
    "# Translation pipeline notebook"
   ]
  },
  {
   "cell_type": "code",
   "execution_count": 1,
   "metadata": {},
   "outputs": [
    {
     "name": "stdout",
     "output_type": "stream",
     "text": [
      "/home/nlp/achimoa/workspace/hebrew_text_retrieval/notebooks/translation\n"
     ]
    }
   ],
   "source": [
    "from dotenv import load_dotenv\n",
    "import os\n",
    "\n",
    "# Load variables from .env\n",
    "load_dotenv()\n",
    "\n",
    "# Print the value of the key 'HOME'\n",
    "print(os.getcwd())"
   ]
  },
  {
   "cell_type": "code",
   "execution_count": 2,
   "metadata": {},
   "outputs": [
    {
     "name": "stdout",
     "output_type": "stream",
     "text": [
      "Adding /home/nlp/achimoa/workspace/hebrew_text_retrieval/src to sys.path\n"
     ]
    }
   ],
   "source": [
    "import sys\n",
    "\n",
    "PROJECT_DIR = os.path.abspath('../../')\n",
    "SRC_DIR = os.path.join(PROJECT_DIR, 'src')\n",
    "\n",
    "if not os.path.isdir(SRC_DIR):\n",
    "    raise FileNotFoundError(f'{SRC_DIR} not found')\n",
    "\n",
    "if SRC_DIR not in sys.path:\n",
    "    print(f'Adding {SRC_DIR} to sys.path')\n",
    "    sys.path.append(SRC_DIR)\n",
    "\n",
    "os.chdir(PROJECT_DIR)"
   ]
  },
  {
   "cell_type": "code",
   "execution_count": 3,
   "metadata": {},
   "outputs": [],
   "source": [
    "import pandas as pd\n",
    "import re\n",
    "from tqdm.notebook import tqdm\n",
    "from translation.api.translate import run_translation_pipeline"
   ]
  },
  {
   "cell_type": "code",
   "execution_count": 4,
   "metadata": {},
   "outputs": [],
   "source": [
    "SOURCE_FILE_PATH = \"outputs/translation/BeIR/BeIR_msmarco/queries.csv\"\n",
    "PROMPT_FILE_NAMES = [\n",
    "    \"prompts/translation/openai/translation_prompts_few_shot_v20250128_nocontext.yaml\",\n",
    "    # \"prompts/translation/openai/translation_prompts_few_shot_v20250128_searchopt.yaml\", \n",
    "    # \"prompts/translation/openai/translation_prompts_few_shot_v20250128_unified.yaml\", \n",
    "    # \"prompts/translation/openai/translation_prompts_few_shot_v20250128_zeroshot.yaml\", \n",
    "    # \"prompts/translation/openai/translation_prompts_few_shot_v20250128_default.yaml\"            \n",
    "    # \"prompts/translation/openai/translation_prompts_few_shot_v20250105_default.yaml\"\n",
    "]\n",
    "MODEL_NAME = \"gpt-4o-mini-2024-07-18\"  \n",
    "LIMIT = 10\n",
    "ENGLISH_KEY = \"English\"\n",
    "HEBREW_KEY = \"Hebrew\"\n",
    "HEBREW_KEY_QUERY = \"Hebrew Query\"\n",
    "HEBREW_KEY_DOCUMENT = \"Hebrew Document\"\n",
    "CONTEXT_KEY = \"Context\""
   ]
  },
  {
   "cell_type": "code",
   "execution_count": 5,
   "metadata": {},
   "outputs": [
    {
     "data": {
      "application/vnd.jupyter.widget-view+json": {
       "model_id": "dd83a711559e4aa0be6fa131e7bbcb3d",
       "version_major": 2,
       "version_minor": 0
      },
      "text/plain": [
       "  0%|          | 0/1 [00:00<?, ?it/s]"
      ]
     },
     "metadata": {},
     "output_type": "display_data"
    },
    {
     "name": "stdout",
     "output_type": "stream",
     "text": [
      "Running translation pipeline for prompt file: prompts/translation/openai/translation_prompts_few_shot_v20250128_nocontext.yaml, version: v20250128_nocontext\n",
      "queries_v20250128_nocontext.csv\n",
      "Limiting the number of texts to 10.\n"
     ]
    },
    {
     "name": "stderr",
     "output_type": "stream",
     "text": []
    },
    {
     "name": "stderr",
     "output_type": "stream",
     "text": [
      "Rows: 100%|██████████| 10/10 [00:09<00:00,  1.07it/s]\n"
     ]
    }
   ],
   "source": [
    "\n",
    "for prompt_file_name in tqdm(PROMPT_FILE_NAMES):\n",
    "    # Extract version from prompt file name\n",
    "    match = re.search(r\"v\\d{8}_\\w+\", prompt_file_name)\n",
    "    version = None\n",
    "    if match:\n",
    "        version = match.group(0)\n",
    "    \n",
    "    print(f\"Running translation pipeline for prompt file: {prompt_file_name}, version: {version}\")\n",
    "\n",
    "    # Run translation pipeline\n",
    "    run_translation_pipeline(\n",
    "        source_file_path=SOURCE_FILE_PATH,\n",
    "        prompt_file_name=prompt_file_name,\n",
    "        model_name=MODEL_NAME,\n",
    "        limit=LIMIT,\n",
    "        english_key=ENGLISH_KEY,\n",
    "        hebrew_key=HEBREW_KEY,\n",
    "        context_key=CONTEXT_KEY,\n",
    "        hebrew_key_query=HEBREW_KEY,\n",
    "        hebrew_key_document=HEBREW_KEY,\n",
    "        version=version\n",
    "    )"
   ]
  },
  {
   "cell_type": "code",
   "execution_count": null,
   "metadata": {},
   "outputs": [],
   "source": []
  }
 ],
 "metadata": {
  "kernelspec": {
   "display_name": "htr",
   "language": "python",
   "name": "python3"
  },
  "language_info": {
   "codemirror_mode": {
    "name": "ipython",
    "version": 3
   },
   "file_extension": ".py",
   "mimetype": "text/x-python",
   "name": "python",
   "nbconvert_exporter": "python",
   "pygments_lexer": "ipython3",
   "version": "3.12.8"
  }
 },
 "nbformat": 4,
 "nbformat_minor": 2
}
