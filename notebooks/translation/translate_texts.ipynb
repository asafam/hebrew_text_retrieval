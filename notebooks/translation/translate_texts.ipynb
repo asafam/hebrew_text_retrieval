{
 "cells": [
  {
   "cell_type": "markdown",
   "metadata": {},
   "source": [
    "# Translation pipeline notebook"
   ]
  },
  {
   "cell_type": "code",
   "execution_count": null,
   "metadata": {},
   "outputs": [],
   "source": [
    "import pandas as pd"
   ]
  },
  {
   "cell_type": "code",
   "execution_count": null,
   "metadata": {},
   "outputs": [
    {
     "name": "stdout",
     "output_type": "stream",
     "text": [
      "Token '<STOP>' is NOT in the vocabulary.\n",
      "Token '<STOP>' is NOT directly in the vocabulary.\n"
     ]
    }
   ],
   "source": [
    "# load the candidates for translation\n",
    "input_path = 'output/translation/BeIR'\n",
    "dataset_name = 'BeIR/msmarco'\n",
    "dataset_name_slug = dataset_name.replace('/', '_')\n",
    "queries_input_path = f\"{input_path}/queries_{dataset_name_slug}.csv\"\n",
    "documents_input_path = f\"{input_path}/documents_{dataset_name_slug}.csv\"\n",
    "queries_df = pd.read_csv(queries_input_path, encoding='utf-8')\n",
    "documents_df = pd.read_csv(documents_input_path, encoding='utf-8')"
   ]
  },
  {
   "cell_type": "code",
   "execution_count": null,
   "metadata": {},
   "outputs": [],
   "source": [
    "# load a model and tokenizer"
   ]
  },
  {
   "cell_type": "code",
   "execution_count": null,
   "metadata": {},
   "outputs": [],
   "source": [
    "# iterate over the queries and documents and translate them"
   ]
  }
 ],
 "metadata": {
  "kernelspec": {
   "display_name": "htr",
   "language": "python",
   "name": "python3"
  },
  "language_info": {
   "codemirror_mode": {
    "name": "ipython",
    "version": 3
   },
   "file_extension": ".py",
   "mimetype": "text/x-python",
   "name": "python",
   "nbconvert_exporter": "python",
   "pygments_lexer": "ipython3",
   "version": "3.12.8"
  }
 },
 "nbformat": 4,
 "nbformat_minor": 2
}
