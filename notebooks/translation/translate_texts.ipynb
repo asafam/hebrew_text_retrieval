{
 "cells": [
  {
   "cell_type": "markdown",
   "metadata": {},
   "source": [
    "# Translation pipeline notebook"
   ]
  },
  {
   "cell_type": "code",
   "execution_count": 1,
   "metadata": {},
   "outputs": [
    {
     "data": {
      "text/plain": [
       "'/home/nlp/achimoa/workspace/hebrew_text_retrieval/notebooks/translation'"
      ]
     },
     "execution_count": 1,
     "metadata": {},
     "output_type": "execute_result"
    }
   ],
   "source": [
    "import os\n",
    "os.getcwd()"
   ]
  },
  {
   "cell_type": "code",
   "execution_count": 2,
   "metadata": {},
   "outputs": [
    {
     "name": "stdout",
     "output_type": "stream",
     "text": [
      "Adding ../../src to sys.path\n"
     ]
    }
   ],
   "source": [
    "import sys\n",
    "\n",
    "PROJECT_DIR = '../../'\n",
    "SRC_DIR = os.path.join(PROJECT_DIR, 'src')\n",
    "\n",
    "if SRC_DIR not in sys.path:\n",
    "    print(f'Adding {SRC_DIR} to sys.path')\n",
    "    sys.path.append(SRC_DIR)\n",
    "\n",
    "os.chdir(PROJECT_DIR)"
   ]
  },
  {
   "cell_type": "code",
   "execution_count": 3,
   "metadata": {},
   "outputs": [
    {
     "ename": "ModuleNotFoundError",
     "evalue": "No module named 'translation'",
     "output_type": "error",
     "traceback": [
      "\u001b[0;31m---------------------------------------------------------------------------\u001b[0m",
      "\u001b[0;31mModuleNotFoundError\u001b[0m                       Traceback (most recent call last)",
      "Cell \u001b[0;32mIn[3], line 2\u001b[0m\n\u001b[1;32m      1\u001b[0m \u001b[38;5;28;01mimport\u001b[39;00m\u001b[38;5;250m \u001b[39m\u001b[38;5;21;01mpandas\u001b[39;00m\u001b[38;5;250m \u001b[39m\u001b[38;5;28;01mas\u001b[39;00m\u001b[38;5;250m \u001b[39m\u001b[38;5;21;01mpd\u001b[39;00m\n\u001b[0;32m----> 2\u001b[0m \u001b[38;5;28;01mfrom\u001b[39;00m\u001b[38;5;250m \u001b[39m\u001b[38;5;21;01mtranslation\u001b[39;00m\u001b[38;5;21;01m.\u001b[39;00m\u001b[38;5;21;01mapi\u001b[39;00m\u001b[38;5;21;01m.\u001b[39;00m\u001b[38;5;21;01mtranslate\u001b[39;00m\u001b[38;5;250m \u001b[39m\u001b[38;5;28;01mimport\u001b[39;00m run_translation_pipeline\n",
      "\u001b[0;31mModuleNotFoundError\u001b[0m: No module named 'translation'"
     ]
    }
   ],
   "source": [
    "import pandas as pd\n",
    "from translation.api.translate import run_translation_pipeline"
   ]
  },
  {
   "cell_type": "code",
   "execution_count": null,
   "metadata": {},
   "outputs": [],
   "source": [
    "SOURCE_FILE_PATH = \"outputs/translation/BeIR/BeIR_msmarco/queries.csv\"\n",
    "PROMPT_FILE_NAME = \"prompts/translation/openai/translation_prompts_few_shot_v20250105.yaml\"\n",
    "MODEL_NAME = \"o1-mini-2024-09-12\"  \n",
    "LIMIT = 100\n",
    "ENGLISH_KEY = \"English\"\n",
    "HEBREW_KEY = \"Hebrew\"\n",
    "CONTEXT_KEY = \"Context\"\n",
    "\n",
    "run_translation_pipeline(\n",
    "    source_file_path=SOURCE_FILE_PATH,\n",
    "    prompt_file_name=PROMPT_FILE_NAME,\n",
    "    model_name=MODEL_NAME,\n",
    "    limit=LIMIT,\n",
    "    english_key=ENGLISH_KEY,\n",
    "    hebrew_key=HEBREW_KEY,\n",
    "    context_key=CONTEXT_KEY,\n",
    ")"
   ]
  }
 ],
 "metadata": {
  "kernelspec": {
   "display_name": "htr",
   "language": "python",
   "name": "python3"
  },
  "language_info": {
   "codemirror_mode": {
    "name": "ipython",
    "version": 3
   },
   "file_extension": ".py",
   "mimetype": "text/x-python",
   "name": "python",
   "nbconvert_exporter": "python",
   "pygments_lexer": "ipython3",
   "version": "3.12.8"
  }
 },
 "nbformat": 4,
 "nbformat_minor": 2
}
