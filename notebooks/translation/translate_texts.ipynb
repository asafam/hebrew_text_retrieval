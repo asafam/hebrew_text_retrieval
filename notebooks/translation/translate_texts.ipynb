{
 "cells": [
  {
   "cell_type": "markdown",
   "metadata": {},
   "source": [
    "# Translation pipeline notebook"
   ]
  },
  {
   "cell_type": "code",
   "execution_count": 2,
   "metadata": {},
   "outputs": [
    {
     "name": "stdout",
     "output_type": "stream",
     "text": [
      "/Users/asaf/Workspace/biu/hebrew_text_retrieval/notebooks/translation\n"
     ]
    }
   ],
   "source": [
    "from dotenv import load_dotenv\n",
    "import os\n",
    "\n",
    "# Load variables from .env\n",
    "load_dotenv()\n",
    "\n",
    "# Print the value of the key 'HOME'\n",
    "print(os.getcwd())"
   ]
  },
  {
   "cell_type": "code",
   "execution_count": 3,
   "metadata": {},
   "outputs": [
    {
     "name": "stdout",
     "output_type": "stream",
     "text": [
      "Adding /Users/asaf/Workspace/biu/hebrew_text_retrieval/src to sys.path\n"
     ]
    }
   ],
   "source": [
    "import sys\n",
    "\n",
    "PROJECT_DIR = os.path.abspath('../../')\n",
    "SRC_DIR = os.path.join(PROJECT_DIR, 'src')\n",
    "\n",
    "if not os.path.isdir(SRC_DIR):\n",
    "    raise FileNotFoundError(f'{SRC_DIR} not found')\n",
    "\n",
    "if SRC_DIR not in sys.path:\n",
    "    print(f'Adding {SRC_DIR} to sys.path')\n",
    "    sys.path.append(SRC_DIR)\n",
    "\n",
    "os.chdir(PROJECT_DIR)"
   ]
  },
  {
   "cell_type": "code",
   "execution_count": 16,
   "metadata": {},
   "outputs": [],
   "source": [
    "import pandas as pd\n",
    "import glob\n",
    "import re\n",
    "from pydantic import BaseModel\n",
    "from tqdm.notebook import tqdm\n",
    "from translation.api.translate import run_translation_pipeline\n",
    "from pydantic import BaseModel"
   ]
  },
  {
   "cell_type": "markdown",
   "metadata": {},
   "source": [
    "## Translation pipeline"
   ]
  },
  {
   "cell_type": "code",
   "execution_count": 12,
   "metadata": {},
   "outputs": [],
   "source": [
    "SOURCE_FILE_PATH = \"outputs/translation/BeIR/BeIR_msmarco/queries.csv\"\n",
    "PROMPT_FILE_NAMES = [\n",
    "    \"prompts/translation/openai/translation_prompts_few_shot_v20250128_nocontext.yaml\",\n",
    "    \"prompts/translation/openai/translation_prompts_few_shot_v20250128_searchopt.yaml\", \n",
    "    \"prompts/translation/openai/translation_prompts_few_shot_v20250128_unified.yaml\", \n",
    "    \"prompts/translation/openai/translation_prompts_few_shot_v20250128_zeroshot.yaml\", \n",
    "    \"prompts/translation/openai/translation_prompts_few_shot_v20250128_default.yaml\",          \n",
    "    \"prompts/translation/openai/translation_prompts_few_shot_v20250105_default.yaml\"\n",
    "]\n",
    "MODEL_NAME = \"gpt-4o-mini-2024-07-18\"  \n",
    "LIMIT = 100\n",
    "LIMIT = 100\n",
    "ENGLISH_KEY = \"English\"\n",
    "HEBREW_KEY = \"Hebrew\"\n",
    "HEBREW_KEY_QUERY = \"Hebrew Query\"\n",
    "HEBREW_KEY_DOCUMENT = \"Hebrew Document\"\n",
    "CONTEXT_KEY = \"Context\"\n",
    "\n",
    "class UnifiedTranslation(BaseModel):\n",
    "        hebrew_document: str\n",
    "        hebrew_query: str\n",
    "\n",
    "        def __str__(self):\n",
    "            return \"<hebrew_document>\" + self.hebrew_document + \"</hebrew_document><hebrew_query>\" + self.hebrew_query + \"</hebrew_query>\"\n",
    "        \n",
    "        def __repr__(self):\n",
    "            return \"<hebrew_document>\" + self.hebrew_document + \"</hebrew_document><hebrew_query>\" + self.hebrew_query + \"</hebrew_query>\"\n"
   ]
  },
  {
   "cell_type": "code",
   "execution_count": 13,
   "metadata": {},
   "outputs": [],
   "source": [
    "class Translation(BaseModel):\n",
    "    hebrew: str\n",
    "\n",
    "    def __str__(self):\n",
    "        return self.hebrew\n",
    "    \n",
    "    def __repr__(self):\n",
    "        return self.hebrew\n",
    "    \n",
    "\n",
    "class UnifiedTranslation(BaseModel):\n",
    "    hebrew_query: str\n",
    "    hebrew_document: str\n",
    "\n",
    "    def __str__(self):\n",
    "        return f\"{self.hebrew_query}</query>\\n{self.hebrew_document}</document>\"\n",
    "    \n",
    "    def __repr__(self):\n",
    "        return f\"{self.hebrew_query}</query>\\n{self.hebrew_document}</document>\""
   ]
  },
  {
   "cell_type": "code",
   "execution_count": 14,
   "metadata": {},
   "outputs": [
    {
     "data": {
      "application/vnd.jupyter.widget-view+json": {
       "model_id": "9cc9218204fb44098783a490f0c41337",
       "version_major": 2,
       "version_minor": 0
      },
      "text/plain": [
       "  0%|          | 0/6 [00:00<?, ?it/s]"
      ]
     },
     "metadata": {},
     "output_type": "display_data"
    },
    {
     "name": "stdout",
     "output_type": "stream",
     "text": [
      "Running translation pipeline for prompt file: prompts/translation/openai/translation_prompts_few_shot_v20250128_nocontext.yaml, version: v20250128_nocontext\n",
      "Translation output file path: outputs/translation/BeIR/BeIR_msmarco/gpt-4o-mini-2024-07-18/queries_v20250128_nocontext.csv\n",
      "Limiting the number of texts to 100.\n",
      "Skipping translation of outputs/translation/BeIR/BeIR_msmarco/gpt-4o-mini-2024-07-18/queries_v20250128_nocontext.csv as have been translated.\n",
      "Running translation pipeline for prompt file: prompts/translation/openai/translation_prompts_few_shot_v20250128_searchopt.yaml, version: v20250128_searchopt\n",
      "Translation output file path: outputs/translation/BeIR/BeIR_msmarco/gpt-4o-mini-2024-07-18/queries_v20250128_searchopt.csv\n",
      "Limiting the number of texts to 100.\n",
      "Skipping translation of outputs/translation/BeIR/BeIR_msmarco/gpt-4o-mini-2024-07-18/queries_v20250128_searchopt.csv as have been translated.\n",
      "Running translation pipeline for prompt file: prompts/translation/openai/translation_prompts_few_shot_v20250128_unified.yaml, version: v20250128_unified\n",
      "Translation output file path: outputs/translation/BeIR/BeIR_msmarco/gpt-4o-mini-2024-07-18/queries_v20250128_unified.csv\n",
      "Limiting the number of texts to 100.\n",
      "Skipping translation of outputs/translation/BeIR/BeIR_msmarco/gpt-4o-mini-2024-07-18/queries_v20250128_unified.csv as have been translated.\n",
      "Running translation pipeline for prompt file: prompts/translation/openai/translation_prompts_few_shot_v20250128_zeroshot.yaml, version: v20250128_zeroshot\n",
      "Translation output file path: outputs/translation/BeIR/BeIR_msmarco/gpt-4o-mini-2024-07-18/queries_v20250128_zeroshot.csv\n",
      "Limiting the number of texts to 100.\n",
      "Skipping translation of outputs/translation/BeIR/BeIR_msmarco/gpt-4o-mini-2024-07-18/queries_v20250128_zeroshot.csv as have been translated.\n",
      "Running translation pipeline for prompt file: prompts/translation/openai/translation_prompts_few_shot_v20250128_default.yaml, version: v20250128_default\n",
      "Translation output file path: outputs/translation/BeIR/BeIR_msmarco/gpt-4o-mini-2024-07-18/queries_v20250128_default.csv\n",
      "Limiting the number of texts to 100.\n"
     ]
    },
    {
     "name": "stderr",
     "output_type": "stream",
     "text": [
      "Rows: 100%|██████████| 100/100 [01:48<00:00,  1.09s/it]\n"
     ]
    },
    {
     "name": "stdout",
     "output_type": "stream",
     "text": [
      "Running translation pipeline for prompt file: prompts/translation/openai/translation_prompts_few_shot_v20250105_default.yaml, version: v20250105_default\n",
      "Translation output file path: outputs/translation/BeIR/BeIR_msmarco/gpt-4o-mini-2024-07-18/queries_v20250105_default.csv\n",
      "Limiting the number of texts to 100.\n"
     ]
    },
    {
     "name": "stderr",
     "output_type": "stream",
     "text": [
      "Rows: 100%|██████████| 100/100 [01:43<00:00,  1.03s/it]\n"
     ]
    }
   ],
   "source": [
    "for prompt_file_name in tqdm(PROMPT_FILE_NAMES):\n",
    "    # Extract version from prompt file name\n",
    "    match = re.search(r\"v\\d{8}_\\w+\", prompt_file_name)\n",
    "    version = None\n",
    "    if match:\n",
    "        version = match.group(0)\n",
    "    \n",
    "    print(f\"Running translation pipeline for prompt file: {prompt_file_name}, version: {version}\")\n",
    "\n",
    "    response_format = Translation\n",
    "    if 'unified' in prompt_file_name:\n",
    "        response_format = UnifiedTranslation\n",
    "\n",
    "    # Run translation pipeline\n",
    "    run_translation_pipeline(\n",
    "        source_file_path=SOURCE_FILE_PATH,\n",
    "        prompt_file_name=prompt_file_name,\n",
    "        model_name=MODEL_NAME,\n",
    "        limit=LIMIT,\n",
    "        english_key=ENGLISH_KEY,\n",
    "        hebrew_key=HEBREW_KEY,\n",
    "        context_key=CONTEXT_KEY,\n",
    "        hebrew_key_query=HEBREW_KEY,\n",
    "        hebrew_key_document=HEBREW_KEY,\n",
    "        version=version,\n",
    "        response_format=response_format\n",
    "    )"
   ]
  },
  {
   "cell_type": "code",
   "execution_count": 20,
   "metadata": {},
   "outputs": [
    {
     "data": {
      "text/plain": [
       "['outputs/translation/BeIR/BeIR_msmarco/gpt-4o-mini-2024-07-18/queries_v20250128_nocontext.csv',\n",
       " 'outputs/translation/BeIR/BeIR_msmarco/gpt-4o-mini-2024-07-18/queries_v20250128_searchopt.csv',\n",
       " 'outputs/translation/BeIR/BeIR_msmarco/gpt-4o-mini-2024-07-18/queries_v20250128_unified.csv',\n",
       " 'outputs/translation/BeIR/BeIR_msmarco/gpt-4o-mini-2024-07-18/queries_v20250128_zeroshot.csv',\n",
       " 'outputs/translation/BeIR/BeIR_msmarco/gpt-4o-mini-2024-07-18/queries_v20250128_default.csv',\n",
       " 'outputs/translation/BeIR/BeIR_msmarco/gpt-4o-mini-2024-07-18/queries_v20250105_default.csv']"
      ]
     },
     "execution_count": 20,
     "metadata": {},
     "output_type": "execute_result"
    }
   ],
   "source": [
    "# Define folder path\n",
    "folder_path = \"outputs/translation/BeIR/BeIR_msmarco/gpt-4o-mini-2024-07-18\"\n",
    "# Find all CSV files in the folder\n",
    "file_paths = glob.glob(os.path.join(folder_path, \"*.csv\"))\n",
    "file_paths"
   ]
  },
  {
   "cell_type": "code",
   "execution_count": 22,
   "metadata": {},
   "outputs": [
    {
     "name": "stdout",
     "output_type": "stream",
     "text": [
      "Merged file saved at: outputs/translation/BeIR/BeIR_msmarco/gpt-4o-mini-2024-07-18/merged_output.csv\n"
     ]
    }
   ],
   "source": [
    "# Define shared fields\n",
    "shared_fields = [\"id\", \"text\", \"context_id\", \"context_text\", \"category\", \"dataset_name\", \"model_name\"]\n",
    "\n",
    "# Define different fields\n",
    "different_fields = [\"translation\", \"input_tokens\", \"output_tokens\", \"model_time\"]\n",
    "\n",
    "# Load all files into DataFrames\n",
    "dfs = [pd.read_csv(file)[shared_fields + different_fields] for file in file_paths]\n",
    "\n",
    "# Rename differing columns to track their source\n",
    "for i, (df, file) in enumerate(zip(dfs, file_paths)):\n",
    "    file_name = os.path.basename(file).replace(\".csv\", \"\")  # Extract file name\n",
    "    for col in different_fields:\n",
    "        if col in df.columns:\n",
    "            df.rename(columns={col: f\"{col}_{file_name}\"}, inplace=True)\n",
    "\n",
    "# Merge all DataFrames on shared fields using an outer join\n",
    "merged_df = dfs[0]\n",
    "for df in dfs[1:]:\n",
    "    merged_df = merged_df.merge(df, on=shared_fields, how=\"outer\")\n",
    "\n",
    "# Save the merged DataFrame\n",
    "output_file = os.path.join(folder_path, \"merged_output.csv\")\n",
    "merged_df.to_csv(output_file, index=False)\n",
    "print(f\"Merged file saved at: {output_file}\")\n"
   ]
  },
  {
   "cell_type": "code",
   "execution_count": null,
   "metadata": {},
   "outputs": [],
   "source": []
  }
 ],
 "metadata": {
  "kernelspec": {
   "display_name": "htr",
   "language": "python",
   "name": "python3"
  },
  "language_info": {
   "codemirror_mode": {
    "name": "ipython",
    "version": 3
   },
   "file_extension": ".py",
   "mimetype": "text/x-python",
   "name": "python",
   "nbconvert_exporter": "python",
   "pygments_lexer": "ipython3",
   "version": "3.11.11"
  }
 },
 "nbformat": 4,
 "nbformat_minor": 2
}
