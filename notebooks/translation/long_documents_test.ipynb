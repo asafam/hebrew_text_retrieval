{
 "cells": [
  {
   "cell_type": "code",
   "execution_count": 1,
   "metadata": {},
   "outputs": [],
   "source": [
    "from datasets import load_dataset\n",
    "from tqdm.notebook import tqdm\n",
    "import pandas as pd"
   ]
  },
  {
   "cell_type": "code",
   "execution_count": 2,
   "metadata": {},
   "outputs": [],
   "source": [
    "import tiktoken\n",
    "\n",
    "# Get encoding for GPT-4\n",
    "encoding = tiktoken.encoding_for_model('gpt-4')\n",
    "\n",
    "# Tokenization function\n",
    "def tokenize_function(example):\n",
    "    tokens = encoding.encode(example['text'])\n",
    "    return {'input_ids': tokens, 'length': len(tokens)}\n",
    "\n",
    "\n",
    "# Filtering function: keep only examples with more than 128 tokens\n",
    "def filter_long_examples(example, limit=1024):\n",
    "    return example['length'] > limit\n",
    "\n",
    "# Count the number of tokens\n",
    "def count_tokens(example):\n",
    "    tokens = encoding.encode(example)\n",
    "    token_counts = len(tokens)\n",
    "    return token_counts"
   ]
  },
  {
   "cell_type": "code",
   "execution_count": 3,
   "metadata": {},
   "outputs": [],
   "source": [
    "\n",
    "def filter_dataset(dataset_name, limit):\n",
    "    # Load dataset\n",
    "    dataset = load_dataset(dataset_name, \"corpus\")\n",
    "\n",
    "    # Tokenize dataset\n",
    "    tokenized_dataset = dataset.map(tokenize_function)\n",
    "\n",
    "    # Apply filter\n",
    "    filtered_dataset = tokenized_dataset.filter(lambda x: filter_long_examples(x, limit))\n",
    "\n",
    "    return filtered_dataset\n",
    "\n",
    "\n",
    "def filter_datasets(dataset_names, limit):\n",
    "    filtered_datasets = {}\n",
    "    for dataset_name in tqdm(dataset_names):\n",
    "        filtered_dataset = filter_dataset(dataset_name, limit)\n",
    "\n",
    "        # Check how many examples remain\n",
    "        print(f\"Filtered dataset size: {len(filtered_dataset['corpus'])}\")\n",
    "\n",
    "        filtered_datasets[dataset_name] = filtered_dataset\n",
    "\n",
    "    return filtered_datasets"
   ]
  },
  {
   "cell_type": "code",
   "execution_count": 4,
   "metadata": {},
   "outputs": [],
   "source": [
    "BeIR = {\n",
    "    'Misc': ['BeIR/msmarco'], \n",
    "    'Fact checking': ['BeIR/fever', 'BeIR/climate-fever', 'BeIR/scifact'],\n",
    "    'Citation-Prediction': ['BeIR/scidocs'],\n",
    "    'Duplicate question retrieval': ['BeIR/quora'], # CQADupStack\n",
    "    'Argument retrieval': ['BeIR/arguana'], # Touche-2020\n",
    "    'News retrieval': [], # TREC-NEWS, Robust04\n",
    "    'Question answering': ['BeIR/nq', 'BeIR/hotpotqa'], # FiQA-2018\n",
    "    'Tweet retrieval': [], # Signal-1M\n",
    "    'Bio-medical IR': ['BeIR/trec-covid', 'BeIR/nfcorpus'], # BioASQ\n",
    "    'Entity retrieval': ['BeIR/dbpedia-entity'],\n",
    "}\n",
    "dataset_names = [dataset for datasets in BeIR.values() for dataset in datasets]"
   ]
  },
  {
   "cell_type": "code",
   "execution_count": 94,
   "metadata": {},
   "outputs": [
    {
     "data": {
      "application/vnd.jupyter.widget-view+json": {
       "model_id": "1ba1faa122d34478a16f7921f3fd6a3e",
       "version_major": 2,
       "version_minor": 0
      },
      "text/plain": [
       "  0%|          | 0/12 [00:00<?, ?it/s]"
      ]
     },
     "metadata": {},
     "output_type": "display_data"
    },
    {
     "data": {
      "application/vnd.jupyter.widget-view+json": {
       "model_id": "c5bcb188155c444bbf060c528895c460",
       "version_major": 2,
       "version_minor": 0
      },
      "text/plain": [
       "Filter:   0%|          | 0/8841823 [00:00<?, ? examples/s]"
      ]
     },
     "metadata": {},
     "output_type": "display_data"
    },
    {
     "name": "stdout",
     "output_type": "stream",
     "text": [
      "Filtered dataset size: 52\n"
     ]
    },
    {
     "data": {
      "application/vnd.jupyter.widget-view+json": {
       "model_id": "ae582ab7eec94cd993417a79d575c23e",
       "version_major": 2,
       "version_minor": 0
      },
      "text/plain": [
       "Filter:   0%|          | 0/5416568 [00:00<?, ? examples/s]"
      ]
     },
     "metadata": {},
     "output_type": "display_data"
    },
    {
     "name": "stdout",
     "output_type": "stream",
     "text": [
      "Filtered dataset size: 99174\n"
     ]
    },
    {
     "data": {
      "application/vnd.jupyter.widget-view+json": {
       "model_id": "67b0b866a3324c208f88dd41bc2eb776",
       "version_major": 2,
       "version_minor": 0
      },
      "text/plain": [
       "Filter:   0%|          | 0/5416593 [00:00<?, ? examples/s]"
      ]
     },
     "metadata": {},
     "output_type": "display_data"
    },
    {
     "name": "stdout",
     "output_type": "stream",
     "text": [
      "Filtered dataset size: 99179\n"
     ]
    },
    {
     "data": {
      "application/vnd.jupyter.widget-view+json": {
       "model_id": "4e5d4ed16c0948c2b849096c3f808c60",
       "version_major": 2,
       "version_minor": 0
      },
      "text/plain": [
       "Filter:   0%|          | 0/5183 [00:00<?, ? examples/s]"
      ]
     },
     "metadata": {},
     "output_type": "display_data"
    },
    {
     "name": "stdout",
     "output_type": "stream",
     "text": [
      "Filtered dataset size: 284\n"
     ]
    },
    {
     "data": {
      "application/vnd.jupyter.widget-view+json": {
       "model_id": "7509db05c1e8410a8e801cc1c93acc46",
       "version_major": 2,
       "version_minor": 0
      },
      "text/plain": [
       "README.md:   0%|          | 0.00/14.0k [00:00<?, ?B/s]"
      ]
     },
     "metadata": {},
     "output_type": "display_data"
    },
    {
     "data": {
      "application/vnd.jupyter.widget-view+json": {
       "model_id": "fbe1b0de762e4dc89aa69b6653a8923d",
       "version_major": 2,
       "version_minor": 0
      },
      "text/plain": [
       "scidocs.py:   0%|          | 0.00/1.66k [00:00<?, ?B/s]"
      ]
     },
     "metadata": {},
     "output_type": "display_data"
    },
    {
     "data": {
      "application/vnd.jupyter.widget-view+json": {
       "model_id": "3d260d3a62ae4ca3956327cfd65f2a4e",
       "version_major": 2,
       "version_minor": 0
      },
      "text/plain": [
       "0000.parquet:   0%|          | 0.00/19.0M [00:00<?, ?B/s]"
      ]
     },
     "metadata": {},
     "output_type": "display_data"
    },
    {
     "data": {
      "application/vnd.jupyter.widget-view+json": {
       "model_id": "7fa80723a25b471bb013cb3884cbd785",
       "version_major": 2,
       "version_minor": 0
      },
      "text/plain": [
       "Generating corpus split:   0%|          | 0/25657 [00:00<?, ? examples/s]"
      ]
     },
     "metadata": {},
     "output_type": "display_data"
    },
    {
     "data": {
      "application/vnd.jupyter.widget-view+json": {
       "model_id": "4ceb0a7cc1a44776a85bc7c311edbd98",
       "version_major": 2,
       "version_minor": 0
      },
      "text/plain": [
       "Map:   0%|          | 0/25657 [00:00<?, ? examples/s]"
      ]
     },
     "metadata": {},
     "output_type": "display_data"
    },
    {
     "data": {
      "application/vnd.jupyter.widget-view+json": {
       "model_id": "096cd933965147449518ca87460aeea4",
       "version_major": 2,
       "version_minor": 0
      },
      "text/plain": [
       "Filter:   0%|          | 0/25657 [00:00<?, ? examples/s]"
      ]
     },
     "metadata": {},
     "output_type": "display_data"
    },
    {
     "name": "stdout",
     "output_type": "stream",
     "text": [
      "Filtered dataset size: 491\n"
     ]
    },
    {
     "data": {
      "application/vnd.jupyter.widget-view+json": {
       "model_id": "c27c7034ce784b53ad793865746cb915",
       "version_major": 2,
       "version_minor": 0
      },
      "text/plain": [
       "README.md:   0%|          | 0.00/14.0k [00:00<?, ?B/s]"
      ]
     },
     "metadata": {},
     "output_type": "display_data"
    },
    {
     "data": {
      "application/vnd.jupyter.widget-view+json": {
       "model_id": "f1fcafcd43e943559c337dc05c21dd56",
       "version_major": 2,
       "version_minor": 0
      },
      "text/plain": [
       "quora.py:   0%|          | 0.00/1.66k [00:00<?, ?B/s]"
      ]
     },
     "metadata": {},
     "output_type": "display_data"
    },
    {
     "data": {
      "application/vnd.jupyter.widget-view+json": {
       "model_id": "357f63cc5dd944c6a8fdf0612fe3fd48",
       "version_major": 2,
       "version_minor": 0
      },
      "text/plain": [
       "0000.parquet:   0%|          | 0.00/25.3M [00:00<?, ?B/s]"
      ]
     },
     "metadata": {},
     "output_type": "display_data"
    },
    {
     "data": {
      "application/vnd.jupyter.widget-view+json": {
       "model_id": "50cd85fe93434fe6bf250f5ea37f1de2",
       "version_major": 2,
       "version_minor": 0
      },
      "text/plain": [
       "Generating corpus split:   0%|          | 0/522931 [00:00<?, ? examples/s]"
      ]
     },
     "metadata": {},
     "output_type": "display_data"
    },
    {
     "data": {
      "application/vnd.jupyter.widget-view+json": {
       "model_id": "997f099c6c9f48c88bbbc9cd9c458181",
       "version_major": 2,
       "version_minor": 0
      },
      "text/plain": [
       "Map:   0%|          | 0/522931 [00:00<?, ? examples/s]"
      ]
     },
     "metadata": {},
     "output_type": "display_data"
    },
    {
     "data": {
      "application/vnd.jupyter.widget-view+json": {
       "model_id": "bca05ec947024f02a8474bfac9d8529e",
       "version_major": 2,
       "version_minor": 0
      },
      "text/plain": [
       "Filter:   0%|          | 0/522931 [00:00<?, ? examples/s]"
      ]
     },
     "metadata": {},
     "output_type": "display_data"
    },
    {
     "name": "stdout",
     "output_type": "stream",
     "text": [
      "Filtered dataset size: 0\n"
     ]
    },
    {
     "data": {
      "application/vnd.jupyter.widget-view+json": {
       "model_id": "dd9c086b3a7244f29082d56a644d92d7",
       "version_major": 2,
       "version_minor": 0
      },
      "text/plain": [
       "README.md:   0%|          | 0.00/14.0k [00:00<?, ?B/s]"
      ]
     },
     "metadata": {},
     "output_type": "display_data"
    },
    {
     "data": {
      "application/vnd.jupyter.widget-view+json": {
       "model_id": "20fb2b025a454717abbc908b18f6fe22",
       "version_major": 2,
       "version_minor": 0
      },
      "text/plain": [
       "arguana.py:   0%|          | 0.00/1.66k [00:00<?, ?B/s]"
      ]
     },
     "metadata": {},
     "output_type": "display_data"
    },
    {
     "data": {
      "application/vnd.jupyter.widget-view+json": {
       "model_id": "983258a65495402592d39ac0e332c2c9",
       "version_major": 2,
       "version_minor": 0
      },
      "text/plain": [
       "0000.parquet:   0%|          | 0.00/5.09M [00:00<?, ?B/s]"
      ]
     },
     "metadata": {},
     "output_type": "display_data"
    },
    {
     "data": {
      "application/vnd.jupyter.widget-view+json": {
       "model_id": "1c030ad9af6a46eb9bacc4ed705cb64e",
       "version_major": 2,
       "version_minor": 0
      },
      "text/plain": [
       "Generating corpus split:   0%|          | 0/8674 [00:00<?, ? examples/s]"
      ]
     },
     "metadata": {},
     "output_type": "display_data"
    },
    {
     "data": {
      "application/vnd.jupyter.widget-view+json": {
       "model_id": "562d6c8ccf8d4d0cabbe532104b50289",
       "version_major": 2,
       "version_minor": 0
      },
      "text/plain": [
       "Map:   0%|          | 0/8674 [00:00<?, ? examples/s]"
      ]
     },
     "metadata": {},
     "output_type": "display_data"
    },
    {
     "data": {
      "application/vnd.jupyter.widget-view+json": {
       "model_id": "25d425cbd92f494a9bfda3d667a8cdf5",
       "version_major": 2,
       "version_minor": 0
      },
      "text/plain": [
       "Filter:   0%|          | 0/8674 [00:00<?, ? examples/s]"
      ]
     },
     "metadata": {},
     "output_type": "display_data"
    },
    {
     "name": "stdout",
     "output_type": "stream",
     "text": [
      "Filtered dataset size: 182\n"
     ]
    },
    {
     "data": {
      "application/vnd.jupyter.widget-view+json": {
       "model_id": "8a8532ef6a4d4b74b80c339e0a6f1f18",
       "version_major": 2,
       "version_minor": 0
      },
      "text/plain": [
       "README.md:   0%|          | 0.00/14.0k [00:00<?, ?B/s]"
      ]
     },
     "metadata": {},
     "output_type": "display_data"
    },
    {
     "data": {
      "application/vnd.jupyter.widget-view+json": {
       "model_id": "af49bfeb0d5d433d9956efbac615d89e",
       "version_major": 2,
       "version_minor": 0
      },
      "text/plain": [
       "nq.py:   0%|          | 0.00/1.66k [00:00<?, ?B/s]"
      ]
     },
     "metadata": {},
     "output_type": "display_data"
    },
    {
     "data": {
      "application/vnd.jupyter.widget-view+json": {
       "model_id": "585218a0b3e24aa39accfd0866e05254",
       "version_major": 2,
       "version_minor": 0
      },
      "text/plain": [
       "0000.parquet:   0%|          | 0.00/285M [00:00<?, ?B/s]"
      ]
     },
     "metadata": {},
     "output_type": "display_data"
    },
    {
     "data": {
      "application/vnd.jupyter.widget-view+json": {
       "model_id": "3a6929677fb9459eade009601d66136e",
       "version_major": 2,
       "version_minor": 0
      },
      "text/plain": [
       "0001.parquet:   0%|          | 0.00/285M [00:00<?, ?B/s]"
      ]
     },
     "metadata": {},
     "output_type": "display_data"
    },
    {
     "data": {
      "application/vnd.jupyter.widget-view+json": {
       "model_id": "9ad85aa8f6994fdd8c5551f16680b4cf",
       "version_major": 2,
       "version_minor": 0
      },
      "text/plain": [
       "0002.parquet:   0%|          | 0.00/217M [00:00<?, ?B/s]"
      ]
     },
     "metadata": {},
     "output_type": "display_data"
    },
    {
     "data": {
      "application/vnd.jupyter.widget-view+json": {
       "model_id": "76c9e4ec174143d8a3e1f94216b115c0",
       "version_major": 2,
       "version_minor": 0
      },
      "text/plain": [
       "Generating corpus split:   0%|          | 0/2681468 [00:00<?, ? examples/s]"
      ]
     },
     "metadata": {},
     "output_type": "display_data"
    },
    {
     "data": {
      "application/vnd.jupyter.widget-view+json": {
       "model_id": "8aeb88d7274745c39026d72a0032a828",
       "version_major": 2,
       "version_minor": 0
      },
      "text/plain": [
       "Map:   0%|          | 0/2681468 [00:00<?, ? examples/s]"
      ]
     },
     "metadata": {},
     "output_type": "display_data"
    },
    {
     "data": {
      "application/vnd.jupyter.widget-view+json": {
       "model_id": "1c28258642d44829b51dfaf92937bafb",
       "version_major": 2,
       "version_minor": 0
      },
      "text/plain": [
       "Filter:   0%|          | 0/2681468 [00:00<?, ? examples/s]"
      ]
     },
     "metadata": {},
     "output_type": "display_data"
    },
    {
     "name": "stdout",
     "output_type": "stream",
     "text": [
      "Filtered dataset size: 4338\n"
     ]
    },
    {
     "data": {
      "application/vnd.jupyter.widget-view+json": {
       "model_id": "71a7e7a4ece743e48fc307cb9f61f8a0",
       "version_major": 2,
       "version_minor": 0
      },
      "text/plain": [
       "README.md:   0%|          | 0.00/14.0k [00:00<?, ?B/s]"
      ]
     },
     "metadata": {},
     "output_type": "display_data"
    },
    {
     "data": {
      "application/vnd.jupyter.widget-view+json": {
       "model_id": "fba2c54bfcd2404eb53e8c28c85505aa",
       "version_major": 2,
       "version_minor": 0
      },
      "text/plain": [
       "hotpotqa.py:   0%|          | 0.00/1.66k [00:00<?, ?B/s]"
      ]
     },
     "metadata": {},
     "output_type": "display_data"
    },
    {
     "data": {
      "application/vnd.jupyter.widget-view+json": {
       "model_id": "6f4ed47c235847d6b19a4d28d365902f",
       "version_major": 2,
       "version_minor": 0
      },
      "text/plain": [
       "0000.parquet:   0%|          | 0.00/327M [00:00<?, ?B/s]"
      ]
     },
     "metadata": {},
     "output_type": "display_data"
    },
    {
     "data": {
      "application/vnd.jupyter.widget-view+json": {
       "model_id": "76451d04e1054fbcbf3508036d3b563f",
       "version_major": 2,
       "version_minor": 0
      },
      "text/plain": [
       "0001.parquet:   0%|          | 0.00/311M [00:00<?, ?B/s]"
      ]
     },
     "metadata": {},
     "output_type": "display_data"
    },
    {
     "data": {
      "application/vnd.jupyter.widget-view+json": {
       "model_id": "65983a54b0ad46ada02e10f6d8375ce9",
       "version_major": 2,
       "version_minor": 0
      },
      "text/plain": [
       "0002.parquet:   0%|          | 0.00/311M [00:00<?, ?B/s]"
      ]
     },
     "metadata": {},
     "output_type": "display_data"
    },
    {
     "data": {
      "application/vnd.jupyter.widget-view+json": {
       "model_id": "9f1ffdb252b04d6086da7a38994573eb",
       "version_major": 2,
       "version_minor": 0
      },
      "text/plain": [
       "0003.parquet:   0%|          | 0.00/76.5M [00:00<?, ?B/s]"
      ]
     },
     "metadata": {},
     "output_type": "display_data"
    },
    {
     "data": {
      "application/vnd.jupyter.widget-view+json": {
       "model_id": "076036dcc47844138eeea9f2283f8991",
       "version_major": 2,
       "version_minor": 0
      },
      "text/plain": [
       "Generating corpus split:   0%|          | 0/5233329 [00:00<?, ? examples/s]"
      ]
     },
     "metadata": {},
     "output_type": "display_data"
    },
    {
     "data": {
      "application/vnd.jupyter.widget-view+json": {
       "model_id": "2a67f11a84d241acbba8f7857ae02d36",
       "version_major": 2,
       "version_minor": 0
      },
      "text/plain": [
       "Map:   0%|          | 0/5233329 [00:00<?, ? examples/s]"
      ]
     },
     "metadata": {},
     "output_type": "display_data"
    },
    {
     "data": {
      "application/vnd.jupyter.widget-view+json": {
       "model_id": "003565c856bc44f3b22c6b02884a19b3",
       "version_major": 2,
       "version_minor": 0
      },
      "text/plain": [
       "Filter:   0%|          | 0/5233329 [00:00<?, ? examples/s]"
      ]
     },
     "metadata": {},
     "output_type": "display_data"
    },
    {
     "name": "stdout",
     "output_type": "stream",
     "text": [
      "Filtered dataset size: 301\n"
     ]
    },
    {
     "data": {
      "application/vnd.jupyter.widget-view+json": {
       "model_id": "fa6b6762021b43c4a77c1666e53a7456",
       "version_major": 2,
       "version_minor": 0
      },
      "text/plain": [
       "README.md:   0%|          | 0.00/14.0k [00:00<?, ?B/s]"
      ]
     },
     "metadata": {},
     "output_type": "display_data"
    },
    {
     "data": {
      "application/vnd.jupyter.widget-view+json": {
       "model_id": "1d0c11fd9d134e4db22b0c201c7bb33b",
       "version_major": 2,
       "version_minor": 0
      },
      "text/plain": [
       "trec-covid.py:   0%|          | 0.00/1.66k [00:00<?, ?B/s]"
      ]
     },
     "metadata": {},
     "output_type": "display_data"
    },
    {
     "data": {
      "application/vnd.jupyter.widget-view+json": {
       "model_id": "57fa322d053a485e81e2f9a148fa0dc2",
       "version_major": 2,
       "version_minor": 0
      },
      "text/plain": [
       "0000.parquet:   0%|          | 0.00/113M [00:00<?, ?B/s]"
      ]
     },
     "metadata": {},
     "output_type": "display_data"
    },
    {
     "data": {
      "application/vnd.jupyter.widget-view+json": {
       "model_id": "598f6f6cf086461387dab5aa6809fd89",
       "version_major": 2,
       "version_minor": 0
      },
      "text/plain": [
       "Generating corpus split:   0%|          | 0/171332 [00:00<?, ? examples/s]"
      ]
     },
     "metadata": {},
     "output_type": "display_data"
    },
    {
     "data": {
      "application/vnd.jupyter.widget-view+json": {
       "model_id": "46a743c5cafa44689b2dcc3841341908",
       "version_major": 2,
       "version_minor": 0
      },
      "text/plain": [
       "Map:   0%|          | 0/171332 [00:00<?, ? examples/s]"
      ]
     },
     "metadata": {},
     "output_type": "display_data"
    },
    {
     "data": {
      "application/vnd.jupyter.widget-view+json": {
       "model_id": "a60321aa9597464289f6068598ccc0ec",
       "version_major": 2,
       "version_minor": 0
      },
      "text/plain": [
       "Filter:   0%|          | 0/171332 [00:00<?, ? examples/s]"
      ]
     },
     "metadata": {},
     "output_type": "display_data"
    },
    {
     "name": "stdout",
     "output_type": "stream",
     "text": [
      "Filtered dataset size: 6334\n"
     ]
    },
    {
     "data": {
      "application/vnd.jupyter.widget-view+json": {
       "model_id": "7bf2eeac438145969b00966646593ee6",
       "version_major": 2,
       "version_minor": 0
      },
      "text/plain": [
       "README.md:   0%|          | 0.00/14.0k [00:00<?, ?B/s]"
      ]
     },
     "metadata": {},
     "output_type": "display_data"
    },
    {
     "data": {
      "application/vnd.jupyter.widget-view+json": {
       "model_id": "47995b56b2904dbe9001308d2bbef0e1",
       "version_major": 2,
       "version_minor": 0
      },
      "text/plain": [
       "nfcorpus.py:   0%|          | 0.00/1.66k [00:00<?, ?B/s]"
      ]
     },
     "metadata": {},
     "output_type": "display_data"
    },
    {
     "data": {
      "application/vnd.jupyter.widget-view+json": {
       "model_id": "406da9700e484cc2ab1f7edab100e759",
       "version_major": 2,
       "version_minor": 0
      },
      "text/plain": [
       "0000.parquet:   0%|          | 0.00/3.20M [00:00<?, ?B/s]"
      ]
     },
     "metadata": {},
     "output_type": "display_data"
    },
    {
     "data": {
      "application/vnd.jupyter.widget-view+json": {
       "model_id": "8c1fe835dd9e425ea66755cfca981bf5",
       "version_major": 2,
       "version_minor": 0
      },
      "text/plain": [
       "Generating corpus split:   0%|          | 0/3633 [00:00<?, ? examples/s]"
      ]
     },
     "metadata": {},
     "output_type": "display_data"
    },
    {
     "data": {
      "application/vnd.jupyter.widget-view+json": {
       "model_id": "75be28867615466c84da50fdd24307ef",
       "version_major": 2,
       "version_minor": 0
      },
      "text/plain": [
       "Map:   0%|          | 0/3633 [00:00<?, ? examples/s]"
      ]
     },
     "metadata": {},
     "output_type": "display_data"
    },
    {
     "data": {
      "application/vnd.jupyter.widget-view+json": {
       "model_id": "deb4ef2d65434382965ed5820d1d65da",
       "version_major": 2,
       "version_minor": 0
      },
      "text/plain": [
       "Filter:   0%|          | 0/3633 [00:00<?, ? examples/s]"
      ]
     },
     "metadata": {},
     "output_type": "display_data"
    },
    {
     "name": "stdout",
     "output_type": "stream",
     "text": [
      "Filtered dataset size: 201\n"
     ]
    },
    {
     "data": {
      "application/vnd.jupyter.widget-view+json": {
       "model_id": "7b34e4b8ccf6466b8eae48b2d33e6a49",
       "version_major": 2,
       "version_minor": 0
      },
      "text/plain": [
       "README.md:   0%|          | 0.00/14.0k [00:00<?, ?B/s]"
      ]
     },
     "metadata": {},
     "output_type": "display_data"
    },
    {
     "data": {
      "application/vnd.jupyter.widget-view+json": {
       "model_id": "dd3ff6ee15314752877c5d833aa274f5",
       "version_major": 2,
       "version_minor": 0
      },
      "text/plain": [
       "dbpedia-entity.py:   0%|          | 0.00/1.66k [00:00<?, ?B/s]"
      ]
     },
     "metadata": {},
     "output_type": "display_data"
    },
    {
     "data": {
      "application/vnd.jupyter.widget-view+json": {
       "model_id": "962ba274fe324bb988a05c87a6b13e75",
       "version_major": 2,
       "version_minor": 0
      },
      "text/plain": [
       "0000.parquet:   0%|          | 0.00/327M [00:00<?, ?B/s]"
      ]
     },
     "metadata": {},
     "output_type": "display_data"
    },
    {
     "data": {
      "application/vnd.jupyter.widget-view+json": {
       "model_id": "301c37108b874c088c59e918f5116a7e",
       "version_major": 2,
       "version_minor": 0
      },
      "text/plain": [
       "0001.parquet:   0%|          | 0.00/310M [00:00<?, ?B/s]"
      ]
     },
     "metadata": {},
     "output_type": "display_data"
    },
    {
     "data": {
      "application/vnd.jupyter.widget-view+json": {
       "model_id": "ee22c577f7dc41969d183e0c41b3b9ec",
       "version_major": 2,
       "version_minor": 0
      },
      "text/plain": [
       "0002.parquet:   0%|          | 0.00/311M [00:00<?, ?B/s]"
      ]
     },
     "metadata": {},
     "output_type": "display_data"
    },
    {
     "data": {
      "application/vnd.jupyter.widget-view+json": {
       "model_id": "be5aca3dbcb8408ba859a2b39e144b3e",
       "version_major": 2,
       "version_minor": 0
      },
      "text/plain": [
       "0003.parquet:   0%|          | 0.00/86.5M [00:00<?, ?B/s]"
      ]
     },
     "metadata": {},
     "output_type": "display_data"
    },
    {
     "data": {
      "application/vnd.jupyter.widget-view+json": {
       "model_id": "b019c92514654ddb9f16f99fcc23d49a",
       "version_major": 2,
       "version_minor": 0
      },
      "text/plain": [
       "Generating corpus split:   0%|          | 0/4635922 [00:00<?, ? examples/s]"
      ]
     },
     "metadata": {},
     "output_type": "display_data"
    },
    {
     "data": {
      "application/vnd.jupyter.widget-view+json": {
       "model_id": "4cdc0103072748b49facdaa2d59c6c21",
       "version_major": 2,
       "version_minor": 0
      },
      "text/plain": [
       "Map:   0%|          | 0/4635922 [00:00<?, ? examples/s]"
      ]
     },
     "metadata": {},
     "output_type": "display_data"
    },
    {
     "data": {
      "application/vnd.jupyter.widget-view+json": {
       "model_id": "3472d5e187cf4b30b2e67f3bf5df81d2",
       "version_major": 2,
       "version_minor": 0
      },
      "text/plain": [
       "Filter:   0%|          | 0/4635922 [00:00<?, ? examples/s]"
      ]
     },
     "metadata": {},
     "output_type": "display_data"
    },
    {
     "name": "stdout",
     "output_type": "stream",
     "text": [
      "Filtered dataset size: 908\n"
     ]
    }
   ],
   "source": [
    "filtered_datasets = filter_datasets(dataset_names, 512)"
   ]
  },
  {
   "cell_type": "code",
   "execution_count": 95,
   "metadata": {},
   "outputs": [
    {
     "data": {
      "text/plain": [
       "12"
      ]
     },
     "execution_count": 95,
     "metadata": {},
     "output_type": "execute_result"
    }
   ],
   "source": [
    "len(filtered_datasets)"
   ]
  },
  {
   "cell_type": "code",
   "execution_count": 96,
   "metadata": {},
   "outputs": [],
   "source": [
    "all_docs = []\n",
    "\n",
    "for dataset_name, dataset in filtered_datasets.items():\n",
    "    if dataset_name == 'BeIR/fever':\n",
    "        continue\n",
    "    \n",
    "    for sample in dataset['corpus']:\n",
    "        sample['dataset'] = dataset_name\n",
    "        all_docs.append(sample)"
   ]
  },
  {
   "cell_type": "code",
   "execution_count": 97,
   "metadata": {},
   "outputs": [
    {
     "data": {
      "text/plain": [
       "112270"
      ]
     },
     "execution_count": 97,
     "metadata": {},
     "output_type": "execute_result"
    }
   ],
   "source": [
    "len(all_docs)"
   ]
  },
  {
   "cell_type": "code",
   "execution_count": 73,
   "metadata": {},
   "outputs": [
    {
     "data": {
      "text/plain": [
       "[{'_id': 'Dave_Roller',\n",
       "  'text': \"David Euell Roller ( born October 28 , 1949 in Dayton , Tennessee ) is a former American football defensive lineman . While at Rhea Central High School in Dayton , David earned every honor including Coaches Magazine 's First Team All American and had 28 individual tackles in the first TSSAA All Star game in Nashville , TN , coached by Red Etter .   Roller played college football for the University of Kentucky Wildcats . David was voted national defensive lineman of the week against Kansas State his senior year . During his performance David Roller had seventeen unassisted tackles and six assists , leaving the top-10 ranked Kansas State offense with negative 93 yards rushing . David also had sixs sacks on Kansas State Quarterback Lynn Dickey during this game . Named SEC Player of the Week vs Missouri 1968 , TENNESSEE 1969 AND Kansas STATE 1970 . He was named to the first team All SEC in his junior and senior year and 2nd team his sophomore year and first team on the 1967 freshman team as a Wildcat . In 2005 , Mr. Roller was inducted into the University of Kentucky 's inaugural Hall of Fame class along with George Blanda , Babe Parielli , Bear Bryant , Rick Pitino and many other UK athletes . David was named 2nd team All-American , by various papers including , N.E.A , A.P , and U.P.I. while playing for the University of Kentucky . David also won the `` Unsung Hero '' award , in 1969 and MV underclassman . Roller played in the Hulabowl , in the North - South Shrine game in Miami , and the All - American bowl in Lubbock Texas in 1971 . David was Co-MVP along with Wilbur Hackett his Senior year . David was voted to the University of Kentucky 's 100th Anniversary Team along with Bob Gain , Lou Michaels and many others in 1990 by various Kentucky newspapers . David was selected to the SEC Legends team for year 2015 . Roller later played professional football for 10 seasons , seven years in the National Football League , 2 years in the Canadian Football League , and 18 months with the World Football League , until the league folded . Roller played for the New York Giants ( 1971 -- 1972 ) , Green Bay Packers ( 1975 -- 1978 ) and Minnesota Vikings ( 1979 -- 1980 ) . Nominated for lineman of the week against New Orleans having sacked Archie Manning 4 times and had 6 tackles and 3 hurries . Roller is one of only two players ever carried off the field at Lambeau field in December 1977 against the Lions . He and Gary Knafelc in 1955 were carried off the field by the fans ! Ask Russ Bolinger why I was carried off the field ! Roller won Humor Commercial of the Year for Wisconsin Broadcasters Award . Roller played for the -LSB- Hamilton Tiger-Cats -RSB- -RSB- of the Canadian Football League and for the Southern California Sun of the World Football League where he led the league in quarterback sacks in 1974 with 18 sacks and was twice voted all pro 1st team . Roller signed with the Arizona Wranglers of the United States Football League ( USFL ) in 1982 after retiring with the Minnesota Vikings in 1981 . While living in California , Mr. Roller appeared in the movie `` TWO MINUTE WARNING '' with Charleston Heston doing the close up football shots . For coaches and players comments about Mr. Roller look for WFL Anthony Davis USC and Jack Pardee , coach Tom Fears and Earl Leggett , Pat Haden Quarterback and NFL commentator comments about David with WFL Teams in 1974 and 1975 . David had his own fan clubs in California and Green Bay . Shuffled over Quarterback sacks even in the 70 `` s . In March 1999 David was inducted into the Chattanooga 's Sports Hall of Fame along with John Hannah of the New England Patriots and others by sportswriter Sam Woolwine of the Chattanooga News Free Press and other contributors . Mr Roller was inducted into the Inaugural Velocity Sports Performance Hall of Fame Legends with Reggie White Ted Turner and others . David is most proud of his sons , Justin , PHD , in clean energy and Biomolecular engineering , Dr. Brandon Roller , Dentist and played football at ETSU and David Blake Roller , graduated recently in chemistry . David is married to the former Marion Morgan of Dayton Tennessee and she loves to show and breed . . David has 4 grandchildren : Lily , Tate , Anya and Hudson Blake Roller , and three daughters-in-law Dawn , Osha and Kim .   Category :1949 births  Category : Living people  Category : American football defensive tackles  Category : Kentucky Wildcats football players  Category : New York Giants players  Category : Green Bay Packers players  Category : Minnesota Vikings players  Category : Hamilton Tiger-Cats players  Category : Southern California Sun players\",\n",
       "  'length': 1033,\n",
       "  'dataset': 'BeIR/climate-fever'},\n",
       " {'_id': 'Akhtar_Mohiuddin',\n",
       "  'text': \"Akhtar Mohiuddin ( born in Chaman , Pakistan ) , is the head coach of Pakistan national football team . He took over the charge of national team in 2007 . Mohiuddin is also coach of PMC Athletico , having previously been coach of Afghan FC .   Some great achievements that Akhtar Mohiuddin had in his coaching era are ; He received a point in Asian Games 2010 after 36 years in the Asian Games History . Improved 24 steps of the National Football Team Ranking in FIFA Ranking table in the period of one year with effect from April 2007 to 4 June 2008 . Head Coach of Pakistan team who has drawn with Asian Champions Iraq 2007 at Syria . Head Coach of record breaking National Team who has scored 9 goals against Guam on 6 April 2008 at Chinese Taipei that had 7 goals in 1960 . • Head Coach of the National Football Team how has won first ever away friendly series against Nepal in 2008 . • Head Coach of the PFF Eleven who has drawn with Naniya ( Ghana ) in 2007 at India . Coach of history making Pakistan National Football Team who has beaten Indian National Football Team with big margin 3 -- 0 at Lahore 2005 . Coach of history making U/19 Pakistan Football team who has qualified for Asian Final Round 2000 in Iran after 53 years . Only Football coach in Pakistan who have diploma of specialization in football from Germany . Only Pakistani coach/trainer who has trained/coached three different victorious national teams for international competitions . ( 1992 Hockey : in Malaysia ; 1991 : Davis cup tennis team in Jordan ; Football : 2000 in Sri Lanka . Received a sum of Rs .75000 / = cash award from President PFF for best performance 2005 as a Football Coach . Founder of the five-a-side football in Pakistan . Cash award received from president of Pakistan football federation as a best coach for the year 2000 . Received Gold medal as a player of National championship 1980 at Quetta , Pakistan . Physical trainer of U-21 winning Hockey team for Asian youth Hockey championship , 1992 , Malaysia . Physical trainer of winning National tennis team for Davis Cup competition 1991 against Jordan . Head coach of U-14 bonze medalist for AFC U-14 football festival Group-C , 2004 , Nepal . 2000 millennium award received for best performance in football from Quetta Division sports festival . Best performance award in football received from mini Olympic Games Balochistan for 2000 . Best performance award received from Khidmat Khalque Aman Force Pakistan for 2000 . Produced many footballer presented national football team in different international football competition e.g. , Essa Khan who has declared best player and best scorer of the 9th SAF games 2004 at Islamabad . Life time head coach of AFGHAN FC CHAMAN only football club played all PPL in a row . AFC Coaching `` A '' License Awarded in Bahrain 2014 .   Professional Honours As A Coach :   • Importing training and coaching to IFA Women football team for National women football championship 2013 .  • Imparting training and coaching to AFGHAN FC CHAMAN for PPL 2013 .  • Imparting training and coaching to MUSLIM FC CHAMAN for PPL 2013 .  • Imparting training and coaching to PAK AFGHAN FC CHAMAN for PPL 2013 .  • Head Coach of the National Football Team for Asian Games 2010 China .  • Head Coach of the National Football Team for world qualifier 2010 .  • Head Coach of the National Football Team for AFC Challenge Cup 2008 held at Chinese Taipei .  • Head Coach of the National Football Team for friendly series 2008 at Nepal .  • Head Coach of the National Football Team for SAFF Championship 2008 at Maldives .  • Head coach of national football team for SAF games 2003 .  • Took charge as head coach of National Football Team from David Burn for forthcoming international football competition 2001 .  • Nominated as head coach for National football Team for SAFF Gold cup in 2001 held at Bangladesh .  • Head coach of national U-14 football team for AFC U-14 festival group-C , 2004 , Kathmandu , Nepal .  • Coach of National Football Team for Pakistan -- India Football series 2005 Pakistan .  • Head Coach of U/13 National Football Team for AFC U-13 Festival 2005 Bangladesh .  • National coach for England tour to play friendly fixtures 2001 , England .  • National coach for world qualifying football championship 2002 , Lebanon .  • National coach for world qualifying football championship 2002 , Thailand .  • National coach for U-19 Asian football qualifying round 2000 , Sri Lanka .  • National coach for U-19 Asian final competition 2000 , Iran .  • National coach for U-20 Asian football qualifying round 2002 , Pakistan .  • Head coach of Karachi university football team from 1986 to 1988 .  • Head coach of NED university football team from 1988 to 1989 .  • Head coach of Afghan football team from 1990 onward  • Head coach of Balochistan football teams from 2000 to date .  • Head Coach of Balochistan Women Football Team for Women Football National Championship 2004 , 2005 & 2006 Islamabad .  • Head Coach of PFF Eleven for the Indian tour from 6 April 2007 to 20 April 2007 .  • Head Coach of the U/16 National Football Team for AFC U/16 Championship 2007 at Qatar .  • Head Coach of Quetta Zorawar for JEO Super league 2010 Karachi .  • Due to my imparting training and coaching on regular basis in Balochistan the following players selected for NATIONAL TEAMS in different age categories .  1 . Muhammad Essa ex National football team captain Salam-e - PAKISTAN .  2 . Shahid Ahmed ex - player of the National team 2007,2008  3 . Jaded Khan current National player 2007 on word .  4 . Mehmood Khan ex - National player 2007,2009  5 . Kaleem Ullah current National team Captain .  6 . Ehsan Ullah current national player .  7 . Bilawal current National player .  8 . Jahangir Khan ex - National player 2007 .  9 . Ameer Hamza ex-National player 2005,2006,2007 and 2009  10 . Mehmood Khan junior current National player .  11 . Riaz Ahmed current National player .  12 . Ehsan Ullah ex-National player 2004,2006  13 . Abdul Nasir ex-National player 2005 .  14 . Muhammad Zubair ex - National player 2006 .  15 . Muhammad Arsalan ex - National player2006 .  16 . Jamil Ahmed ex-National player2005 .  17 . Sadiq ex-National player 2005 .  18 . Abid ex-National player 2004 .  19 . Abdul Samad ex - National player 2002 .  20 . Zain Ullah ex-National player 2010 .  21 . Latif Ullah ex-National player 2002 .  22 . Sajjad ex - National player 2009 .  23 . Muhammad Yousaf ex-National player 2005 .  24 . Zulfiqar ex - National player 2004 .  25 . Muhammad Irfan ex-National player 2006 .  26 . Riffat Mehdi ex-woman National player2007 , 2008 .  27 . Shahista ex-woman National player 2007,2008 .  28 . Shahida woman National player2007 to onward .  29 . Shehlyla woman National player 2007 to onward .  30 . Sohila National player 2007 to onward .  31 . Wali Khan National player 2012 .  32 . Majeed Khan National player 2013 .  33 . Attaullah Khan National player 2013 .   Professional Honours As An Instructor :   • Delivered Theoretical and practical knowledge of Football to the students of physical college of BALOCHISTAN for the session of 2013 .  • Chief Instructor of coaching seminar 2013 Loralai ,  • 2nd Chief Instructor of coaching seminar 2013 Zhob .  • 1st Chief Instructor of coaching seminar 2013 Hazdan Khan School QUETTA .  • Chief Instructor of coaching seminar 2013 ( CHAMAN ) BALOCHISTAN .  • 1st Chief Instructor of coaching seminar 2013 ( ZIARAT ) BALOCHISTAN .  • 1st Chief Instructor of coaching seminar 2013 ( PISHIN ) BALOCHISTAN .  • Chief Instructor of coaching seminar 2013 ( QUETTA ) BALOCHISTAN .  • 1st Chief Instructor of coaching seminar 2013 ( ZHOB ) BALOCHISTAN .  • Chief Instructor of coaching seminar 2012 ( ISLAMABAD . )  • Chief Instructor of PFF ` D' Certificate coaching course 2012 ( Sibi ) Balochistan .  • Chief Instructor of PFF ` D' Certificate coaching course 2012 Peshawar .  • Chief Instructor of PFF ` D' certificate coaching course 2011 Islamabad .  • Chief Instructor of Football Coaching Course in Muhtarma Benazir Bhutto Shaheed Youth Development Programme held at Karachi 2010 .  • Conducted Coach Instructor Identification Course for A & B , License holders participant held at Lahore 2010 as a Chief Instructor .  • Conducted `` D '' Certificate Football Coaching Course 2009 at Sibi as Chief Instructor .  • Conducted PFF `` D '' Certificate Football Coaching Course 2008 at Quetta as a Chief Instructor .  • Delivered Theoretical and practical knowledge to the participants of the `` D '' Certificate Coaching Course 2008 at Lahore .  • Conducted PFF `` D '' Certificate Football Coaching Course at Quetta 2005 as a Chief Instructor .  • Conducted PFF `` D '' Certificate Football Coaching Course at Peshawar 2006 as a Chief Instructor .  • Conducted PFF `` D '' Certificate Football Coaching Course at Islamabad 2006 as a Chief Instructor .  • Transfer knowledge theoretically and practically in AFC ` C ' license coaching course from 29 August to 11 September 2004 , Quetta , Pakistan .  • Delivered lectures in AFC ` C ' license-coaching course held at from 9 August , to 20 August 2001 , Quetta , Pakistan .  • Delivered lectures on football in connection with senior and junior diploma classes at PSC , 1994 , Islamabad , Pakistan .  • Delivered lectured on football for senior and junior diploma classes at Government physical college , 1994-95 , Quetta , Pakistan .  • Delivered lectures on football in connection with senior and junior diploma classes at PSC , 1996 , Islamabad , Pakistan .  • Delivered lectures about general conditioning training in coaching clinic for National Coaches of 9th SAF games part-II 2000-01 , Islamabad , Pakistan .  • Delivered lectures and imparting training and Coaching to the participants of special Olympic Course 2000 , Islamabad , Pakistan .  • Delivered lectures and practical sessions of football for the participants of PSB refresher course 2001 , Islamabad , Pakistan .  • Delivered lectures and practical sessions of football for college DPE 's solidarity training workshop Balochistan 2002 , Quetta , Pakistan .  • Conducted refereeing refresher course as a course director for national football referees 2003 , Loralai , Pakistan .  • Conducted refereeing refresher course as a course instructor for national and FIFA football referees 2004 , Quetta , Pakistan .  • Transfer knowledge theoretically and practically in first women introductory football coaching course , 2004 , Islamabad , Pakistan .  • Instructor of Futsal referring and coaching introductory course for first futsal tournament 2004 , NSTCC , Quetta , Pakistan .  • Instructor of first women football coaching course 2004 at Quetta , Balochistan .  • Performed duty as instructor for Balochistan P.T.I ( Physical Training Instructors ) solidarity workshop from 14 May 2007 to 26 May 2007 .   Professional Honours As an Instructor :   • Physical trainer of U-21 national hockey team for Asian championship 1992 Malaysia .  • Physical trainer of U-16 national tennis team for youth competition 1990 , Hong Kong .  • Physical trainer of national tennis team for Asian games 1990 , Beijing , China .  • Physical trainer of national tennis team for Davis cup-tie 1991 , Jordan .  • Physical trainer of national tennis team for Davis cup-tie 1994 , Taiwan .  • Physical trainer of national tennis team for Davis cup-tie 1999 , China .  • Physical trainer of national tennis team for Davis cup-tie 2003 , Japan .   Professional Honours As a Player :   • National first Division player from 1974 to 1986 .  • Nominated for National football camps 1979/80 .  • Balochistan selected player for National championship 1979 to 1982 .  Played for Clubs .  • Pakistan Customs ,  • House Building finance corporation Karachi ,  • Midway Karachi .  • Karachi University ,  • Sindh Balochistan football club Karachi ,  • Afghan club Quetta ,  • Afghan club Chaman .   Courses Attended :   • AFC `` A '' License Coaching Course Bahrain 2014 .  • AEFCA Symposium Edition XXXlll held at Split ( Croatia ) 2012 .  • FIFA/AFC Conference on the FIFA World Cup South Africa 2010 Malaysia .  • Diploma of specialization in football from Leipzig , Germany from 1 March 1993 to 29 July 1993 .  • Olympic Solidarity Coaching Course under auspices of FIFA from 5 October , to 19 October 1997 in Pakistan .  • FIFA futuro course-1 coaching course from 15 July , to 20 July 1992 in Lahore , Pakistan .  • FIFA futuro course-11 coaching course from 27 June to 2 July 2000 in Lahore , Pakistan .  • Australian sports commission seminar about Theo ring success in sports 1997 in Islamabad , Pakistan .  • Australian sports commission course about strength and conditioning principles 1999 Islamabad , Pakistan .  • International sports medicine congress 1995 Quetta , Pakistan .  • FIFA special coaching course 2004 at Lahore , Pakistan .   Professional Honours As a Technical Expert :   • Chairman of TSG for Women National Football Championship Lahore 2013 .  • Member of TSG for PFF challenge cup BAHAWALPUR 2013 .  • Chairman of TSG for Women National Football Championship ISLAMABAD 2012 .  • Member of Selection Committee for U/14 National Football Team 2012 .  • Chairman of TSG for PFF Challenge Cup 2010 Multan .  • Chairman of TSG for KPT Cup 2010 held at Karachi .  • Member of TSG for U/21 National Championship held at Islamabad 2009 .  • Member of TSG for PFF Challenge Cup 2009 held at Hyderabad .  • Imparting Training & Coaching as resource person to Essa Khan Football Academy Chaman .  • Match Commissioner for 4th National Premier league Matches at Lahore 2008 .  • Match Commissioner of the U/15 National Championship 2007 held at Khan-e-Wal .  • Chairman of Technical Study Group for U/15 National Football Championship 2007 Khan-e-Wal .  • Chairman of the Technical Study Group for PFF Challenge Cup 2008 Karachi .  • Match Commissioner for National Premier League Balochistan Zone 2005 Chaman .  • Match Commissioner National `` B '' Division Football League 2005 Quetta .  • Match commissioner for first National league Balochistan zone 2004 , Quetta .  • Match commissioner for all Pakistan Governor gold cup football tournament 2004 , Loralai , Pakistan .  • Match commissioner for National games football event 2004 , Quetta , Pakistan .  • Chairman of technical committee for Governor football gold cup 1997-98 Chaman , Pakistan .  • Chairman of technical committee for President PFF cup 1999 Chaman , Pakistan .  • Analytical expert for Analytical/technical report on football for National games 1997 Karachi , Pakistan .  • Analytical expert for analytical/technical report on football for National games 1998 , Peshawar , Pakistan .  • Match Commissioner for first women National Inter Football Championship 2009 Quetta .  • Member of TSG for Under-19 National Championship held at Lahore from 2 October 2009 to 15 October 2009 .  • Chairman Selection Committee for Under-19 Balochistan Provincial Football Team 2009 .  • Chairman Selection Committee for Under-16 Balochistan Provincial Football Team 2009 .   Professional As a Referee :   • Assistant referee of Pakistan inter services football team v/s Iran inter services football team match , 1990 , Islamabad , Pakistan .  • Referee of the All Pakistan football tournament 1989 , Zhob , Pakistan .  • Referee of the All Balochistan football tournament 1994 , Chaman , Pakistan .  • Referee of the All Balochistan football tournament 1988 , Ziarat , Pakistan .   Mohiuddin was part of a coaching committee under Tariq Lutfi during the victorious 3 match series against India in 2005 . When Salman Sharida took charge in 2005 , Mohiuddin worked as his assistant .   When Sharida quit in 2007 , Mohiuddin was given the manager 's role over the short term until a foreign coach could be found . He had to face Asian champions Iraq in the 2010 World Cup qualifiers . Losing the first leg 7-0 , the team was able to keep the Iraqi 's at bay in the second leg in a nil-nil draw .   The second leg result was seen as a success and Mohiuddin was given the opportunity to remain in command of the national team for the 2008 fixtures . The PFF set a two match away series again Nepal in late March as preparation for the 2008 AFC Challenge Cup qualifiers . After a 30-hour trip and only a few hours rest , Pakistan lost the first match 2-1 , despite having a first half lead . However , in the second match they won 2-0 .   They then travelled to Taipei for 2008 AFC Challenge Cup qualifiers where Mohiuddin was expected to qualify for the main round . Pakistan first faced Chinese Taipei , and in a spirited displayed they came from 1-0 down to win 2-1 . However , everything went wrong against Sri Lanka when Pakistan were thrashed in a humiliating 7-1 defeat . It also signalled the beginning of the end of Mohiuddin 's term as Manager . With the final game being a dead rubber , Pakistan had a big win with a 9-2 victory over Guam , Pakistan 's biggest victory in their history .   Another disappointing performance in SAFF Championship 2008 where the Pakistan team failed to go beyond the group stages , losing to Maldives 3-0 , India 2-1 and Nepal 4-1 , signalled the end of Akhtar Mohiuddin as head coach .   He returned as manager with Graham Roberts in late 2010 , but the team performed poorly during the 2010 Asian Games where the team lost 3 their matches and drew one he was replaced .\",\n",
       "  'length': 4256,\n",
       "  'dataset': 'BeIR/climate-fever'},\n",
       " {'_id': 'Lou_Holtz_(actor)',\n",
       "  'text': \"Lou Holtz ( April 11 , 1893 -- September 22 , 1980 , Beverly Hills , California ) was an American vaudevillian , comic actor , and theatrical producer .   He was discovered by vaudevillian Elsie Janis in San Francisco while still in his teens , and came to New York . He appeared in his first Broadway show in 1913 , World of Pleasure . He appeared on Broadway in other shows with small parts , then became a star in George White 's Scandals of 1919 . He reappeared in the Scandals in 1920 and 1921 . Holtz became a close good friend of George Gershwin while appearing in the Scandals , which Gershwin wrote the music for . Gershwin later wrote a musical for Holtz in 1925 , Tell Me More , which was not received favorably and was short-lived on Broadway .   Several years later , Holtz had a big hit on Broadway in 1931 when he hired his pianist to write a show for him . The pianist , Harold Arlen , would go on to write the music for The Wizard of Oz in 1939 . Holtz produced You Said It . In the 1920s , Holtz became the highest paid entertainer on Broadway , with articles touting his salary as an unheard of $ 6,000 per week . Unfortunately for Holtz , all of that money was invested in the stock market . He later told friends that he came out of the 1929 crash with $ 500 , while he had been worth more than a million dollars the year before .   In the 1920s , Holtz ' career alternated between musical comedies and vaudeville shows where he was the headliner . He reached one of his career milestones in 1925 when he played the Palace Theater as the headliner . The Palace was the most prestigious theatre in the country , and Holtz broke all records there by playing for 10 weeks . In 1931-1932 , Holtz repeated this feat at the Palace a second time . He also starred in and produced a similar show at the competing Hollywood Theater that even outgrossed the Palace Show . In vaudeville shows and radio , Holtz ' comedy was based in telling long , character stories , usually with at least one character having a strong Jewish dialect . His most famous character , Sam Lapidus , stayed with Holtz for his entire career , including Holtz ' guest stints on the Merv Griffin Show in the 1970s .   In the 1930s , while still appearing on Broadway , Holtz left New York twice for London and appeared in two hits at the London Palladium : `` Laughter Over London '' and `` Transatlantic Rhythm . '' Also in the 1930s , Holtz became a regular on radio . He had long stints on The Rudy Vallee Show , The Paul Whiteman Show and many others . Holtz ended up with several radio shows of his own , including The Lou Holtz Laugh Club . One of the regulars on that show was Fanny Brice . Holtz ' last two shows on Broadway were Priorities of 1942 and Star Time ( 1944 ) . After the latter , Holtz was 51 years old .   He went through a bitter divorce at that time , and decided to cut down on his work schedule and appearances . In an interview with the Los Angeles Times in 1989 , George Burns was asked who the greatest comedian was that he ever saw . Burns replied that it was Jack Benny , but Burns named Holtz and several others as coming right after Benny .   Holtz ' career after the mid-1940s consisted of high-end club dates , including headlining in Las Vegas , and television appearances on variety shows . He appeared on The Ed Sullivan Show twice in 1957 and The Tonight Show Starring Johnny Carson twice in the 1960s . He appeared on Jack Paar 's Tonight Show more than 20 times , and appeared on Steve Allen 's Tonight Show seven times . In 1973 , Holtz turned 80 years old but still appeared on the Merv Griffin Show throughout the 1970s .   Holtz 's other credits include the feature film `` Follow The Leader '' from 1930 . This film starred Ed Wynn with a large supporting role for Holtz . The film was based on the musical that Wynn and Holtz starred in on Broadway called `` Manhattan Mary . '' The film also was the first movie that stars Ginger Rogers and Ethel Merman appeared in . Holtz also starred in the Columbia musical short `` School for Romance '' in 1934 , which co-starred a then unknown Betty Grable . Holtz ' early standup comedy routine was memorialized in a 1929 Vitaphone short .  While semi-retired in New York in the late 1950s , Holtz met his 3rd and final wife , Gloria , who would remain with him until his death in 1980 .   In 1963 , at the age of 70 , Holtz and his wife moved to Los Angeles and gave birth to a son , Lou Jr. . In 1965 , the couple had another son , Richard . Holtz ' final years were spent doing what he 'd done on and off for more than 50 years : going to Hillcrest Country Club in Los Angeles for lunch daily and sitting at the famous round table of comedians , which included performers like Burns , Benny , the Marx Brothers , Milton Berle , and George Jessel .\",\n",
       "  'length': 1157,\n",
       "  'dataset': 'BeIR/climate-fever'},\n",
       " {'_id': 'Leiothrix_(plant)',\n",
       "  'text': 'Leiothrix is a genus of plants in the Eriocaulaceae . It is endemic to tropical South America .   Leiothrix affinis Silveira - Minas Gerais  Leiothrix amazonica Moldenke - Pará  Leiothrix angustifolia ( Körn . ) Ruhland - Bahia  Leiothrix araxaensis Silveira - Minas Gerais  Leiothrix arechavaletae ( Körn . ) Ruhland - Uruguay  Leiothrix argentea Silveira - Minas Gerais  Leiothrix argyroderma Ruhland - southeastern Brazil  Leiothrix arrecta Ruhland - Minas Gerais  Leiothrix barreirensis Silveira - Minas Gerais  Leiothrix beckii ( Szyszyl . ex Wawra ) Ruhland - Minas Gerais , Rio de Janeiro  Leiothrix celiae Moldenke - Cerro Yutajé in Amazonas State of Venezuela  Leiothrix cipoensis Giul - Minas Gerais  Leiothrix crassifolia ( Bong . ) Ruhland - Minas Gerais  Leiothrix curvifolia ( Bong . ) Ruhland - Minas Gerais  Leiothrix cuscutoides Silveira - Minas Gerais  Leiothrix dielsii Ruhland - southeastern Brazil  Leiothrix distichoclada Herzog - Bahia  Leiothrix dubia Silveira - Minas Gerais  Leiothrix echinocephala Ruhland - Minas Gerais  Leiothrix edwallii Silveira - São Paulo  Leiothrix flagellaris ( Guill . ) Ruhland - Minas Gerais  Leiothrix flavescens ( Bong . ) Ruhland - Guyana , Venezuela , Brazil , Peru , Bolivia  Leiothrix flexuosa Silveira - Minas Gerais  Leiothrix fluitans ( Mart . ex Körn . ) Ruhland - Minas Gerais  Leiothrix fluminensis Ruhland - Rio de Janeiro  Leiothrix fulgida Ruhland - Minas Gerais  Leiothrix glandulifera Silveira - Minas Gerais  Leiothrix glauca Silveira - Minas Gerais  Leiothrix gomesii Silveira - Minas Gerais  Leiothrix gounelleana Beauverd - Minas Gerais  Leiothrix graminea ( Bong . ) Ruhland - Minas Gerais  Leiothrix hatschbachii Moldenke - Minas Gerais  Leiothrix heterophylla Silveira - Minas Gerais  Leiothrix hirsuta ( Wikstr . ) Ruhland - eastern Brazil  Leiothrix itacambirensis Silveira - Minas Gerais  Leiothrix lanifera Silveira - Minas Gerais  Leiothrix linearis Silveira - Minas Gerais  Leiothrix longipes Silveira - Minas Gerais  Leiothrix luxurians ( Körn . ) Ruhland - Minas Gerais  Leiothrix mendesii Moldenke - Minas Gerais  Leiothrix michaelii Silveira - Minas Gerais  Leiothrix milho-verdensis Silveira - Minas Gerais  Leiothrix mucronata ( Bong . ) Ruhland - Minas Gerais  Leiothrix nubigena ( Kunth ) Ruhland - Minas Gerais  Leiothrix obtusifolia Silveira - Minas Gerais  Leiothrix pedunculosa Ruhland - Minas Gerais , São Paulo  Leiothrix pilulifera ( Körn . ) Ruhland - eastern Brazil  Leiothrix prolifera ( Bong . ) Ruhland - Minas Gerais  Leiothrix propinqua ( Körn . ) Ruhland - Minas Gerais  Leiothrix retrorsa Silveira - Minas Gerais  Leiothrix rufula ( A.St.-Hil . ) Ruhland - eastern Brazil  Leiothrix rupestris Giul - Minas Gerais  Leiothrix schlechtendalii ( Körn . ) Ruhland - Bahia  Leiothrix sclerophylla Silveira - Minas Gerais  Leiothrix sinuosa Giul - Minas Gerais  Leiothrix spergula Ruhland - Minas Gerais  Leiothrix spiralis ( Bong . ) Ruhland - Minas Gerais  Leiothrix subulata Silveira - Minas Gerais  Leiothrix tenuifolia Silveira - Minas Gerais  Leiothrix tinguensis Herzog - Bahia  Leiothrix triangularis Silveira - Minas Gerais  Leiothrix trichopus Silveira - Minas Gerais  Leiothrix trifida Silveira - Minas Gerais  Leiothrix vivipara ( Bong . ) Ruhland - Minas Gerais',\n",
       "  'length': 1174,\n",
       "  'dataset': 'BeIR/climate-fever'},\n",
       " {'_id': 'Julian_McGauran',\n",
       "  'text': \"Julian McGauran ( born 5 March 1957 ) , Australian politician , was a member of the Australian Senate , representing the state of Victoria . Elected as a member of the National Party , he resigned from the Nationals and joined the Liberal Party of Australia in February 2006 . His brother , Peter McGauran , was the National member for Gippsland until 2008 , and was Minister for Agriculture in the Howard government .   McGauran attended Xavier College in Kew , Melbourne . Before attending university he worked in the stables for racehorse trainer Bart Cummings at Flemington Racecourse . At Monash University he obtained a Bachelor of Economics , then becoming a Certified Practising Accountant and then a company director for the McGauran Group of Companies , and a board member of the Victorian Employers ' Chamber of Commerce and Industry between 1986 and 1988 . He was elected to the Melbourne City Council 1985-88 , representing the Central Business District .   During his time at the Council McGauran called for the popular vote of the Lord Mayor of Melbourne , instead of the traditional means of selection by fellow councillor , in an attempt to curtail the ` invariable cronyism ' of the Melbourne City Council at the time .   McGauran won National Party preselection for a Senate seat in the 1987 double-dissolution election , and was subsequently elected . In 1990 due to the circumstances of an historic agreement forming a Coalition Senate ticket he was required to step out of Parliament for three years . In 1993 he was re-elected to the Senate on the Coalition Senate ticket .   On 2 November 1989 McGauran introduced the End of War List ( Private Members Bill ) into the Senate . The Bill was passed unanimously in the Senate , and was aimed at recognising the ` unsung heroes ' of the Vietnam War . Although it was unsuccessful in the House of Representatives at the time , in 1999 the Howard Government did establish the War List and more than 80 Vietnam Vets have been honoured for their acts of bravery since this time .   McGauran was a strong advocate for the freedom of East Timor . He campaigned from 1993 through to 1999 for the East Timor cause against the then-policy of the major parties .   Diagnosed with malaria following a trek along the Kokoda Trail , McGauran ignored doctor 's orders and flew to Canberra to speak on the controversial Euthanasia Laws 1996 Bill -- supporting the Bill to overturn Northern Territory legislation legalising euthanasia . The debate saw the bill narrowly passed in the Senate . The following day he collapsed in his Melbourne office and spent the next week recovering in hospital .   In November 2000 McGauran called for an inquiry into an incident at the Royal Women 's Hospital where an abortion was performed on a 32-week-old fetus . He argued a possible breach of the Victorian Crimes Act which creates an offence of child destruction after 28 weeks gestation had occurred . After years of public debate and argument , the issue was investigated by the Medical Practitioners Board of Victoria .   In 2001 McGauran became the first Federal MP to join the Australian Army as part of the Federal Government 's MP exchange program . He Joined 2RAR on exercise at Jimma training base in Queensland . McGauran documented his experience in a diary later published .   Before the 2004 election , McGauran faced a pre-selection challenge from three party members , including a former staffer to Trade Minister Mark Vaile . McGauran retained National Party pre-selection after media reports suggested the federal coalition agreement would be endangered if he lost , and thus gained the guaranteed second position on the joint Liberal-National ticket and was re-elected .   On 11 August , after the Liberal-National Coalition narrowly won a vote in the Senate , he gave the finger to Labor Party senators on the floor of the Senate in response to comments . This prompted calls from Labor senators and Greens Senator Bob Brown that he be sacked as Deputy Government Whip in the Senate . Senate President Paul Calvert ruled that the gesture was `` unseemly but not obscene . ''   In 2004 the McGauran family bankrolled the Democratic Labor Party 's High Court challenge against the Australian Electoral Commission which was forcing the political party under threat of deregistration to disclose party membership details .   Although the legal challenge was unsuccessful , the DLP survived , largely due to the support of Julian McGauran , who commented , `` We had a serious interest in the outcome of the case , and our heart was with the DLP . I would n't want to see them fade away . ''   McGauran 's links to the DLP stem from his first Senate election win in 1987 when DLP preferences were critical in his narrow win over former Communist John Halfpenny .   In 2005 McGauran was accused of releasing to The Age newspaper the private patient records of a woman who had had an abortion , in breach of a Supreme Court suppression order ; however , he denies this accusation . The then Victoria Health Minister , Bronwyn Pike , is quoted in the article as saying that McGauran was `` exploiting this woman in pursuit of his own ideological agenda '' , describing the act as an assault on the doctor-patient relationship .   On 23 January 2006 McGauran announced that he was resigning from the National Party and would apply to join the Liberal Party . He said there was no longer any significant policy difference between the Nationals and Liberals in Victoria at a federal level , and that he would be best able to represent rural Victorians as a member of the Liberal Party . His application was accepted by the Liberals on 3 February .   In 2009 McGauran was the first to speak up against the Liberal policy supporting the Government 's Emissions Trading Scheme . He said he would not vote for the scheme in any form , in defiance of the then-Liberal leader Malcolm Turnbull .   In April 2010 McGauran , a long time campaigner on censorship issues , called for the sacking of the Australian Classification Board Chairman for the Board 's release of the formerly banned film Salò , or the 120 Days of Sodom by Pier Paolo Pasolini . McGauran described the movie as `` a paedophile 's treat '' and a `` handbook for deviants '' .   In the 2010 election , McGauran lost his Senate seat to the DLP . His term in the Senate expired 30 June 2011 .   On 12 May 2011 The Age newspaper reported that `` Senator Julian McGauran has accused Professor Graham Burrows of giving concocted evidence at the trial of Arthur Freeman , the man serving a life sentence for the murder of his daughter Darcey . ''   The Age reported on McGauran 's speech in the Australian Senate , saying `` Senator McGauran said defence lawyers used Professor Burrows as a ` gun for hire ' and ` psychiatrist of last resort ' and one who will sing whatever song the defence wants '' .   On 21 June 2011 McGauran delivered his valedictory speech to the Senate . He referred to his recent performances as an extra in Opera Australia 's season of The Pearl Fishers , saying `` That is the thrill of politics : it is an opera . I hope I played it well . So now I leave the stage and the curtain must fall . ''   Julian McGauran now works as a religion and ethics teacher at Ivanhoe Girls ' Grammar School . He also helps run the Ivanhoe Girls ' politics club .\",\n",
       "  'length': 1563,\n",
       "  'dataset': 'BeIR/climate-fever'}]"
      ]
     },
     "execution_count": 73,
     "metadata": {},
     "output_type": "execute_result"
    }
   ],
   "source": [
    "import random\n",
    "\n",
    "random.seed(42)\n",
    "shuffled_docs = random.sample(all_docs, len(all_docs))\n",
    "shuffled_docs = [{\n",
    "    '_id': x['_id'], 'text': x['text'], 'length': x['length'], 'dataset': x['dataset']\n",
    "    } for x in shuffled_docs]\n",
    "shuffled_docs[:5]"
   ]
  },
  {
   "cell_type": "code",
   "execution_count": 74,
   "metadata": {},
   "outputs": [],
   "source": [
    "# Assuming all_docs is your list of dictionaries\n",
    "df = pd.DataFrame(shuffled_docs)\n",
    "\n",
    "# Save to CSV\n",
    "df.to_csv('/Users/asaf/Workspace/biu/hebrew_text_retrieval/outputs/translation/shuffled_long_docs.csv', index=False)"
   ]
  },
  {
   "cell_type": "code",
   "execution_count": 5,
   "metadata": {},
   "outputs": [
    {
     "data": {
      "text/html": [
       "<div>\n",
       "<style scoped>\n",
       "    .dataframe tbody tr th:only-of-type {\n",
       "        vertical-align: middle;\n",
       "    }\n",
       "\n",
       "    .dataframe tbody tr th {\n",
       "        vertical-align: top;\n",
       "    }\n",
       "\n",
       "    .dataframe thead th {\n",
       "        text-align: right;\n",
       "    }\n",
       "</style>\n",
       "<table border=\"1\" class=\"dataframe\">\n",
       "  <thead>\n",
       "    <tr style=\"text-align: right;\">\n",
       "      <th></th>\n",
       "      <th>_id</th>\n",
       "      <th>text</th>\n",
       "      <th>length</th>\n",
       "      <th>dataset</th>\n",
       "    </tr>\n",
       "  </thead>\n",
       "  <tbody>\n",
       "    <tr>\n",
       "      <th>0</th>\n",
       "      <td>Dave_Roller</td>\n",
       "      <td>David Euell Roller ( born October 28 , 1949 in...</td>\n",
       "      <td>1033</td>\n",
       "      <td>BeIR/climate-fever</td>\n",
       "    </tr>\n",
       "    <tr>\n",
       "      <th>1</th>\n",
       "      <td>Akhtar_Mohiuddin</td>\n",
       "      <td>Akhtar Mohiuddin ( born in Chaman , Pakistan )...</td>\n",
       "      <td>4256</td>\n",
       "      <td>BeIR/climate-fever</td>\n",
       "    </tr>\n",
       "    <tr>\n",
       "      <th>2</th>\n",
       "      <td>Lou_Holtz_(actor)</td>\n",
       "      <td>Lou Holtz ( April 11 , 1893 -- September 22 , ...</td>\n",
       "      <td>1157</td>\n",
       "      <td>BeIR/climate-fever</td>\n",
       "    </tr>\n",
       "    <tr>\n",
       "      <th>3</th>\n",
       "      <td>Leiothrix_(plant)</td>\n",
       "      <td>Leiothrix is a genus of plants in the Eriocaul...</td>\n",
       "      <td>1174</td>\n",
       "      <td>BeIR/climate-fever</td>\n",
       "    </tr>\n",
       "    <tr>\n",
       "      <th>4</th>\n",
       "      <td>Julian_McGauran</td>\n",
       "      <td>Julian McGauran ( born 5 March 1957 ) , Austra...</td>\n",
       "      <td>1563</td>\n",
       "      <td>BeIR/climate-fever</td>\n",
       "    </tr>\n",
       "  </tbody>\n",
       "</table>\n",
       "</div>"
      ],
      "text/plain": [
       "                 _id                                               text  \\\n",
       "0        Dave_Roller  David Euell Roller ( born October 28 , 1949 in...   \n",
       "1   Akhtar_Mohiuddin  Akhtar Mohiuddin ( born in Chaman , Pakistan )...   \n",
       "2  Lou_Holtz_(actor)  Lou Holtz ( April 11 , 1893 -- September 22 , ...   \n",
       "3  Leiothrix_(plant)  Leiothrix is a genus of plants in the Eriocaul...   \n",
       "4    Julian_McGauran  Julian McGauran ( born 5 March 1957 ) , Austra...   \n",
       "\n",
       "   length             dataset  \n",
       "0    1033  BeIR/climate-fever  \n",
       "1    4256  BeIR/climate-fever  \n",
       "2    1157  BeIR/climate-fever  \n",
       "3    1174  BeIR/climate-fever  \n",
       "4    1563  BeIR/climate-fever  "
      ]
     },
     "execution_count": 5,
     "metadata": {},
     "output_type": "execute_result"
    }
   ],
   "source": [
    "df = pd.read_csv('/Users/asaf/Workspace/biu/hebrew_text_retrieval/outputs/translation/shuffled_long_docs.csv')\n",
    "df.head()"
   ]
  },
  {
   "cell_type": "code",
   "execution_count": 76,
   "metadata": {},
   "outputs": [],
   "source": [
    "df['segment_id'] = 0\n",
    "df['segment_text'] = df['text']\n",
    "df.to_csv('/Users/asaf/Workspace/biu/hebrew_text_retrieval/outputs/translation/long_docs.csv', index=False)"
   ]
  },
  {
   "cell_type": "code",
   "execution_count": 9,
   "metadata": {},
   "outputs": [
    {
     "data": {
      "text/plain": [
       "(99, 29)"
      ]
     },
     "execution_count": 9,
     "metadata": {},
     "output_type": "execute_result"
    }
   ],
   "source": [
    "base_translated_df = pd.read_csv('/Users/asaf/Workspace/biu/hebrew_text_retrieval/outputs/translation/BeIR/gpt-4o-mini-2024-07-18/long_documents/long_docs_evaluation.csv')\n",
    "base_translated_df = base_translated_df[base_translated_df['translation'].notnull()]\n",
    "unique_based_translated_ids = base_translated_df['_id'].unique().tolist()\n",
    "base_translated_df.shape"
   ]
  },
  {
   "cell_type": "code",
   "execution_count": 19,
   "metadata": {},
   "outputs": [
    {
     "name": "stderr",
     "output_type": "stream",
     "text": [
      "[nltk_data] Downloading package punkt to /Users/asaf/nltk_data...\n",
      "[nltk_data]   Package punkt is already up-to-date!\n",
      "[nltk_data] Downloading package punkt_tab to /Users/asaf/nltk_data...\n",
      "[nltk_data]   Package punkt_tab is already up-to-date!\n"
     ]
    }
   ],
   "source": [
    "import nltk\n",
    "from nltk.tokenize import sent_tokenize\n",
    "nltk.download('punkt')\n",
    "nltk.download('punkt_tab')\n",
    "\n",
    "def _split_document_by_segments(document: dict, max_tokens: int = 256):\n",
    "        # Split document into sentences\n",
    "        sentences = sent_tokenize(document['text'])\n",
    "\n",
    "        # Split into segments based on max tokens\n",
    "        segments = []\n",
    "        current_segment = \"\"\n",
    "        current_segment_tokens = 0\n",
    "\n",
    "        for sentence in sentences:\n",
    "            # Tokenize the sentence and count tokens\n",
    "            sentence_tokens = count_tokens(sentence)\n",
    "            \n",
    "            # Check if adding this sentence would exceed max tokens\n",
    "            if current_segment_tokens + sentence_tokens <= max_tokens:\n",
    "                current_segment += \" \" + sentence\n",
    "                current_segment_tokens += sentence_tokens\n",
    "            else:\n",
    "                # Add the current segment to the list\n",
    "                segments.append(current_segment.strip())\n",
    "                # Start a new segment with the current sentence\n",
    "                current_segment = sentence\n",
    "                current_segment_tokens = sentence_tokens\n",
    "\n",
    "        # Add the last segment\n",
    "        if current_segment:\n",
    "            segments.append(current_segment.strip())\n",
    "\n",
    "        # Print segments\n",
    "        document_segments = []\n",
    "        for idx, segment in enumerate(segments):\n",
    "            document_segments.append({\n",
    "                **document,\n",
    "                '_id': str(document['_id']),\n",
    "                'text': document['text'],\n",
    "                'segment_id': idx,\n",
    "                'segment_text': segment\n",
    "            })\n",
    "        return document_segments"
   ]
  },
  {
   "cell_type": "code",
   "execution_count": 24,
   "metadata": {},
   "outputs": [
    {
     "data": {
      "application/vnd.jupyter.widget-view+json": {
       "model_id": "b446c288298e4e3f8ed27863fe8ddbe5",
       "version_major": 2,
       "version_minor": 0
      },
      "text/plain": [
       "0it [00:00, ?it/s]"
      ]
     },
     "metadata": {},
     "output_type": "display_data"
    },
    {
     "name": "stdout",
     "output_type": "stream",
     "text": [
      "Total documents splitted to 256 tokens: 54192\n",
      "Segmented documents saved to CSV: (594, 6)\n"
     ]
    },
    {
     "data": {
      "text/html": [
       "<div>\n",
       "<style scoped>\n",
       "    .dataframe tbody tr th:only-of-type {\n",
       "        vertical-align: middle;\n",
       "    }\n",
       "\n",
       "    .dataframe tbody tr th {\n",
       "        vertical-align: top;\n",
       "    }\n",
       "\n",
       "    .dataframe thead th {\n",
       "        text-align: right;\n",
       "    }\n",
       "</style>\n",
       "<table border=\"1\" class=\"dataframe\">\n",
       "  <thead>\n",
       "    <tr style=\"text-align: right;\">\n",
       "      <th></th>\n",
       "      <th>_id</th>\n",
       "      <th>text</th>\n",
       "      <th>length</th>\n",
       "      <th>dataset</th>\n",
       "      <th>segment_id</th>\n",
       "      <th>segment_text</th>\n",
       "    </tr>\n",
       "  </thead>\n",
       "  <tbody>\n",
       "    <tr>\n",
       "      <th>0</th>\n",
       "      <td>Dave_Roller</td>\n",
       "      <td>David Euell Roller ( born October 28 , 1949 in...</td>\n",
       "      <td>1033</td>\n",
       "      <td>BeIR/climate-fever</td>\n",
       "      <td>0</td>\n",
       "      <td>David Euell Roller ( born October 28 , 1949 in...</td>\n",
       "    </tr>\n",
       "    <tr>\n",
       "      <th>1</th>\n",
       "      <td>Dave_Roller</td>\n",
       "      <td>David Euell Roller ( born October 28 , 1949 in...</td>\n",
       "      <td>1033</td>\n",
       "      <td>BeIR/climate-fever</td>\n",
       "      <td>1</td>\n",
       "      <td>In 2005 , Mr. Roller was inducted into the Uni...</td>\n",
       "    </tr>\n",
       "    <tr>\n",
       "      <th>2</th>\n",
       "      <td>Dave_Roller</td>\n",
       "      <td>David Euell Roller ( born October 28 , 1949 in...</td>\n",
       "      <td>1033</td>\n",
       "      <td>BeIR/climate-fever</td>\n",
       "      <td>2</td>\n",
       "      <td>Roller played for the New York Giants ( 1971 -...</td>\n",
       "    </tr>\n",
       "    <tr>\n",
       "      <th>3</th>\n",
       "      <td>Dave_Roller</td>\n",
       "      <td>David Euell Roller ( born October 28 , 1949 in...</td>\n",
       "      <td>1033</td>\n",
       "      <td>BeIR/climate-fever</td>\n",
       "      <td>3</td>\n",
       "      <td>While living in California , Mr. Roller appear...</td>\n",
       "    </tr>\n",
       "    <tr>\n",
       "      <th>4</th>\n",
       "      <td>Dave_Roller</td>\n",
       "      <td>David Euell Roller ( born October 28 , 1949 in...</td>\n",
       "      <td>1033</td>\n",
       "      <td>BeIR/climate-fever</td>\n",
       "      <td>4</td>\n",
       "      <td>David has 4 grandchildren : Lily , Tate , Anya...</td>\n",
       "    </tr>\n",
       "  </tbody>\n",
       "</table>\n",
       "</div>"
      ],
      "text/plain": [
       "           _id                                               text  length  \\\n",
       "0  Dave_Roller  David Euell Roller ( born October 28 , 1949 in...    1033   \n",
       "1  Dave_Roller  David Euell Roller ( born October 28 , 1949 in...    1033   \n",
       "2  Dave_Roller  David Euell Roller ( born October 28 , 1949 in...    1033   \n",
       "3  Dave_Roller  David Euell Roller ( born October 28 , 1949 in...    1033   \n",
       "4  Dave_Roller  David Euell Roller ( born October 28 , 1949 in...    1033   \n",
       "\n",
       "              dataset  segment_id  \\\n",
       "0  BeIR/climate-fever           0   \n",
       "1  BeIR/climate-fever           1   \n",
       "2  BeIR/climate-fever           2   \n",
       "3  BeIR/climate-fever           3   \n",
       "4  BeIR/climate-fever           4   \n",
       "\n",
       "                                        segment_text  \n",
       "0  David Euell Roller ( born October 28 , 1949 in...  \n",
       "1  In 2005 , Mr. Roller was inducted into the Uni...  \n",
       "2  Roller played for the New York Giants ( 1971 -...  \n",
       "3  While living in California , Mr. Roller appear...  \n",
       "4  David has 4 grandchildren : Lily , Tate , Anya...  "
      ]
     },
     "execution_count": 24,
     "metadata": {},
     "output_type": "execute_result"
    }
   ],
   "source": [
    "all_segments = []\n",
    "limit = 256\n",
    "for idx, row in tqdm(df.iterrows()):\n",
    "    document_segments = _split_document_by_segments(row.to_dict(), limit)\n",
    "    all_segments.extend(document_segments)\n",
    "\n",
    "print(f\"Total documents splitted to {limit} tokens: {len(all_segments)}\")\n",
    "        \n",
    "segmented_df = pd.DataFrame(all_segments)\n",
    "segmented_df = segmented_df[segmented_df['_id'].isin(unique_based_translated_ids)]\n",
    "segmented_df.to_csv(f'/Users/asaf/Workspace/biu/hebrew_text_retrieval/outputs/translation/long_docs_segmented_{limit}.csv', index=False)\n",
    "print(f\"Segmented documents saved to CSV: {segmented_df.shape}\")\n",
    "segmented_df.head()"
   ]
  },
  {
   "cell_type": "markdown",
   "metadata": {},
   "source": [
    "## Review evaluations"
   ]
  },
  {
   "cell_type": "code",
   "execution_count": 38,
   "metadata": {},
   "outputs": [
    {
     "name": "stdout",
     "output_type": "stream",
     "text": [
      "For documents with 2048 tokens limit\n",
      "Grouped Scores by _id:\n",
      "                              _id  score\n",
      "0             2016_Honda_Indy_200    4.0\n",
      "1                Akhtar_Mohiuddin    4.0\n",
      "2                         Angelos    4.0\n",
      "3                  Anjula_Mutanda    4.0\n",
      "4       Arcadia_(popular_culture)    5.0\n",
      "..                            ...    ...\n",
      "95  Supreme_Audit_Office_(Poland)    5.0\n",
      "96              Uttara_Bhādrapadā    4.0\n",
      "97                          Viraj    4.0\n",
      "98                           WPLP    5.0\n",
      "99                   Western_Wall    4.0\n",
      "\n",
      "[100 rows x 2 columns]\n",
      "\n",
      "Overall average of the grouped scores: 4.03\n",
      "For documents with 1024 tokens limit\n",
      "Grouped Scores by _id:\n",
      "                                                  _id     score\n",
      "0                                 2016_Honda_Indy_200  4.500000\n",
      "1                                    Akhtar_Mohiuddin  3.600000\n",
      "2                                      Anjula_Mutanda  3.500000\n",
      "3                           Arcadia_(popular_culture)  4.333333\n",
      "4                                            Ariadnet  4.000000\n",
      "5                               Bean_pod_mottle_virus  4.000000\n",
      "6                                   Charlie_Llewellyn  2.500000\n",
      "7                      Colonel_March_of_Scotland_Yard  4.500000\n",
      "8                  Congregations_of_the_Heart_of_Mary  4.500000\n",
      "9                                             Cychrus  5.000000\n",
      "10                       Cığalazade_Yusuf_Sinan_Pasha  4.000000\n",
      "11                                        Dave_Roller  2.500000\n",
      "12                             Deutscher_Künstlerbund  4.500000\n",
      "13                                 Die_Tödliche_Doris  4.500000\n",
      "14                                 Elymus_lanceolatus  3.500000\n",
      "15                       Everything's_Coming_up_Roses  4.500000\n",
      "16            German_Socialist_Labour_Party_of_Poland  4.500000\n",
      "17           Global_Community_Communications_Alliance  4.500000\n",
      "18                                            Isaly's  3.500000\n",
      "19                              John_Levett_(athlete)  3.666667\n",
      "20                                John_Robert_Beyster  3.500000\n",
      "21                                        Jones_House  3.750000\n",
      "22                                    Julian_McGauran  3.500000\n",
      "23  Laboratory_animal_suppliers_in_the_United_Kingdom  4.333333\n",
      "24                                  Leiothrix_(plant)  4.500000\n",
      "25                                            Lennart  4.666667\n",
      "26               List_of_St._Louis_Cardinals_managers  4.500000\n",
      "27             List_of_abnormal_behaviours_in_animals  3.500000\n",
      "28                           List_of_noctuid_genera:H  5.000000\n",
      "29                                  Lou_Holtz_(actor)  4.000000\n",
      "30                                  Luscombe_Searelle  3.000000\n",
      "31                                      Matilda_Carse  4.500000\n",
      "32                                       Matthew_4:19  4.500000\n",
      "33                         Mount_Evelyn_Aqueduct_Walk  3.500000\n",
      "34                                        Murong_Yong  4.000000\n",
      "35                                    Nyssodrysternum  5.000000\n",
      "36                                Operation_Whetstone  4.000000\n",
      "37                                   Ralph_W._Beiting  5.000000\n",
      "38                                   Razi_High_School  3.500000\n",
      "39                                      Rebel_Randall  3.666667\n",
      "40                                      Sony_Broadway  5.000000\n",
      "41                                        Stenolophus  4.000000\n",
      "42                                               WPLP  4.500000\n",
      "\n",
      "Overall average of the grouped scores: 4.081782945736434\n",
      "For documents with 512 tokens limit\n",
      "Grouped Scores by _id:\n",
      "                                                  _id     score\n",
      "0                                 2016_Honda_Indy_200  3.666667\n",
      "1                                    Akhtar_Mohiuddin  4.111111\n",
      "2                                      Anjula_Mutanda  4.000000\n",
      "3                           Arcadia_(popular_culture)  4.600000\n",
      "4                                            Ariadnet  3.333333\n",
      "5                      Colonel_March_of_Scotland_Yard  4.666667\n",
      "6                        Cığalazade_Yusuf_Sinan_Pasha  4.000000\n",
      "7                                         Dave_Roller  4.000000\n",
      "8                                  Die_Tödliche_Doris  4.333333\n",
      "9                        Everything's_Coming_up_Roses  4.000000\n",
      "10            German_Socialist_Labour_Party_of_Poland  4.333333\n",
      "11           Global_Community_Communications_Alliance  4.333333\n",
      "12                                            Isaly's  4.000000\n",
      "13                              John_Levett_(athlete)  4.000000\n",
      "14                                John_Robert_Beyster  4.333333\n",
      "15                                        Jones_House  3.600000\n",
      "16                                    Julian_McGauran  4.000000\n",
      "17  Laboratory_animal_suppliers_in_the_United_Kingdom  3.833333\n",
      "18                                  Leiothrix_(plant)  4.333333\n",
      "19             List_of_abnormal_behaviours_in_animals  4.333333\n",
      "20                           List_of_noctuid_genera:H  5.000000\n",
      "21                                  Lou_Holtz_(actor)  4.666667\n",
      "22                                       Matthew_4:19  4.333333\n",
      "23                                   Ralph_W._Beiting  4.000000\n",
      "24                                   Razi_High_School  4.250000\n",
      "25                                      Rebel_Randall  4.200000\n",
      "26                                      Sony_Broadway  4.250000\n",
      "27                                               WPLP  4.333333\n",
      "\n",
      "Overall average of the grouped scores: 4.173015873015872\n",
      "For documents with 256 tokens limit\n",
      "Grouped Scores by _id:\n",
      "                                                  _id     score\n",
      "0                                    Akhtar_Mohiuddin  4.117647\n",
      "1                           Arcadia_(popular_culture)  4.222222\n",
      "2                                            Ariadnet  3.800000\n",
      "3                      Colonel_March_of_Scotland_Yard  4.000000\n",
      "4                        Cığalazade_Yusuf_Sinan_Pasha  3.800000\n",
      "5                                         Dave_Roller  3.800000\n",
      "6                                  Die_Tödliche_Doris  4.000000\n",
      "7                        Everything's_Coming_up_Roses  3.571429\n",
      "8                                         Jones_House  3.800000\n",
      "9                                     Julian_McGauran  4.000000\n",
      "10  Laboratory_animal_suppliers_in_the_United_Kingdom  3.100000\n",
      "11                                  Leiothrix_(plant)  5.000000\n",
      "12                                  Lou_Holtz_(actor)  4.200000\n",
      "13                                   Razi_High_School  3.875000\n",
      "\n",
      "Overall average of the grouped scores: 3.9490212751767375\n"
     ]
    }
   ],
   "source": [
    "results = []\n",
    "data = [\n",
    "    (2048, \"/Users/asaf/Workspace/biu/hebrew_text_retrieval/outputs/translation/BeIR/gpt-4o-mini-2024-07-18/long_documents/long_docs_translated_translated_evaluation.csv\"),\n",
    "    (1024, f\"/Users/asaf/Workspace/biu/hebrew_text_retrieval/outputs/translation/BeIR/gpt-4o-mini-2024-07-18/long_documents/long_docs_segmented_1024_translated_translated_evaluated.csv\"),\n",
    "    (512, f\"/Users/asaf/Workspace/biu/hebrew_text_retrieval/outputs/translation/BeIR/gpt-4o-mini-2024-07-18/long_documents/long_docs_segmented_512_translated_translated_evaluated.csv\"),\n",
    "    (256, f\"/Users/asaf/Workspace/biu/hebrew_text_retrieval/outputs/translation/BeIR/gpt-4o-mini-2024-07-18/long_documents/long_docs_segmented_256_translated_translated_evaluated.csv\"),\n",
    "]\n",
    "for limit, file_path in data:\n",
    "    print(f\"For documents with {limit} tokens limit\")\n",
    "    evaluated_df = pd.read_csv(file_path)\n",
    "\n",
    "    # Step 1: Group by '_id' and compute the average score per group\n",
    "    grouped_scores = evaluated_df.groupby('_id')['score'].mean()\n",
    "\n",
    "    # Optional: Convert the Series to a DataFrame for a cleaner display\n",
    "    grouped_scores_df = grouped_scores.reset_index()\n",
    "    print(\"Grouped Scores by _id:\")\n",
    "    print(grouped_scores_df)\n",
    "\n",
    "    # Step 2: Compute the overall average of the grouped scores\n",
    "    overall_average = grouped_scores.mean()\n",
    "    print(\"\\nOverall average of the grouped scores:\", overall_average)\n",
    "\n",
    "    results.append({\n",
    "        'limit': limit,\n",
    "        'score': overall_average/5,\n",
    "        'file_path': file_path\n",
    "    })\n"
   ]
  },
  {
   "cell_type": "code",
   "execution_count": 39,
   "metadata": {},
   "outputs": [
    {
     "data": {
      "image/png": "[encoded data removed]",
      "text/plain": [
       "<Figure size 800x500 with 1 Axes>"
      ]
     },
     "metadata": {},
     "output_type": "display_data"
    }
   ],
   "source": [
    "import matplotlib.pyplot as plt\n",
    "\n",
    "df = pd.DataFrame(results)\n",
    "\n",
    "# Plot the data\n",
    "plt.figure(figsize=(8, 5))\n",
    "plt.plot(df[\"limit\"], df[\"score\"], marker='o', linestyle='-', linewidth=2)\n",
    "\n",
    "# Labels and title\n",
    "plt.xlabel(\"Token Limit\")\n",
    "plt.ylabel(\"Score\")\n",
    "# plt.ylim(0.6, 1)\n",
    "plt.title(\"Evaluation score for different token thresholds\")\n",
    "\n",
    "# Show the chart\n",
    "plt.grid(True)\n",
    "plt.show()"
   ]
  },
  {
   "cell_type": "markdown",
   "metadata": {},
   "source": [
    "## Merge with evaluation"
   ]
  },
  {
   "cell_type": "code",
   "execution_count": 88,
   "metadata": {},
   "outputs": [
    {
     "name": "stdout",
     "output_type": "stream",
     "text": [
      "99\n"
     ]
    },
    {
     "data": {
      "text/html": [
       "<div>\n",
       "<style scoped>\n",
       "    .dataframe tbody tr th:only-of-type {\n",
       "        vertical-align: middle;\n",
       "    }\n",
       "\n",
       "    .dataframe tbody tr th {\n",
       "        vertical-align: top;\n",
       "    }\n",
       "\n",
       "    .dataframe thead th {\n",
       "        text-align: right;\n",
       "    }\n",
       "</style>\n",
       "<table border=\"1\" class=\"dataframe\">\n",
       "  <thead>\n",
       "    <tr style=\"text-align: right;\">\n",
       "      <th></th>\n",
       "      <th>_id</th>\n",
       "      <th>segment_id</th>\n",
       "      <th>translation</th>\n",
       "      <th>translation_datetime</th>\n",
       "      <th>system_prompt</th>\n",
       "      <th>user_prompt</th>\n",
       "      <th>prompt_file_name</th>\n",
       "      <th>model_name</th>\n",
       "      <th>model_time</th>\n",
       "    </tr>\n",
       "  </thead>\n",
       "  <tbody>\n",
       "    <tr>\n",
       "      <th>0</th>\n",
       "      <td>Dave_Roller</td>\n",
       "      <td>0</td>\n",
       "      <td>דיוויד יואל רולר (נולד ב-28 באוקטובר 1949 בדיי...</td>\n",
       "      <td>2025-03-19 18:12:22.257697</td>\n",
       "      <td>You are a precise and concise translation assi...</td>\n",
       "      <td>Translate the following English text into Hebr...</td>\n",
       "      <td>prompts/translation/openai/translation_prompts...</td>\n",
       "      <td>gpt-4o-mini-2024-07-18</td>\n",
       "      <td>37.893707</td>\n",
       "    </tr>\n",
       "    <tr>\n",
       "      <th>1</th>\n",
       "      <td>Akhtar_Mohiuddin</td>\n",
       "      <td>0</td>\n",
       "      <td>אכטר מוחיודין (נולד בח'מן, פקיסטן), הוא המאמן ...</td>\n",
       "      <td>2025-03-19 18:14:34.163400</td>\n",
       "      <td>You are a precise and concise translation assi...</td>\n",
       "      <td>Translate the following English text into Hebr...</td>\n",
       "      <td>prompts/translation/openai/translation_prompts...</td>\n",
       "      <td>gpt-4o-mini-2024-07-18</td>\n",
       "      <td>169.801842</td>\n",
       "    </tr>\n",
       "    <tr>\n",
       "      <th>2</th>\n",
       "      <td>Lou_Holtz_(actor)</td>\n",
       "      <td>0</td>\n",
       "      <td>לוא הולץ (11 באפריל 1893 - 22 בספטמבר 1980, בב...</td>\n",
       "      <td>2025-03-19 18:12:23.882741</td>\n",
       "      <td>You are a precise and concise translation assi...</td>\n",
       "      <td>Translate the following English text into Hebr...</td>\n",
       "      <td>prompts/translation/openai/translation_prompts...</td>\n",
       "      <td>gpt-4o-mini-2024-07-18</td>\n",
       "      <td>39.521419</td>\n",
       "    </tr>\n",
       "    <tr>\n",
       "      <th>3</th>\n",
       "      <td>Leiothrix_(plant)</td>\n",
       "      <td>0</td>\n",
       "      <td>Leiothrix הוא סוג של צמחים במשפחת ה-Eriocaulac...</td>\n",
       "      <td>2025-03-19 18:12:00.913979</td>\n",
       "      <td>You are a precise and concise translation assi...</td>\n",
       "      <td>Translate the following English text into Hebr...</td>\n",
       "      <td>prompts/translation/openai/translation_prompts...</td>\n",
       "      <td>gpt-4o-mini-2024-07-18</td>\n",
       "      <td>16.552759</td>\n",
       "    </tr>\n",
       "    <tr>\n",
       "      <th>4</th>\n",
       "      <td>Julian_McGauran</td>\n",
       "      <td>0</td>\n",
       "      <td>ג'וליאן מקגורן (נולד 5 במרץ 1957), פוליטיקאי א...</td>\n",
       "      <td>2025-03-19 18:12:43.085356</td>\n",
       "      <td>You are a precise and concise translation assi...</td>\n",
       "      <td>Translate the following English text into Hebr...</td>\n",
       "      <td>prompts/translation/openai/translation_prompts...</td>\n",
       "      <td>gpt-4o-mini-2024-07-18</td>\n",
       "      <td>58.723813</td>\n",
       "    </tr>\n",
       "    <tr>\n",
       "      <th>5</th>\n",
       "      <td>Everything's_Coming_up_Roses</td>\n",
       "      <td>0</td>\n",
       "      <td>\"הכל מגיע עם ורדים\" היא שיר מתוך המוזיקל בברוד...</td>\n",
       "      <td>2025-03-19 18:12:44.809119</td>\n",
       "      <td>You are a precise and concise translation assi...</td>\n",
       "      <td>Translate the following English text into Hebr...</td>\n",
       "      <td>prompts/translation/openai/translation_prompts...</td>\n",
       "      <td>gpt-4o-mini-2024-07-18</td>\n",
       "      <td>60.447877</td>\n",
       "    </tr>\n",
       "    <tr>\n",
       "      <th>6</th>\n",
       "      <td>Die_Tödliche_Doris</td>\n",
       "      <td>0</td>\n",
       "      <td>דַּיֵּי טוֹדְלִיכֶה דּוֹרִיס (דוריס הקטלנית; מ...</td>\n",
       "      <td>2025-03-19 18:12:35.638404</td>\n",
       "      <td>You are a precise and concise translation assi...</td>\n",
       "      <td>Translate the following English text into Hebr...</td>\n",
       "      <td>prompts/translation/openai/translation_prompts...</td>\n",
       "      <td>gpt-4o-mini-2024-07-18</td>\n",
       "      <td>51.271717</td>\n",
       "    </tr>\n",
       "    <tr>\n",
       "      <th>7</th>\n",
       "      <td>Colonel_March_of_Scotland_Yard</td>\n",
       "      <td>0</td>\n",
       "      <td>הקולונל מארץ של סקוטלנד יארד היא סדרת טלוויזיה...</td>\n",
       "      <td>2025-03-19 18:12:17.553193</td>\n",
       "      <td>You are a precise and concise translation assi...</td>\n",
       "      <td>Translate the following English text into Hebr...</td>\n",
       "      <td>prompts/translation/openai/translation_prompts...</td>\n",
       "      <td>gpt-4o-mini-2024-07-18</td>\n",
       "      <td>33.191921</td>\n",
       "    </tr>\n",
       "    <tr>\n",
       "      <th>8</th>\n",
       "      <td>Razi_High_School</td>\n",
       "      <td>0</td>\n",
       "      <td>ליקיי רזי (בפרסית: دبیرستان رازی) מתורגם לאנגל...</td>\n",
       "      <td>2025-03-19 18:12:36.698742</td>\n",
       "      <td>You are a precise and concise translation assi...</td>\n",
       "      <td>Translate the following English text into Hebr...</td>\n",
       "      <td>prompts/translation/openai/translation_prompts...</td>\n",
       "      <td>gpt-4o-mini-2024-07-18</td>\n",
       "      <td>52.337422</td>\n",
       "    </tr>\n",
       "    <tr>\n",
       "      <th>9</th>\n",
       "      <td>Arcadia_(popular_culture)</td>\n",
       "      <td>0</td>\n",
       "      <td>בעקבות משמעותה המיתולוגית כטבע פראי, הרמוני ול...</td>\n",
       "      <td>2025-03-19 18:13:21.120159</td>\n",
       "      <td>You are a precise and concise translation assi...</td>\n",
       "      <td>Translate the following English text into Hebr...</td>\n",
       "      <td>prompts/translation/openai/translation_prompts...</td>\n",
       "      <td>gpt-4o-mini-2024-07-18</td>\n",
       "      <td>80.197246</td>\n",
       "    </tr>\n",
       "    <tr>\n",
       "      <th>10</th>\n",
       "      <td>Ariadnet</td>\n",
       "      <td>0</td>\n",
       "      <td>הרשת הלאומית למחקר ואקדמיה (NREN) של יוון בתקו...</td>\n",
       "      <td>2025-03-19 18:12:46.217116</td>\n",
       "      <td>You are a precise and concise translation assi...</td>\n",
       "      <td>Translate the following English text into Hebr...</td>\n",
       "      <td>prompts/translation/openai/translation_prompts...</td>\n",
       "      <td>gpt-4o-mini-2024-07-18</td>\n",
       "      <td>28.654351</td>\n",
       "    </tr>\n",
       "    <tr>\n",
       "      <th>11</th>\n",
       "      <td>Cığalazade_Yusuf_Sinan_Pasha</td>\n",
       "      <td>0</td>\n",
       "      <td>Cığalazade Yusuf Sinan Pasha (המכונה גם Cağalo...</td>\n",
       "      <td>2025-03-19 18:13:12.567269</td>\n",
       "      <td>You are a precise and concise translation assi...</td>\n",
       "      <td>Translate the following English text into Hebr...</td>\n",
       "      <td>prompts/translation/openai/translation_prompts...</td>\n",
       "      <td>gpt-4o-mini-2024-07-18</td>\n",
       "      <td>50.300497</td>\n",
       "    </tr>\n",
       "    <tr>\n",
       "      <th>12</th>\n",
       "      <td>Jones_House</td>\n",
       "      <td>0</td>\n",
       "      <td>ג'ונס האוס עשוי להתייחס ל: בארצות הברית (לפי מ...</td>\n",
       "      <td>2025-03-19 18:14:06.304890</td>\n",
       "      <td>You are a precise and concise translation assi...</td>\n",
       "      <td>Translate the following English text into Hebr...</td>\n",
       "      <td>prompts/translation/openai/translation_prompts...</td>\n",
       "      <td>gpt-4o-mini-2024-07-18</td>\n",
       "      <td>102.411987</td>\n",
       "    </tr>\n",
       "    <tr>\n",
       "      <th>13</th>\n",
       "      <td>Laboratory_animal_suppliers_in_the_United_Kingdom</td>\n",
       "      <td>0</td>\n",
       "      <td>ספקי חיות מעבדה בממלכה המאוחדת מגדלים בעלי חיי...</td>\n",
       "      <td>2025-03-19 18:13:42.871732</td>\n",
       "      <td>You are a precise and concise translation assi...</td>\n",
       "      <td>Translate the following English text into Hebr...</td>\n",
       "      <td>prompts/translation/openai/translation_prompts...</td>\n",
       "      <td>gpt-4o-mini-2024-07-18</td>\n",
       "      <td>67.223541</td>\n",
       "    </tr>\n",
       "    <tr>\n",
       "      <th>14</th>\n",
       "      <td>WPLP</td>\n",
       "      <td>0</td>\n",
       "      <td>WPLP AM הייתה תחנת הרדיו הראשונה ב-24 שעות חדש...</td>\n",
       "      <td>2025-03-19 18:13:24.346762</td>\n",
       "      <td>You are a precise and concise translation assi...</td>\n",
       "      <td>Translate the following English text into Hebr...</td>\n",
       "      <td>prompts/translation/openai/translation_prompts...</td>\n",
       "      <td>gpt-4o-mini-2024-07-18</td>\n",
       "      <td>47.638297</td>\n",
       "    </tr>\n",
       "    <tr>\n",
       "      <th>15</th>\n",
       "      <td>Anjula_Mutanda</td>\n",
       "      <td>0</td>\n",
       "      <td>אנג'ולה מוטנדה, שנולדה להורים ממוצא הודי/אוגנד...</td>\n",
       "      <td>2025-03-19 18:13:24.470749</td>\n",
       "      <td>You are a precise and concise translation assi...</td>\n",
       "      <td>Translate the following English text into Hebr...</td>\n",
       "      <td>prompts/translation/openai/translation_prompts...</td>\n",
       "      <td>gpt-4o-mini-2024-07-18</td>\n",
       "      <td>41.375516</td>\n",
       "    </tr>\n",
       "    <tr>\n",
       "      <th>16</th>\n",
       "      <td>Isaly's</td>\n",
       "      <td>0</td>\n",
       "      <td>Isaly's הייתה רשת של חלבניות ומסעדות בבעלות מש...</td>\n",
       "      <td>2025-03-19 18:13:24.192345</td>\n",
       "      <td>You are a precise and concise translation assi...</td>\n",
       "      <td>Translate the following English text into Hebr...</td>\n",
       "      <td>prompts/translation/openai/translation_prompts...</td>\n",
       "      <td>gpt-4o-mini-2024-07-18</td>\n",
       "      <td>39.373889</td>\n",
       "    </tr>\n",
       "    <tr>\n",
       "      <th>17</th>\n",
       "      <td>Rebel_Randall</td>\n",
       "      <td>0</td>\n",
       "      <td>רֵבֵּל רַנְדָל (נולדה כאליין שארלוט דורתי ברנד...</td>\n",
       "      <td>2025-03-19 18:14:01.171478</td>\n",
       "      <td>You are a precise and concise translation assi...</td>\n",
       "      <td>Translate the following English text into Hebr...</td>\n",
       "      <td>prompts/translation/openai/translation_prompts...</td>\n",
       "      <td>gpt-4o-mini-2024-07-18</td>\n",
       "      <td>74.938455</td>\n",
       "    </tr>\n",
       "    <tr>\n",
       "      <th>18</th>\n",
       "      <td>John_Robert_Beyster</td>\n",
       "      <td>0</td>\n",
       "      <td>John Robert Beyster (26 ביולי 1924 - 22 בדצמבר...</td>\n",
       "      <td>2025-03-19 18:14:01.356781</td>\n",
       "      <td>You are a precise and concise translation assi...</td>\n",
       "      <td>Translate the following English text into Hebr...</td>\n",
       "      <td>prompts/translation/openai/translation_prompts...</td>\n",
       "      <td>gpt-4o-mini-2024-07-18</td>\n",
       "      <td>48.772264</td>\n",
       "    </tr>\n",
       "    <tr>\n",
       "      <th>19</th>\n",
       "      <td>Sony_Broadway</td>\n",
       "      <td>0</td>\n",
       "      <td>סוני ברודוויי הייתה תווית שהוקמה על ידי סוני מ...</td>\n",
       "      <td>2025-03-19 18:14:05.296915</td>\n",
       "      <td>You are a precise and concise translation assi...</td>\n",
       "      <td>Translate the following English text into Hebr...</td>\n",
       "      <td>prompts/translation/openai/translation_prompts...</td>\n",
       "      <td>gpt-4o-mini-2024-07-18</td>\n",
       "      <td>44.162258</td>\n",
       "    </tr>\n",
       "    <tr>\n",
       "      <th>20</th>\n",
       "      <td>List_of_abnormal_behaviours_in_animals</td>\n",
       "      <td>0</td>\n",
       "      <td>התנהגות לא נורמלית בבעלי חיים יכולה להיות מוגד...</td>\n",
       "      <td>2025-03-19 18:13:57.400196</td>\n",
       "      <td>You are a precise and concise translation assi...</td>\n",
       "      <td>Translate the following English text into Hebr...</td>\n",
       "      <td>prompts/translation/openai/translation_prompts...</td>\n",
       "      <td>gpt-4o-mini-2024-07-18</td>\n",
       "      <td>33.191317</td>\n",
       "    </tr>\n",
       "    <tr>\n",
       "      <th>21</th>\n",
       "      <td>2016_Honda_Indy_200</td>\n",
       "      <td>0</td>\n",
       "      <td>ההונדא אינדי 200 של 2016 היה הסיבוב ה-12 בסדרת...</td>\n",
       "      <td>2025-03-19 18:13:56.241407</td>\n",
       "      <td>You are a precise and concise translation assi...</td>\n",
       "      <td>Translate the following English text into Hebr...</td>\n",
       "      <td>prompts/translation/openai/translation_prompts...</td>\n",
       "      <td>gpt-4o-mini-2024-07-18</td>\n",
       "      <td>31.880428</td>\n",
       "    </tr>\n",
       "    <tr>\n",
       "      <th>22</th>\n",
       "      <td>Global_Community_Communications_Alliance</td>\n",
       "      <td>0</td>\n",
       "      <td>ברית התקשורת הקהילתית הגלובלית, ארגון דתי וכנס...</td>\n",
       "      <td>2025-03-19 18:14:02.614246</td>\n",
       "      <td>You are a precise and concise translation assi...</td>\n",
       "      <td>Translate the following English text into Hebr...</td>\n",
       "      <td>prompts/translation/openai/translation_prompts...</td>\n",
       "      <td>gpt-4o-mini-2024-07-18</td>\n",
       "      <td>38.129629</td>\n",
       "    </tr>\n",
       "    <tr>\n",
       "      <th>23</th>\n",
       "      <td>Ralph_W._Beiting</td>\n",
       "      <td>0</td>\n",
       "      <td>מונסיניור ראלף ו. בייטינג (1 בינואר 1924 - 9 ב...</td>\n",
       "      <td>2025-03-19 18:14:21.015582</td>\n",
       "      <td>You are a precise and concise translation assi...</td>\n",
       "      <td>Translate the following English text into Hebr...</td>\n",
       "      <td>prompts/translation/openai/translation_prompts...</td>\n",
       "      <td>gpt-4o-mini-2024-07-18</td>\n",
       "      <td>38.134712</td>\n",
       "    </tr>\n",
       "    <tr>\n",
       "      <th>24</th>\n",
       "      <td>Matthew_4:19</td>\n",
       "      <td>0</td>\n",
       "      <td>מתי 4:19 הוא הפסוק ה-19 בפרק הרביעי של הבשורה ...</td>\n",
       "      <td>2025-03-19 18:14:31.047861</td>\n",
       "      <td>You are a precise and concise translation assi...</td>\n",
       "      <td>Translate the following English text into Hebr...</td>\n",
       "      <td>prompts/translation/openai/translation_prompts...</td>\n",
       "      <td>gpt-4o-mini-2024-07-18</td>\n",
       "      <td>34.790454</td>\n",
       "    </tr>\n",
       "    <tr>\n",
       "      <th>25</th>\n",
       "      <td>List_of_noctuid_genera:H</td>\n",
       "      <td>0</td>\n",
       "      <td>משפחת העטלפים הגדולה Noctuidae כוללת את הסוגים...</td>\n",
       "      <td>2025-03-19 18:14:40.842622</td>\n",
       "      <td>You are a precise and concise translation assi...</td>\n",
       "      <td>Translate the following English text into Hebr...</td>\n",
       "      <td>prompts/translation/openai/translation_prompts...</td>\n",
       "      <td>gpt-4o-mini-2024-07-18</td>\n",
       "      <td>43.433631</td>\n",
       "    </tr>\n",
       "    <tr>\n",
       "      <th>26</th>\n",
       "      <td>German_Socialist_Labour_Party_of_Poland</td>\n",
       "      <td>0</td>\n",
       "      <td>המפלגה הסוציאליסטית הגרמנית של פולין ( Deutsch...</td>\n",
       "      <td>2025-03-19 18:14:43.393185</td>\n",
       "      <td>You are a precise and concise translation assi...</td>\n",
       "      <td>Translate the following English text into Hebr...</td>\n",
       "      <td>prompts/translation/openai/translation_prompts...</td>\n",
       "      <td>gpt-4o-mini-2024-07-18</td>\n",
       "      <td>42.206109</td>\n",
       "    </tr>\n",
       "    <tr>\n",
       "      <th>27</th>\n",
       "      <td>John_Levett_(athlete)</td>\n",
       "      <td>0</td>\n",
       "      <td>ג'ון לווית היה אתלט מהמאה ה-19 שזכה פעמיים בתו...</td>\n",
       "      <td>2025-03-19 18:15:26.542079</td>\n",
       "      <td>You are a precise and concise translation assi...</td>\n",
       "      <td>Translate the following English text into Hebr...</td>\n",
       "      <td>prompts/translation/openai/translation_prompts...</td>\n",
       "      <td>gpt-4o-mini-2024-07-18</td>\n",
       "      <td>85.168854</td>\n",
       "    </tr>\n",
       "    <tr>\n",
       "      <th>28</th>\n",
       "      <td>Luscombe_Searelle</td>\n",
       "      <td>0</td>\n",
       "      <td>וויליאם לאסקומב סירל (1853 - 18 בדצמבר 1907) ה...</td>\n",
       "      <td>2025-03-19 18:14:41.444169</td>\n",
       "      <td>You are a precise and concise translation assi...</td>\n",
       "      <td>Translate the following English text into Hebr...</td>\n",
       "      <td>prompts/translation/openai/translation_prompts...</td>\n",
       "      <td>gpt-4o-mini-2024-07-18</td>\n",
       "      <td>38.813326</td>\n",
       "    </tr>\n",
       "    <tr>\n",
       "      <th>29</th>\n",
       "      <td>Deutscher_Künstlerbund</td>\n",
       "      <td>0</td>\n",
       "      <td>האגודה הגרמנית לאמנים (Deutscher Kuenstlerbund...</td>\n",
       "      <td>2025-03-19 18:14:36.996764</td>\n",
       "      <td>You are a precise and concise translation assi...</td>\n",
       "      <td>Translate the following English text into Hebr...</td>\n",
       "      <td>prompts/translation/openai/translation_prompts...</td>\n",
       "      <td>gpt-4o-mini-2024-07-18</td>\n",
       "      <td>31.683413</td>\n",
       "    </tr>\n",
       "  </tbody>\n",
       "</table>\n",
       "</div>"
      ],
      "text/plain": [
       "                                                  _id  segment_id  \\\n",
       "0                                         Dave_Roller           0   \n",
       "1                                    Akhtar_Mohiuddin           0   \n",
       "2                                   Lou_Holtz_(actor)           0   \n",
       "3                                   Leiothrix_(plant)           0   \n",
       "4                                     Julian_McGauran           0   \n",
       "5                        Everything's_Coming_up_Roses           0   \n",
       "6                                  Die_Tödliche_Doris           0   \n",
       "7                      Colonel_March_of_Scotland_Yard           0   \n",
       "8                                    Razi_High_School           0   \n",
       "9                           Arcadia_(popular_culture)           0   \n",
       "10                                           Ariadnet           0   \n",
       "11                       Cığalazade_Yusuf_Sinan_Pasha           0   \n",
       "12                                        Jones_House           0   \n",
       "13  Laboratory_animal_suppliers_in_the_United_Kingdom           0   \n",
       "14                                               WPLP           0   \n",
       "15                                     Anjula_Mutanda           0   \n",
       "16                                            Isaly's           0   \n",
       "17                                      Rebel_Randall           0   \n",
       "18                                John_Robert_Beyster           0   \n",
       "19                                      Sony_Broadway           0   \n",
       "20             List_of_abnormal_behaviours_in_animals           0   \n",
       "21                                2016_Honda_Indy_200           0   \n",
       "22           Global_Community_Communications_Alliance           0   \n",
       "23                                   Ralph_W._Beiting           0   \n",
       "24                                       Matthew_4:19           0   \n",
       "25                           List_of_noctuid_genera:H           0   \n",
       "26            German_Socialist_Labour_Party_of_Poland           0   \n",
       "27                              John_Levett_(athlete)           0   \n",
       "28                                  Luscombe_Searelle           0   \n",
       "29                             Deutscher_Künstlerbund           0   \n",
       "\n",
       "                                          translation  \\\n",
       "0   דיוויד יואל רולר (נולד ב-28 באוקטובר 1949 בדיי...   \n",
       "1   אכטר מוחיודין (נולד בח'מן, פקיסטן), הוא המאמן ...   \n",
       "2   לוא הולץ (11 באפריל 1893 - 22 בספטמבר 1980, בב...   \n",
       "3   Leiothrix הוא סוג של צמחים במשפחת ה-Eriocaulac...   \n",
       "4   ג'וליאן מקגורן (נולד 5 במרץ 1957), פוליטיקאי א...   \n",
       "5   \"הכל מגיע עם ורדים\" היא שיר מתוך המוזיקל בברוד...   \n",
       "6   דַּיֵּי טוֹדְלִיכֶה דּוֹרִיס (דוריס הקטלנית; מ...   \n",
       "7   הקולונל מארץ של סקוטלנד יארד היא סדרת טלוויזיה...   \n",
       "8   ליקיי רזי (בפרסית: دبیرستان رازی) מתורגם לאנגל...   \n",
       "9   בעקבות משמעותה המיתולוגית כטבע פראי, הרמוני ול...   \n",
       "10  הרשת הלאומית למחקר ואקדמיה (NREN) של יוון בתקו...   \n",
       "11  Cığalazade Yusuf Sinan Pasha (המכונה גם Cağalo...   \n",
       "12  ג'ונס האוס עשוי להתייחס ל: בארצות הברית (לפי מ...   \n",
       "13  ספקי חיות מעבדה בממלכה המאוחדת מגדלים בעלי חיי...   \n",
       "14  WPLP AM הייתה תחנת הרדיו הראשונה ב-24 שעות חדש...   \n",
       "15  אנג'ולה מוטנדה, שנולדה להורים ממוצא הודי/אוגנד...   \n",
       "16  Isaly's הייתה רשת של חלבניות ומסעדות בבעלות מש...   \n",
       "17  רֵבֵּל רַנְדָל (נולדה כאליין שארלוט דורתי ברנד...   \n",
       "18  John Robert Beyster (26 ביולי 1924 - 22 בדצמבר...   \n",
       "19  סוני ברודוויי הייתה תווית שהוקמה על ידי סוני מ...   \n",
       "20  התנהגות לא נורמלית בבעלי חיים יכולה להיות מוגד...   \n",
       "21  ההונדא אינדי 200 של 2016 היה הסיבוב ה-12 בסדרת...   \n",
       "22  ברית התקשורת הקהילתית הגלובלית, ארגון דתי וכנס...   \n",
       "23  מונסיניור ראלף ו. בייטינג (1 בינואר 1924 - 9 ב...   \n",
       "24  מתי 4:19 הוא הפסוק ה-19 בפרק הרביעי של הבשורה ...   \n",
       "25  משפחת העטלפים הגדולה Noctuidae כוללת את הסוגים...   \n",
       "26  המפלגה הסוציאליסטית הגרמנית של פולין ( Deutsch...   \n",
       "27  ג'ון לווית היה אתלט מהמאה ה-19 שזכה פעמיים בתו...   \n",
       "28  וויליאם לאסקומב סירל (1853 - 18 בדצמבר 1907) ה...   \n",
       "29  האגודה הגרמנית לאמנים (Deutscher Kuenstlerbund...   \n",
       "\n",
       "          translation_datetime  \\\n",
       "0   2025-03-19 18:12:22.257697   \n",
       "1   2025-03-19 18:14:34.163400   \n",
       "2   2025-03-19 18:12:23.882741   \n",
       "3   2025-03-19 18:12:00.913979   \n",
       "4   2025-03-19 18:12:43.085356   \n",
       "5   2025-03-19 18:12:44.809119   \n",
       "6   2025-03-19 18:12:35.638404   \n",
       "7   2025-03-19 18:12:17.553193   \n",
       "8   2025-03-19 18:12:36.698742   \n",
       "9   2025-03-19 18:13:21.120159   \n",
       "10  2025-03-19 18:12:46.217116   \n",
       "11  2025-03-19 18:13:12.567269   \n",
       "12  2025-03-19 18:14:06.304890   \n",
       "13  2025-03-19 18:13:42.871732   \n",
       "14  2025-03-19 18:13:24.346762   \n",
       "15  2025-03-19 18:13:24.470749   \n",
       "16  2025-03-19 18:13:24.192345   \n",
       "17  2025-03-19 18:14:01.171478   \n",
       "18  2025-03-19 18:14:01.356781   \n",
       "19  2025-03-19 18:14:05.296915   \n",
       "20  2025-03-19 18:13:57.400196   \n",
       "21  2025-03-19 18:13:56.241407   \n",
       "22  2025-03-19 18:14:02.614246   \n",
       "23  2025-03-19 18:14:21.015582   \n",
       "24  2025-03-19 18:14:31.047861   \n",
       "25  2025-03-19 18:14:40.842622   \n",
       "26  2025-03-19 18:14:43.393185   \n",
       "27  2025-03-19 18:15:26.542079   \n",
       "28  2025-03-19 18:14:41.444169   \n",
       "29  2025-03-19 18:14:36.996764   \n",
       "\n",
       "                                        system_prompt  \\\n",
       "0   You are a precise and concise translation assi...   \n",
       "1   You are a precise and concise translation assi...   \n",
       "2   You are a precise and concise translation assi...   \n",
       "3   You are a precise and concise translation assi...   \n",
       "4   You are a precise and concise translation assi...   \n",
       "5   You are a precise and concise translation assi...   \n",
       "6   You are a precise and concise translation assi...   \n",
       "7   You are a precise and concise translation assi...   \n",
       "8   You are a precise and concise translation assi...   \n",
       "9   You are a precise and concise translation assi...   \n",
       "10  You are a precise and concise translation assi...   \n",
       "11  You are a precise and concise translation assi...   \n",
       "12  You are a precise and concise translation assi...   \n",
       "13  You are a precise and concise translation assi...   \n",
       "14  You are a precise and concise translation assi...   \n",
       "15  You are a precise and concise translation assi...   \n",
       "16  You are a precise and concise translation assi...   \n",
       "17  You are a precise and concise translation assi...   \n",
       "18  You are a precise and concise translation assi...   \n",
       "19  You are a precise and concise translation assi...   \n",
       "20  You are a precise and concise translation assi...   \n",
       "21  You are a precise and concise translation assi...   \n",
       "22  You are a precise and concise translation assi...   \n",
       "23  You are a precise and concise translation assi...   \n",
       "24  You are a precise and concise translation assi...   \n",
       "25  You are a precise and concise translation assi...   \n",
       "26  You are a precise and concise translation assi...   \n",
       "27  You are a precise and concise translation assi...   \n",
       "28  You are a precise and concise translation assi...   \n",
       "29  You are a precise and concise translation assi...   \n",
       "\n",
       "                                          user_prompt  \\\n",
       "0   Translate the following English text into Hebr...   \n",
       "1   Translate the following English text into Hebr...   \n",
       "2   Translate the following English text into Hebr...   \n",
       "3   Translate the following English text into Hebr...   \n",
       "4   Translate the following English text into Hebr...   \n",
       "5   Translate the following English text into Hebr...   \n",
       "6   Translate the following English text into Hebr...   \n",
       "7   Translate the following English text into Hebr...   \n",
       "8   Translate the following English text into Hebr...   \n",
       "9   Translate the following English text into Hebr...   \n",
       "10  Translate the following English text into Hebr...   \n",
       "11  Translate the following English text into Hebr...   \n",
       "12  Translate the following English text into Hebr...   \n",
       "13  Translate the following English text into Hebr...   \n",
       "14  Translate the following English text into Hebr...   \n",
       "15  Translate the following English text into Hebr...   \n",
       "16  Translate the following English text into Hebr...   \n",
       "17  Translate the following English text into Hebr...   \n",
       "18  Translate the following English text into Hebr...   \n",
       "19  Translate the following English text into Hebr...   \n",
       "20  Translate the following English text into Hebr...   \n",
       "21  Translate the following English text into Hebr...   \n",
       "22  Translate the following English text into Hebr...   \n",
       "23  Translate the following English text into Hebr...   \n",
       "24  Translate the following English text into Hebr...   \n",
       "25  Translate the following English text into Hebr...   \n",
       "26  Translate the following English text into Hebr...   \n",
       "27  Translate the following English text into Hebr...   \n",
       "28  Translate the following English text into Hebr...   \n",
       "29  Translate the following English text into Hebr...   \n",
       "\n",
       "                                     prompt_file_name              model_name  \\\n",
       "0   prompts/translation/openai/translation_prompts...  gpt-4o-mini-2024-07-18   \n",
       "1   prompts/translation/openai/translation_prompts...  gpt-4o-mini-2024-07-18   \n",
       "2   prompts/translation/openai/translation_prompts...  gpt-4o-mini-2024-07-18   \n",
       "3   prompts/translation/openai/translation_prompts...  gpt-4o-mini-2024-07-18   \n",
       "4   prompts/translation/openai/translation_prompts...  gpt-4o-mini-2024-07-18   \n",
       "5   prompts/translation/openai/translation_prompts...  gpt-4o-mini-2024-07-18   \n",
       "6   prompts/translation/openai/translation_prompts...  gpt-4o-mini-2024-07-18   \n",
       "7   prompts/translation/openai/translation_prompts...  gpt-4o-mini-2024-07-18   \n",
       "8   prompts/translation/openai/translation_prompts...  gpt-4o-mini-2024-07-18   \n",
       "9   prompts/translation/openai/translation_prompts...  gpt-4o-mini-2024-07-18   \n",
       "10  prompts/translation/openai/translation_prompts...  gpt-4o-mini-2024-07-18   \n",
       "11  prompts/translation/openai/translation_prompts...  gpt-4o-mini-2024-07-18   \n",
       "12  prompts/translation/openai/translation_prompts...  gpt-4o-mini-2024-07-18   \n",
       "13  prompts/translation/openai/translation_prompts...  gpt-4o-mini-2024-07-18   \n",
       "14  prompts/translation/openai/translation_prompts...  gpt-4o-mini-2024-07-18   \n",
       "15  prompts/translation/openai/translation_prompts...  gpt-4o-mini-2024-07-18   \n",
       "16  prompts/translation/openai/translation_prompts...  gpt-4o-mini-2024-07-18   \n",
       "17  prompts/translation/openai/translation_prompts...  gpt-4o-mini-2024-07-18   \n",
       "18  prompts/translation/openai/translation_prompts...  gpt-4o-mini-2024-07-18   \n",
       "19  prompts/translation/openai/translation_prompts...  gpt-4o-mini-2024-07-18   \n",
       "20  prompts/translation/openai/translation_prompts...  gpt-4o-mini-2024-07-18   \n",
       "21  prompts/translation/openai/translation_prompts...  gpt-4o-mini-2024-07-18   \n",
       "22  prompts/translation/openai/translation_prompts...  gpt-4o-mini-2024-07-18   \n",
       "23  prompts/translation/openai/translation_prompts...  gpt-4o-mini-2024-07-18   \n",
       "24  prompts/translation/openai/translation_prompts...  gpt-4o-mini-2024-07-18   \n",
       "25  prompts/translation/openai/translation_prompts...  gpt-4o-mini-2024-07-18   \n",
       "26  prompts/translation/openai/translation_prompts...  gpt-4o-mini-2024-07-18   \n",
       "27  prompts/translation/openai/translation_prompts...  gpt-4o-mini-2024-07-18   \n",
       "28  prompts/translation/openai/translation_prompts...  gpt-4o-mini-2024-07-18   \n",
       "29  prompts/translation/openai/translation_prompts...  gpt-4o-mini-2024-07-18   \n",
       "\n",
       "    model_time  \n",
       "0    37.893707  \n",
       "1   169.801842  \n",
       "2    39.521419  \n",
       "3    16.552759  \n",
       "4    58.723813  \n",
       "5    60.447877  \n",
       "6    51.271717  \n",
       "7    33.191921  \n",
       "8    52.337422  \n",
       "9    80.197246  \n",
       "10   28.654351  \n",
       "11   50.300497  \n",
       "12  102.411987  \n",
       "13   67.223541  \n",
       "14   47.638297  \n",
       "15   41.375516  \n",
       "16   39.373889  \n",
       "17   74.938455  \n",
       "18   48.772264  \n",
       "19   44.162258  \n",
       "20   33.191317  \n",
       "21   31.880428  \n",
       "22   38.129629  \n",
       "23   38.134712  \n",
       "24   34.790454  \n",
       "25   43.433631  \n",
       "26   42.206109  \n",
       "27   85.168854  \n",
       "28   38.813326  \n",
       "29   31.683413  "
      ]
     },
     "execution_count": 88,
     "metadata": {},
     "output_type": "execute_result"
    }
   ],
   "source": [
    "file_name = 'long_docs.csv'\n",
    "source_df = pd.read_csv(f'/Users/asaf/Workspace/biu/hebrew_text_retrieval/outputs/translation/{file_name}')\n",
    "translation_df = pd.read_csv(f'/Users/asaf/Workspace/biu/hebrew_text_retrieval/outputs/translation/BeIR/gpt-4o-mini-2024-07-18/long_documents/{file_name}')\n",
    "selected_columns = [\"_id\", \"segment_id\", \"translation\", \"translation_datetime\",\"system_prompt\",\"user_prompt\",\"prompt_file_name\", 'model_name', 'model_time']\n",
    "print(len(translation_df[~translation_df['translation'].isna()]))\n",
    "translation_df[~translation_df['translation'].isna()][selected_columns].head(30)\n",
    "\n"
   ]
  },
  {
   "cell_type": "code",
   "execution_count": 89,
   "metadata": {},
   "outputs": [
    {
     "data": {
      "text/html": [
       "<div>\n",
       "<style scoped>\n",
       "    .dataframe tbody tr th:only-of-type {\n",
       "        vertical-align: middle;\n",
       "    }\n",
       "\n",
       "    .dataframe tbody tr th {\n",
       "        vertical-align: top;\n",
       "    }\n",
       "\n",
       "    .dataframe thead th {\n",
       "        text-align: right;\n",
       "    }\n",
       "</style>\n",
       "<table border=\"1\" class=\"dataframe\">\n",
       "  <thead>\n",
       "    <tr style=\"text-align: right;\">\n",
       "      <th></th>\n",
       "      <th>_id</th>\n",
       "      <th>text</th>\n",
       "      <th>length</th>\n",
       "      <th>dataset</th>\n",
       "      <th>segment_id</th>\n",
       "      <th>segment_text</th>\n",
       "      <th>translation</th>\n",
       "      <th>translation_datetime</th>\n",
       "      <th>system_prompt</th>\n",
       "      <th>user_prompt</th>\n",
       "      <th>prompt_file_name</th>\n",
       "      <th>model_name</th>\n",
       "      <th>model_time</th>\n",
       "    </tr>\n",
       "  </thead>\n",
       "  <tbody>\n",
       "    <tr>\n",
       "      <th>0</th>\n",
       "      <td>Dave_Roller</td>\n",
       "      <td>David Euell Roller ( born October 28 , 1949 in...</td>\n",
       "      <td>1033</td>\n",
       "      <td>BeIR/climate-fever</td>\n",
       "      <td>0</td>\n",
       "      <td>David Euell Roller ( born October 28 , 1949 in...</td>\n",
       "      <td>דיוויד יואל רולר (נולד ב-28 באוקטובר 1949 בדיי...</td>\n",
       "      <td>2025-03-19 18:12:22.257697</td>\n",
       "      <td>You are a precise and concise translation assi...</td>\n",
       "      <td>Translate the following English text into Hebr...</td>\n",
       "      <td>prompts/translation/openai/translation_prompts...</td>\n",
       "      <td>gpt-4o-mini-2024-07-18</td>\n",
       "      <td>37.893707</td>\n",
       "    </tr>\n",
       "    <tr>\n",
       "      <th>1</th>\n",
       "      <td>Akhtar_Mohiuddin</td>\n",
       "      <td>Akhtar Mohiuddin ( born in Chaman , Pakistan )...</td>\n",
       "      <td>4256</td>\n",
       "      <td>BeIR/climate-fever</td>\n",
       "      <td>0</td>\n",
       "      <td>Akhtar Mohiuddin ( born in Chaman , Pakistan )...</td>\n",
       "      <td>אכטר מוחיודין (נולד בח'מן, פקיסטן), הוא המאמן ...</td>\n",
       "      <td>2025-03-19 18:14:34.163400</td>\n",
       "      <td>You are a precise and concise translation assi...</td>\n",
       "      <td>Translate the following English text into Hebr...</td>\n",
       "      <td>prompts/translation/openai/translation_prompts...</td>\n",
       "      <td>gpt-4o-mini-2024-07-18</td>\n",
       "      <td>169.801842</td>\n",
       "    </tr>\n",
       "    <tr>\n",
       "      <th>2</th>\n",
       "      <td>Lou_Holtz_(actor)</td>\n",
       "      <td>Lou Holtz ( April 11 , 1893 -- September 22 , ...</td>\n",
       "      <td>1157</td>\n",
       "      <td>BeIR/climate-fever</td>\n",
       "      <td>0</td>\n",
       "      <td>Lou Holtz ( April 11 , 1893 -- September 22 , ...</td>\n",
       "      <td>לוא הולץ (11 באפריל 1893 - 22 בספטמבר 1980, בב...</td>\n",
       "      <td>2025-03-19 18:12:23.882741</td>\n",
       "      <td>You are a precise and concise translation assi...</td>\n",
       "      <td>Translate the following English text into Hebr...</td>\n",
       "      <td>prompts/translation/openai/translation_prompts...</td>\n",
       "      <td>gpt-4o-mini-2024-07-18</td>\n",
       "      <td>39.521419</td>\n",
       "    </tr>\n",
       "    <tr>\n",
       "      <th>3</th>\n",
       "      <td>Leiothrix_(plant)</td>\n",
       "      <td>Leiothrix is a genus of plants in the Eriocaul...</td>\n",
       "      <td>1174</td>\n",
       "      <td>BeIR/climate-fever</td>\n",
       "      <td>0</td>\n",
       "      <td>Leiothrix is a genus of plants in the Eriocaul...</td>\n",
       "      <td>Leiothrix הוא סוג של צמחים במשפחת ה-Eriocaulac...</td>\n",
       "      <td>2025-03-19 18:12:00.913979</td>\n",
       "      <td>You are a precise and concise translation assi...</td>\n",
       "      <td>Translate the following English text into Hebr...</td>\n",
       "      <td>prompts/translation/openai/translation_prompts...</td>\n",
       "      <td>gpt-4o-mini-2024-07-18</td>\n",
       "      <td>16.552759</td>\n",
       "    </tr>\n",
       "    <tr>\n",
       "      <th>4</th>\n",
       "      <td>Julian_McGauran</td>\n",
       "      <td>Julian McGauran ( born 5 March 1957 ) , Austra...</td>\n",
       "      <td>1563</td>\n",
       "      <td>BeIR/climate-fever</td>\n",
       "      <td>0</td>\n",
       "      <td>Julian McGauran ( born 5 March 1957 ) , Austra...</td>\n",
       "      <td>ג'וליאן מקגורן (נולד 5 במרץ 1957), פוליטיקאי א...</td>\n",
       "      <td>2025-03-19 18:12:43.085356</td>\n",
       "      <td>You are a precise and concise translation assi...</td>\n",
       "      <td>Translate the following English text into Hebr...</td>\n",
       "      <td>prompts/translation/openai/translation_prompts...</td>\n",
       "      <td>gpt-4o-mini-2024-07-18</td>\n",
       "      <td>58.723813</td>\n",
       "    </tr>\n",
       "  </tbody>\n",
       "</table>\n",
       "</div>"
      ],
      "text/plain": [
       "                 _id                                               text  \\\n",
       "0        Dave_Roller  David Euell Roller ( born October 28 , 1949 in...   \n",
       "1   Akhtar_Mohiuddin  Akhtar Mohiuddin ( born in Chaman , Pakistan )...   \n",
       "2  Lou_Holtz_(actor)  Lou Holtz ( April 11 , 1893 -- September 22 , ...   \n",
       "3  Leiothrix_(plant)  Leiothrix is a genus of plants in the Eriocaul...   \n",
       "4    Julian_McGauran  Julian McGauran ( born 5 March 1957 ) , Austra...   \n",
       "\n",
       "   length             dataset  segment_id  \\\n",
       "0    1033  BeIR/climate-fever           0   \n",
       "1    4256  BeIR/climate-fever           0   \n",
       "2    1157  BeIR/climate-fever           0   \n",
       "3    1174  BeIR/climate-fever           0   \n",
       "4    1563  BeIR/climate-fever           0   \n",
       "\n",
       "                                        segment_text  \\\n",
       "0  David Euell Roller ( born October 28 , 1949 in...   \n",
       "1  Akhtar Mohiuddin ( born in Chaman , Pakistan )...   \n",
       "2  Lou Holtz ( April 11 , 1893 -- September 22 , ...   \n",
       "3  Leiothrix is a genus of plants in the Eriocaul...   \n",
       "4  Julian McGauran ( born 5 March 1957 ) , Austra...   \n",
       "\n",
       "                                         translation  \\\n",
       "0  דיוויד יואל רולר (נולד ב-28 באוקטובר 1949 בדיי...   \n",
       "1  אכטר מוחיודין (נולד בח'מן, פקיסטן), הוא המאמן ...   \n",
       "2  לוא הולץ (11 באפריל 1893 - 22 בספטמבר 1980, בב...   \n",
       "3  Leiothrix הוא סוג של צמחים במשפחת ה-Eriocaulac...   \n",
       "4  ג'וליאן מקגורן (נולד 5 במרץ 1957), פוליטיקאי א...   \n",
       "\n",
       "         translation_datetime  \\\n",
       "0  2025-03-19 18:12:22.257697   \n",
       "1  2025-03-19 18:14:34.163400   \n",
       "2  2025-03-19 18:12:23.882741   \n",
       "3  2025-03-19 18:12:00.913979   \n",
       "4  2025-03-19 18:12:43.085356   \n",
       "\n",
       "                                       system_prompt  \\\n",
       "0  You are a precise and concise translation assi...   \n",
       "1  You are a precise and concise translation assi...   \n",
       "2  You are a precise and concise translation assi...   \n",
       "3  You are a precise and concise translation assi...   \n",
       "4  You are a precise and concise translation assi...   \n",
       "\n",
       "                                         user_prompt  \\\n",
       "0  Translate the following English text into Hebr...   \n",
       "1  Translate the following English text into Hebr...   \n",
       "2  Translate the following English text into Hebr...   \n",
       "3  Translate the following English text into Hebr...   \n",
       "4  Translate the following English text into Hebr...   \n",
       "\n",
       "                                    prompt_file_name              model_name  \\\n",
       "0  prompts/translation/openai/translation_prompts...  gpt-4o-mini-2024-07-18   \n",
       "1  prompts/translation/openai/translation_prompts...  gpt-4o-mini-2024-07-18   \n",
       "2  prompts/translation/openai/translation_prompts...  gpt-4o-mini-2024-07-18   \n",
       "3  prompts/translation/openai/translation_prompts...  gpt-4o-mini-2024-07-18   \n",
       "4  prompts/translation/openai/translation_prompts...  gpt-4o-mini-2024-07-18   \n",
       "\n",
       "   model_time  \n",
       "0   37.893707  \n",
       "1  169.801842  \n",
       "2   39.521419  \n",
       "3   16.552759  \n",
       "4   58.723813  "
      ]
     },
     "execution_count": 89,
     "metadata": {},
     "output_type": "execute_result"
    }
   ],
   "source": [
    "merged_df = source_df.merge(translation_df[selected_columns],\n",
    "                            on=[\"_id\", \"segment_id\"], \n",
    "                            how=\"left\")\n",
    "merged_df[:300].to_csv(f'/Users/asaf/Workspace/biu/hebrew_text_retrieval/outputs/translation/BeIR/gpt-4o-mini-2024-07-18/long_documents/{file_name}', index=False)\n",
    "\n",
    "merged_df.head()"
   ]
  },
  {
   "cell_type": "code",
   "execution_count": 16,
   "metadata": {},
   "outputs": [
    {
     "data": {
      "text/plain": [
       "(99, 29)"
      ]
     },
     "execution_count": 16,
     "metadata": {},
     "output_type": "execute_result"
    }
   ],
   "source": [
    "base_translated_df = pd.read_csv('/Users/asaf/Workspace/biu/hebrew_text_retrieval/outputs/translation/BeIR/gpt-4o-mini-2024-07-18/long_documents/long_docs_evaluation.csv')\n",
    "base_translated_df = base_translated_df[base_translated_df['translation'].notnull()]\n",
    "unique_based_translated_ids = base_translated_df['_id'].unique().tolist()\n",
    "base_translated_df.shape"
   ]
  },
  {
   "cell_type": "code",
   "execution_count": 18,
   "metadata": {},
   "outputs": [
    {
     "data": {
      "text/plain": [
       "(4, 29)"
      ]
     },
     "execution_count": 18,
     "metadata": {},
     "output_type": "execute_result"
    }
   ],
   "source": [
    "segmented_evaluated_1024_df = pd.read_csv('/Users/asaf/Workspace/biu/hebrew_text_retrieval/outputs/translation/BeIR/gpt-4o-mini-2024-07-18/long_documents/long_docs_segmented_1024_evaluation.csv')\n",
    "segmented_evaluated_1024_df = segmented_evaluated_1024_df[segmented_evaluated_1024_df['translation'].notnull() & segmented_evaluated_1024_df['_id'].isin(unique_based_translated_ids)]\n",
    "segmented_evaluated_1024_df.shape"
   ]
  },
  {
   "cell_type": "code",
   "execution_count": null,
   "metadata": {},
   "outputs": [],
   "source": []
  }
 ],
 "metadata": {
  "kernelspec": {
   "display_name": "htr",
   "language": "python",
   "name": "python3"
  },
  "language_info": {
   "codemirror_mode": {
    "name": "ipython",
    "version": 3
   },
   "file_extension": ".py",
   "mimetype": "text/x-python",
   "name": "python",
   "nbconvert_exporter": "python",
   "pygments_lexer": "ipython3",
   "version": "3.11.11"
  }
 },
 "nbformat": 4,
 "nbformat_minor": 2
}
