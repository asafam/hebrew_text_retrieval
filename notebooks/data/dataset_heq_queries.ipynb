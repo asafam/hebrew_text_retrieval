{
 "cells": [
  {
   "cell_type": "code",
   "execution_count": 9,
   "id": "1b1cd805",
   "metadata": {},
   "outputs": [],
   "source": [
    "import json\n",
    "from tqdm import tqdm"
   ]
  },
  {
   "cell_type": "code",
   "execution_count": 2,
   "id": "49ab3d72",
   "metadata": {},
   "outputs": [],
   "source": [
    "import os\n",
    "\n",
    "project_dir = \"/home/nlp/achimoa/workspace/hebrew_text_retrieval\"\n",
    "os.chdir(project_dir)"
   ]
  },
  {
   "cell_type": "code",
   "execution_count": null,
   "id": "b2686218",
   "metadata": {},
   "outputs": [],
   "source": [
    "queries_file_path = \"data/retrieval/heq/test/queries.jsonl\"\n",
    "documents_file_path = \"data/retrieval/heq/test/documents.jsonl\"\n",
    "\n",
    "with open(queries_file_path, \"r\") as f:\n",
    "    queries = [json.loads(line) for line in f]\n",
    "\n",
    "with open(documents_file_path, \"r\") as f:\n",
    "    documents = [json.loads(line) for line in f]"
   ]
  },
  {
   "cell_type": "code",
   "execution_count": 11,
   "id": "42dbcc31",
   "metadata": {},
   "outputs": [],
   "source": [
    "def get_document_id_for_query(query, documents, query_document_text_field=\"context\", document_text_field=\"text\", document_id_field=\"guid\"):\n",
    "    target_text = query[query_document_text_field]\n",
    "    for doc in documents:\n",
    "        if document_text_field in doc and doc[document_text_field] == target_text:\n",
    "            return doc[document_id_field]\n",
    "    raise ValueError(f\"Document for query '{query['guid']}' not found in documents.\")"
   ]
  },
  {
   "cell_type": "code",
   "execution_count": 19,
   "id": "6ec1f6a5",
   "metadata": {},
   "outputs": [
    {
     "name": "stderr",
     "output_type": "stream",
     "text": [
      "Processing queries: 100%|██████████| 150/150 [00:00<00:00, 119021.11query/s]\n"
     ]
    }
   ],
   "source": [
    "for query in tqdm(queries, desc=\"Processing queries\", unit=\"query\"):\n",
    "    document_id_field = \"guid\"\n",
    "    query_document_text_field = \"context\"\n",
    "    document_text_field = \"context\"\n",
    "    query[f\"{query_document_text_field}_{document_id_field}\"] = get_document_id_for_query(\n",
    "        query, \n",
    "        documents,\n",
    "        query_document_text_field=query_document_text_field,\n",
    "        document_text_field=document_text_field,\n",
    "        document_id_field=document_id_field\n",
    "    )"
   ]
  },
  {
   "cell_type": "code",
   "execution_count": 20,
   "id": "da345371",
   "metadata": {},
   "outputs": [
    {
     "data": {
      "text/plain": [
       "('de41af6ff9ed66ce91329884ef5ebbbcb50ee6f93b51d25355ada46024194ddd',\n",
       " 'לאיזו כנסת נכנסה ורבין לראשונה?',\n",
       " {'id': '26d03c3e-7d0d-4c4e-9ade-f2bcb7cd0dc7',\n",
       "  'title': 'איילת נחמיאס-ורבין',\n",
       "  'source': 'Wikipedia',\n",
       "  'context': 'בשנת 2012, התמודדה לראשונה בפריימריז של מפלגת העבודה לקראת הבחירות לכנסת התשע עשרה והגיעה למקום ה־36 ברשימה הארצית (הבטחת ייצוג לאישה). ב־2015 לקראת הבחירות לכנסת העשרים, התמודדה ורבין בפריימריז של מפלגת העבודה והוצבה במקום ה-22 ברשימת המחנה הציוני לכנסת, אשר שוריין לאישה ונבחרה לכנסת. בשנת הכהונה הראשונה שלה בכנסת, העניק לה המכון הישראלי לדמוקרטיה את אות הפרלמנטר המצטיין לשנת 2016. חברה בוועדת החוץ וביטחון, שם היא חברה בוועדת המשנה לכוח אדם. יזמה וישבה בראש וועדת המשנה לבחינת משק האשראי בישראל. יזמה וחברה בוועדת החקירה הפרלמנטרית לבחינת משק האשראי בישראל, וכן חברה בוועדת הכלכלה, וועדת הכנסת והוועדה המיוחדת לזכויות הילד, ובוועדת המשנה לקידום עסקים קטנים ובינוניים.',\n",
       "  'question': 'לאיזו כנסת נכנסה ורבין לראשונה?',\n",
       "  'answers': \"{'text': ['כנסת העשרים', 'העשרים', 'עשרים'], 'answer_start': [158, 163, 164]}\",\n",
       "  'is_impossible': True,\n",
       "  'wh_question': 'איזו',\n",
       "  'question_quality': 'checked',\n",
       "  'guid': 'de41af6ff9ed66ce91329884ef5ebbbcb50ee6f93b51d25355ada46024194ddd',\n",
       "  'text': 'בשנת 2012, התמודדה לראשונה בפריימריז של מפלגת העבודה לקראת הבחירות לכנסת התשע עשרה והגיעה למקום ה־36 ברשימה הארצית (הבטחת ייצוג לאישה). ב־2015 לקראת הבחירות לכנסת העשרים, התמודדה ורבין בפריימריז של מפלגת העבודה והוצבה במקום ה-22 ברשימת המחנה הציוני לכנסת, אשר שוריין לאישה ונבחרה לכנסת. בשנת הכהונה הראשונה שלה בכנסת, העניק לה המכון הישראלי לדמוקרטיה את אות הפרלמנטר המצטיין לשנת 2016. חברה בוועדת החוץ וביטחון, שם היא חברה בוועדת המשנה לכוח אדם. יזמה וישבה בראש וועדת המשנה לבחינת משק האשראי בישראל. יזמה וחברה בוועדת החקירה הפרלמנטרית לבחינת משק האשראי בישראל, וכן חברה בוועדת הכלכלה, וועדת הכנסת והוועדה המיוחדת לזכויות הילד, ובוועדת המשנה לקידום עסקים קטנים ובינוניים.',\n",
       "  '_source': 'heq',\n",
       "  '_row_number': 119})"
      ]
     },
     "execution_count": 20,
     "metadata": {},
     "output_type": "execute_result"
    }
   ],
   "source": [
    "query = queries[119]\n",
    "\n",
    "query[\"context_guid\"], query[\"question\"], next((doc for doc in documents if doc[\"guid\"] == query[\"context_guid\"]), None)"
   ]
  },
  {
   "cell_type": "code",
   "execution_count": 21,
   "id": "a23f20c8",
   "metadata": {},
   "outputs": [
    {
     "data": {
      "text/plain": [
       "dict_keys(['id', 'title', 'source', 'context', 'question', 'answers', 'is_impossible', 'wh_question', 'question_quality', 'guid', 'text', '_source', '_row_number', 'context_guid'])"
      ]
     },
     "execution_count": 21,
     "metadata": {},
     "output_type": "execute_result"
    }
   ],
   "source": [
    "queries[0].keys()"
   ]
  },
  {
   "cell_type": "code",
   "execution_count": 18,
   "id": "551b7b58",
   "metadata": {},
   "outputs": [
    {
     "name": "stdout",
     "output_type": "stream",
     "text": [
      "Updated queries saved to data/retrieval/heq/test/queries.jsonl\n"
     ]
    }
   ],
   "source": [
    "# Save the updated queries with document IDs\n",
    "with open(queries_file_path, \"w\") as f:\n",
    "    for query in queries:\n",
    "        f.write(json.dumps(query, ensure_ascii=False) + \"\\n\")\n",
    "print(f\"Updated queries saved to {queries_file_path}\")"
   ]
  },
  {
   "cell_type": "code",
   "execution_count": null,
   "id": "1c16fdba",
   "metadata": {},
   "outputs": [],
   "source": [
    "'data/retrieval/heq/test/queries.jsonl'\n",
    "'data/retrieval/heq/test/queries.jsonl'"
   ]
  }
 ],
 "metadata": {
  "kernelspec": {
   "display_name": "htr",
   "language": "python",
   "name": "python3"
  },
  "language_info": {
   "codemirror_mode": {
    "name": "ipython",
    "version": 3
   },
   "file_extension": ".py",
   "mimetype": "text/x-python",
   "name": "python",
   "nbconvert_exporter": "python",
   "pygments_lexer": "ipython3",
   "version": "3.12.9"
  }
 },
 "nbformat": 4,
 "nbformat_minor": 5
}
