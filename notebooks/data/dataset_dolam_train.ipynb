{
 "cells": [
  {
   "cell_type": "code",
   "execution_count": 35,
   "metadata": {},
   "outputs": [],
   "source": [
    "from typing import List, Dict, Any\n",
    "import glob\n",
    "from datasets import load_dataset, IterableDataset\n",
    "from itertools import islice, chain\n",
    "import json\n",
    "import sentencepiece as spm\n",
    "from transformers import PreTrainedTokenizerFast"
   ]
  },
  {
   "cell_type": "code",
   "execution_count": 18,
   "metadata": {},
   "outputs": [],
   "source": [
    "model_file = \"/home/nlp/achimoa/workspace/hebrew_text_retrieval/outputs/tokenizer/HebrewModernBERT_mixed_1M_100K.model\"\n",
    "tokenizer = spm.SentencePieceProcessor(model_file=model_file)"
   ]
  },
  {
   "cell_type": "code",
   "execution_count": null,
   "metadata": {},
   "outputs": [],
   "source": [
    "def tokenize(text: str) -> List[str]:\n",
    "    return tokenizer.encode(text)\n",
    "\n",
    "def filter_valid_text(example):\n",
    "    return example.get(\"text\") not in [None, \"\", \"null\"]\n",
    "\n",
    "def keep_text_source(example):\n",
    "    return {\n",
    "        \"text\": example[\"text\"],\n",
    "        \"source\": example.get(\"source\")\n",
    "    }\n",
    "\n",
    "def load_and_sample_by_tokens(files, token_budget, tokenizer, shuffle_buffer, seed):\n",
    "    dataset = (\n",
    "        load_dataset(\"json\", data_files=files, split=\"train\", streaming=True)\n",
    "        .filter(filter_valid_text)\n",
    "        .map(keep_text_source)\n",
    "        .shuffle(buffer_size=shuffle_buffer, seed=seed)\n",
    "    )\n",
    "\n",
    "    def generator():\n",
    "        total_tokens = 0\n",
    "        for i, example in enumerate(dataset):\n",
    "            token_count = len(tokenizer.encode(example[\"text\"]))\n",
    "            if total_tokens + token_count > token_budget:\n",
    "                print(f\"Reached token budget limit ({i+1} samples). Stopping.\")\n",
    "                break\n",
    "            total_tokens += token_count\n",
    "            yield example\n",
    "\n",
    "    return generator\n"
   ]
  },
  {
   "cell_type": "code",
   "execution_count": 34,
   "metadata": {},
   "outputs": [],
   "source": [
    "# Paths to all files\n",
    "all_files = glob.glob('../../data/**/*.json.gz', recursive=True)\n",
    "\n",
    "# Separate StarCoder files from the rest\n",
    "starcoder_files = [f for f in all_files if 'starcoder' in f]\n",
    "other_files = [f for f in all_files if 'starcoder' not in f]"
   ]
  },
  {
   "cell_type": "code",
   "execution_count": 36,
   "metadata": {},
   "outputs": [],
   "source": [
    "def combined_generator():\n",
    "    starcoder_gen = load_and_sample_by_tokens(\n",
    "        starcoder_files,\n",
    "        token_budget=25_000_000_000,\n",
    "        tokenizer=tokenizer,\n",
    "        shuffle_buffer=100_000,\n",
    "        seed=42\n",
    "    )\n",
    "    other_gen = load_and_sample_by_tokens(\n",
    "        other_files,\n",
    "        token_budget=25_000_000_000,\n",
    "        tokenizer=tokenizer,\n",
    "        shuffle_buffer=1_000_000,\n",
    "        seed=42\n",
    "    )\n",
    "    return chain(starcoder_gen(), other_gen())\n",
    "\n",
    "combined_dataset = IterableDataset.from_generator(combined_generator)"
   ]
  },
  {
   "cell_type": "code",
   "execution_count": null,
   "metadata": {},
   "outputs": [],
   "source": [
    "shuffled_dataset = combined_dataset.shuffle(buffer_size=1_000_000, seed=42)"
   ]
  },
  {
   "cell_type": "code",
   "execution_count": null,
   "metadata": {},
   "outputs": [
    {
     "data": {
      "application/vnd.jupyter.widget-view+json": {
       "model_id": "6a83409f91cb458981f19c1e5a184215",
       "version_major": 2,
       "version_minor": 0
      },
      "text/plain": [
       "Resolving data files:   0%|          | 0/49 [00:00<?, ?it/s]"
      ]
     },
     "metadata": {},
     "output_type": "display_data"
    },
    {
     "data": {
      "application/vnd.jupyter.widget-view+json": {
       "model_id": "9607ab85aaf64619a8a43ad1dac25fb2",
       "version_major": 2,
       "version_minor": 0
      },
      "text/plain": [
       "Resolving data files:   0%|          | 0/2370 [00:00<?, ?it/s]"
      ]
     },
     "metadata": {},
     "output_type": "display_data"
    }
   ],
   "source": [
    "with open(f\"../../data/dolma/corpus_sampled_50B.jsonl\", \"w\") as f:\n",
    "    for sample in shuffled_dataset:\n",
    "        json.dump(sample, f, ensure_ascii=False)\n",
    "        f.write(\"\\n\")"
   ]
  },
  {
   "cell_type": "markdown",
   "metadata": {},
   "source": []
  }
 ],
 "metadata": {
  "kernelspec": {
   "display_name": "bert24",
   "language": "python",
   "name": "python3"
  },
  "language_info": {
   "codemirror_mode": {
    "name": "ipython",
    "version": 3
   },
   "file_extension": ".py",
   "mimetype": "text/x-python",
   "name": "python",
   "nbconvert_exporter": "python",
   "pygments_lexer": "ipython3",
   "version": "3.11.9"
  }
 },
 "nbformat": 4,
 "nbformat_minor": 2
}
