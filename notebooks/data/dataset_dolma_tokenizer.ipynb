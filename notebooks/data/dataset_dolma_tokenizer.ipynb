{
 "cells": [
  {
   "cell_type": "code",
   "execution_count": null,
   "metadata": {},
   "outputs": [],
   "source": [
    "import glob\n",
    "from datasets import load_dataset, IterableDataset\n",
    "from itertools import islice, chain\n",
    "from tqdm import tqdm\n",
    "import json\n",
    "from pathlib import Path"
   ]
  },
  {
   "cell_type": "code",
   "execution_count": null,
   "metadata": {},
   "outputs": [],
   "source": [
    "# Paths to all files\n",
    "all_files = glob.glob('../../data/**/*.json.gz', recursive=True)\n",
    "\n",
    "# Separate StarCoder files from the rest\n",
    "starcoder_files = [f for f in all_files if 'starcoder' in f]\n",
    "other_files = [f for f in all_files if 'starcoder' not in f]\n",
    "\n",
    "def filter_valid_text(example):\n",
    "    return example.get(\"text\") not in [None, \"\", \"null\"]\n",
    "\n",
    "def keep_text_source(example):\n",
    "    return {\n",
    "        \"text\": example[\"text\"],\n",
    "        \"source\": example.get(\"source\")\n",
    "    }\n",
    "\n",
    "def load_and_sample(files, count, shuffle_buffer, seed):\n",
    "    return islice(\n",
    "        load_dataset(\"json\", data_files=files, split=\"train\", streaming=True)\n",
    "        .filter(filter_valid_text)\n",
    "        .map(keep_text_source)\n",
    "        .shuffle(buffer_size=shuffle_buffer, seed=seed),\n",
    "        count\n",
    "    )\n",
    "\n",
    "def combined_generator():\n",
    "    starcoder = load_and_sample(starcoder_files, 250_000, shuffle_buffer=100_000, seed=42)\n",
    "    other = load_and_sample(other_files, 250_000, shuffle_buffer=1_000_000, seed=42)\n",
    "    return chain(starcoder, other)"
   ]
  },
  {
   "cell_type": "code",
   "execution_count": null,
   "metadata": {},
   "outputs": [],
   "source": [
    "combined_dataset = IterableDataset.from_generator(combined_generator)"
   ]
  },
  {
   "cell_type": "code",
   "execution_count": 12,
   "metadata": {},
   "outputs": [
    {
     "name": "stdout",
     "output_type": "stream",
     "text": [
      "Shuffling interleaved dataset...\n"
     ]
    }
   ],
   "source": [
    "print(\"Shuffling interleaved dataset...\")\n",
    "shuffled_combined = combined_dataset.shuffle(buffer_size=500_000, seed=42)"
   ]
  },
  {
   "cell_type": "code",
   "execution_count": 13,
   "metadata": {},
   "outputs": [
    {
     "name": "stdout",
     "output_type": "stream",
     "text": [
      "Writing to file...\n"
     ]
    },
    {
     "name": "stderr",
     "output_type": "stream",
     "text": [
      "0it [00:00, ?it/s]"
     ]
    },
    {
     "data": {
      "application/vnd.jupyter.widget-view+json": {
       "model_id": "3163436c721f42798379d50285f14e3a",
       "version_major": 2,
       "version_minor": 0
      },
      "text/plain": [
       "Resolving data files:   0%|          | 0/49 [00:00<?, ?it/s]"
      ]
     },
     "metadata": {},
     "output_type": "display_data"
    },
    {
     "data": {
      "application/vnd.jupyter.widget-view+json": {
       "model_id": "107bbdb97afc45a6b773026bf6510e8c",
       "version_major": 2,
       "version_minor": 0
      },
      "text/plain": [
       "Resolving data files:   0%|          | 0/2370 [00:00<?, ?it/s]"
      ]
     },
     "metadata": {},
     "output_type": "display_data"
    },
    {
     "name": "stderr",
     "output_type": "stream",
     "text": [
      "500000it [05:19, 1564.94it/s] \n"
     ]
    }
   ],
   "source": [
    "print(\"Writing to file...\")\n",
    "output_path = Path(\"../../data/dolma/tokenizer_corpus_500K.txt\")\n",
    "output_path.parent.mkdir(parents=True, exist_ok=True)\n",
    "\n",
    "with output_path.open(\"w\", encoding=\"utf-8\") as f:\n",
    "    for record in tqdm(shuffled_combined):\n",
    "        f.write(json.dumps(record['text']) + \"\\n\")"
   ]
  },
  {
   "cell_type": "code",
   "execution_count": null,
   "metadata": {},
   "outputs": [],
   "source": []
  },
  {
   "cell_type": "code",
   "execution_count": null,
   "metadata": {},
   "outputs": [],
   "source": [
    "from pathlib import Path\n",
    "import random\n",
    "\n",
    "# Define input and output paths\n",
    "file1 = Path(\"../../data/dolma/tokenizer_corpus_500K.txt\")\n",
    "file2 = Path(\"../../data/mafat/hebrew/tokenizer_corpus_500K.txt\")\n",
    "output_file = Path(\"../../data/tokenizer_corpus_1M.txt\")\n",
    "\n",
    "# Read and merge lines\n",
    "with file1.open(\"r\", encoding=\"utf-8\") as f1, file2.open(\"r\", encoding=\"utf-8\") as f2:\n",
    "    lines = f1.readlines() + f2.readlines()\n",
    "\n",
    "# Shuffle\n",
    "random.seed(42)  # for reproducibility\n",
    "random.shuffle(lines)\n",
    "\n",
    "# Write output\n",
    "with output_file.open(\"w\", encoding=\"utf-8\") as out:\n",
    "    out.writelines(lines)\n"
   ]
  },
  {
   "cell_type": "markdown",
   "metadata": {},
   "source": []
  }
 ],
 "metadata": {
  "kernelspec": {
   "display_name": "bert24",
   "language": "python",
   "name": "python3"
  },
  "language_info": {
   "codemirror_mode": {
    "name": "ipython",
    "version": 3
   },
   "file_extension": ".py",
   "mimetype": "text/x-python",
   "name": "python",
   "nbconvert_exporter": "python",
   "pygments_lexer": "ipython3",
   "version": "3.11.9"
  }
 },
 "nbformat": 4,
 "nbformat_minor": 2
}
