{
 "cells": [
  {
   "cell_type": "code",
   "execution_count": 6,
   "metadata": {},
   "outputs": [
    {
     "name": "stdout",
     "output_type": "stream",
     "text": [
      "Total original JSONL lines: 278939\n"
     ]
    }
   ],
   "source": [
    "import os\n",
    "\n",
    "jsonl_files = [\n",
    "    \"/home/nlp/achimoa/workspace/hebrew_text_retrieval/data/mft/hebrew/source/YisraelHayomData-Combined-Deduped.forgpt.jsonl\",\n",
    "    \"/home/nlp/achimoa/workspace/hebrew_text_retrieval/data/mft/hebrew/source/GeektimeCorpus-Combined-Deduped.forgpt.jsonl\"\n",
    "]\n",
    "jsonl_files = [f for f in jsonl_files]\n",
    "\n",
    "# Count total lines in all JSONL files\n",
    "original_count = 0\n",
    "for file in jsonl_files:\n",
    "    with open(file, \"r\", encoding=\"utf-8\") as f:\n",
    "        original_count += sum(1 for _ in f)\n",
    "\n",
    "print(f\"Total original JSONL lines: {original_count}\")\n"
   ]
  },
  {
   "cell_type": "code",
   "execution_count": 7,
   "metadata": {},
   "outputs": [
    {
     "name": "stderr",
     "output_type": "stream",
     "text": [
      "Because `predownload` was not specified, it will default to 8*batch_size if batch_size is not None, otherwise 64. Prior to Streaming v0.7.0, `predownload` defaulted to max(batch_size, 256 * batch_size // num_canonical_nodes).\n"
     ]
    },
    {
     "name": "stdout",
     "output_type": "stream",
     "text": [
      "Total records in MDS: 278939\n"
     ]
    }
   ],
   "source": [
    "from streaming import Stream, StreamingDataset\n",
    "\n",
    "output_dir = \"/home/nlp/achimoa/workspace/hebrew_text_retrieval/data/mft/hebrew/train\"  # Update with your actual MDS dataset directory\n",
    "\n",
    "stream = Stream(local=output_dir)\n",
    "dataset = StreamingDataset(streams=[stream])\n",
    "\n",
    "# Use `get_iter()` to create an iterable\n",
    "mds_count = len(dataset)\n",
    "\n",
    "print(f\"Total records in MDS: {mds_count}\")\n",
    "\n"
   ]
  },
  {
   "cell_type": "code",
   "execution_count": 4,
   "metadata": {},
   "outputs": [
    {
     "data": {
      "text/plain": [
       "278939"
      ]
     },
     "execution_count": 4,
     "metadata": {},
     "output_type": "execute_result"
    }
   ],
   "source": [
    "len(dataset)"
   ]
  },
  {
   "cell_type": "code",
   "execution_count": null,
   "metadata": {},
   "outputs": [],
   "source": []
  }
 ],
 "metadata": {
  "kernelspec": {
   "display_name": "bert24",
   "language": "python",
   "name": "python3"
  },
  "language_info": {
   "codemirror_mode": {
    "name": "ipython",
    "version": 3
   },
   "file_extension": ".py",
   "mimetype": "text/x-python",
   "name": "python",
   "nbconvert_exporter": "python",
   "pygments_lexer": "ipython3",
   "version": "3.11.9"
  }
 },
 "nbformat": 4,
 "nbformat_minor": 2
}
