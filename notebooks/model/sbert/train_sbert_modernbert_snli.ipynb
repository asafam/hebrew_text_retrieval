{
 "cells": [
  {
   "cell_type": "code",
   "execution_count": 6,
   "id": "a6aadade",
   "metadata": {},
   "outputs": [],
   "source": [
    "from datasets import load_dataset\n",
    "from sentence_transformers import SentenceTransformer, InputExample, models, losses\n",
    "from sentence_transformers.evaluation import LabelAccuracyEvaluator\n",
    "from sentence_transformers.evaluation import EmbeddingSimilarityEvaluator\n",
    "from torch.utils.data import DataLoader\n",
    "import os\n",
    "\n",
    "# Optional: Set which GPU to use\n",
    "os.environ[\"CUDA_VISIBLE_DEVICES\"] = \"0,1\"\n"
   ]
  },
  {
   "cell_type": "markdown",
   "id": "4d169954",
   "metadata": {},
   "source": [
    "## Preparing the dataset"
   ]
  },
  {
   "cell_type": "code",
   "execution_count": 7,
   "id": "cd2ac95c",
   "metadata": {},
   "outputs": [
    {
     "name": "stdout",
     "output_type": "stream",
     "text": [
      "Train: 183416, Val: 6607\n"
     ]
    }
   ],
   "source": [
    "from datasets import load_dataset\n",
    "from sentence_transformers import InputExample\n",
    "\n",
    "# Load both train and validation splits\n",
    "snli = load_dataset('snli')\n",
    "\n",
    "# Use only 'entailment' pairs (label==2) for MultipleNegativesRankingLoss\n",
    "def make_examples(dataset, include_negative=False):\n",
    "    examples = [\n",
    "        InputExample(texts=[item['premise'], item['hypothesis']], label=1.0)\n",
    "        for item in dataset\n",
    "        if item['label'] == 0 and item['premise'] and item['hypothesis']\n",
    "    ]\n",
    "    if include_negative:\n",
    "        examples += [\n",
    "            InputExample(texts=[item['hypothesis'], item['premise']], label=0.0)\n",
    "            for item in dataset\n",
    "            if item['label'] == 2 and item['premise'] and item['hypothesis']\n",
    "        ]\n",
    "    return examples\n",
    "\n",
    "train_examples = make_examples(snli['train'])\n",
    "val_examples   = make_examples(snli['validation'], include_negative=True)\n",
    "\n",
    "print(f\"Train: {len(train_examples)}, Val: {len(val_examples)}\")\n"
   ]
  },
  {
   "cell_type": "code",
   "execution_count": 8,
   "id": "51d66f56",
   "metadata": {},
   "outputs": [],
   "source": [
    "train_dataloader = DataLoader(train_examples, shuffle=True,  batch_size=512)\n",
    "val_dataloader = DataLoader(val_examples,   shuffle=False, batch_size=512)"
   ]
  },
  {
   "cell_type": "markdown",
   "id": "de127c3e",
   "metadata": {},
   "source": [
    "## Model setup"
   ]
  },
  {
   "cell_type": "code",
   "execution_count": 9,
   "id": "946253cf",
   "metadata": {},
   "outputs": [],
   "source": [
    "model_name = \"answerdotai/ModernBERT-base\"\n",
    "bert = models.Transformer(\n",
    "    model_name, \n",
    "    max_seq_length=8192,\n",
    ")\n",
    "pooling = models.Pooling(bert.get_word_embedding_dimension())\n",
    "sbert_model = SentenceTransformer(modules=[bert, pooling])"
   ]
  },
  {
   "cell_type": "markdown",
   "id": "82762315",
   "metadata": {},
   "source": [
    "## Loss function"
   ]
  },
  {
   "cell_type": "code",
   "execution_count": 10,
   "id": "89e5a315",
   "metadata": {},
   "outputs": [],
   "source": [
    "train_loss = losses.MultipleNegativesRankingLoss(sbert_model)"
   ]
  },
  {
   "cell_type": "markdown",
   "id": "fde23907",
   "metadata": {},
   "source": [
    "## Validation"
   ]
  },
  {
   "cell_type": "code",
   "execution_count": 11,
   "id": "2776b93d",
   "metadata": {},
   "outputs": [],
   "source": [
    "sents1 = [ex.texts[0] for ex in val_examples]\n",
    "sents2 = [ex.texts[1] for ex in val_examples]\n",
    "labels = [ex.label for ex in val_examples]\n",
    "\n",
    "val_evaluator = EmbeddingSimilarityEvaluator(sents1, sents2, labels, name='validation')"
   ]
  },
  {
   "cell_type": "markdown",
   "id": "73ed28b3",
   "metadata": {},
   "source": [
    "## Training"
   ]
  },
  {
   "cell_type": "code",
   "execution_count": 40,
   "id": "a981b797",
   "metadata": {},
   "outputs": [
    {
     "data": {
      "application/vnd.jupyter.widget-view+json": {
       "model_id": "0589cd91490d46ea8d9720cd6984b32d",
       "version_major": 2,
       "version_minor": 0
      },
      "text/plain": [
       "Epoch:   0%|          | 0/1 [00:00<?, ?it/s]"
      ]
     },
     "metadata": {},
     "output_type": "display_data"
    },
    {
     "data": {
      "application/vnd.jupyter.widget-view+json": {
       "model_id": "622ce9feccf84de8b2a55de6e2f6e473",
       "version_major": 2,
       "version_minor": 0
      },
      "text/plain": [
       "Iteration:   0%|          | 0/358 [00:00<?, ?it/s]"
      ]
     },
     "metadata": {},
     "output_type": "display_data"
    },
    {
     "name": "stderr",
     "output_type": "stream",
     "text": [
      "/home/nlp/achimoa/miniconda3/envs/htr/lib/python3.12/site-packages/sentence_transformers/evaluation/EmbeddingSimilarityEvaluator.py:120: ConstantInputWarning: An input array is constant; the correlation coefficient is not defined.\n",
      "  eval_pearson_cosine, _ = pearsonr(labels, cosine_scores)\n",
      "/home/nlp/achimoa/miniconda3/envs/htr/lib/python3.12/site-packages/sentence_transformers/evaluation/EmbeddingSimilarityEvaluator.py:121: ConstantInputWarning: An input array is constant; the correlation coefficient is not defined.\n",
      "  eval_spearman_cosine, _ = spearmanr(labels, cosine_scores)\n",
      "/home/nlp/achimoa/miniconda3/envs/htr/lib/python3.12/site-packages/sentence_transformers/evaluation/EmbeddingSimilarityEvaluator.py:123: ConstantInputWarning: An input array is constant; the correlation coefficient is not defined.\n",
      "  eval_pearson_manhattan, _ = pearsonr(labels, manhattan_distances)\n",
      "/home/nlp/achimoa/miniconda3/envs/htr/lib/python3.12/site-packages/sentence_transformers/evaluation/EmbeddingSimilarityEvaluator.py:124: ConstantInputWarning: An input array is constant; the correlation coefficient is not defined.\n",
      "  eval_spearman_manhattan, _ = spearmanr(labels, manhattan_distances)\n",
      "/home/nlp/achimoa/miniconda3/envs/htr/lib/python3.12/site-packages/sentence_transformers/evaluation/EmbeddingSimilarityEvaluator.py:126: ConstantInputWarning: An input array is constant; the correlation coefficient is not defined.\n",
      "  eval_pearson_euclidean, _ = pearsonr(labels, euclidean_distances)\n",
      "/home/nlp/achimoa/miniconda3/envs/htr/lib/python3.12/site-packages/sentence_transformers/evaluation/EmbeddingSimilarityEvaluator.py:127: ConstantInputWarning: An input array is constant; the correlation coefficient is not defined.\n",
      "  eval_spearman_euclidean, _ = spearmanr(labels, euclidean_distances)\n",
      "/home/nlp/achimoa/miniconda3/envs/htr/lib/python3.12/site-packages/sentence_transformers/evaluation/EmbeddingSimilarityEvaluator.py:129: ConstantInputWarning: An input array is constant; the correlation coefficient is not defined.\n",
      "  eval_pearson_dot, _ = pearsonr(labels, dot_products)\n",
      "/home/nlp/achimoa/miniconda3/envs/htr/lib/python3.12/site-packages/sentence_transformers/evaluation/EmbeddingSimilarityEvaluator.py:130: ConstantInputWarning: An input array is constant; the correlation coefficient is not defined.\n",
      "  eval_spearman_dot, _ = spearmanr(labels, dot_products)\n",
      "/home/nlp/achimoa/miniconda3/envs/htr/lib/python3.12/site-packages/sentence_transformers/evaluation/EmbeddingSimilarityEvaluator.py:120: ConstantInputWarning: An input array is constant; the correlation coefficient is not defined.\n",
      "  eval_pearson_cosine, _ = pearsonr(labels, cosine_scores)\n",
      "/home/nlp/achimoa/miniconda3/envs/htr/lib/python3.12/site-packages/sentence_transformers/evaluation/EmbeddingSimilarityEvaluator.py:121: ConstantInputWarning: An input array is constant; the correlation coefficient is not defined.\n",
      "  eval_spearman_cosine, _ = spearmanr(labels, cosine_scores)\n",
      "/home/nlp/achimoa/miniconda3/envs/htr/lib/python3.12/site-packages/sentence_transformers/evaluation/EmbeddingSimilarityEvaluator.py:123: ConstantInputWarning: An input array is constant; the correlation coefficient is not defined.\n",
      "  eval_pearson_manhattan, _ = pearsonr(labels, manhattan_distances)\n",
      "/home/nlp/achimoa/miniconda3/envs/htr/lib/python3.12/site-packages/sentence_transformers/evaluation/EmbeddingSimilarityEvaluator.py:124: ConstantInputWarning: An input array is constant; the correlation coefficient is not defined.\n",
      "  eval_spearman_manhattan, _ = spearmanr(labels, manhattan_distances)\n",
      "/home/nlp/achimoa/miniconda3/envs/htr/lib/python3.12/site-packages/sentence_transformers/evaluation/EmbeddingSimilarityEvaluator.py:126: ConstantInputWarning: An input array is constant; the correlation coefficient is not defined.\n",
      "  eval_pearson_euclidean, _ = pearsonr(labels, euclidean_distances)\n",
      "/home/nlp/achimoa/miniconda3/envs/htr/lib/python3.12/site-packages/sentence_transformers/evaluation/EmbeddingSimilarityEvaluator.py:127: ConstantInputWarning: An input array is constant; the correlation coefficient is not defined.\n",
      "  eval_spearman_euclidean, _ = spearmanr(labels, euclidean_distances)\n",
      "/home/nlp/achimoa/miniconda3/envs/htr/lib/python3.12/site-packages/sentence_transformers/evaluation/EmbeddingSimilarityEvaluator.py:129: ConstantInputWarning: An input array is constant; the correlation coefficient is not defined.\n",
      "  eval_pearson_dot, _ = pearsonr(labels, dot_products)\n",
      "/home/nlp/achimoa/miniconda3/envs/htr/lib/python3.12/site-packages/sentence_transformers/evaluation/EmbeddingSimilarityEvaluator.py:130: ConstantInputWarning: An input array is constant; the correlation coefficient is not defined.\n",
      "  eval_spearman_dot, _ = spearmanr(labels, dot_products)\n",
      "/home/nlp/achimoa/miniconda3/envs/htr/lib/python3.12/site-packages/sentence_transformers/evaluation/EmbeddingSimilarityEvaluator.py:120: ConstantInputWarning: An input array is constant; the correlation coefficient is not defined.\n",
      "  eval_pearson_cosine, _ = pearsonr(labels, cosine_scores)\n",
      "/home/nlp/achimoa/miniconda3/envs/htr/lib/python3.12/site-packages/sentence_transformers/evaluation/EmbeddingSimilarityEvaluator.py:121: ConstantInputWarning: An input array is constant; the correlation coefficient is not defined.\n",
      "  eval_spearman_cosine, _ = spearmanr(labels, cosine_scores)\n",
      "/home/nlp/achimoa/miniconda3/envs/htr/lib/python3.12/site-packages/sentence_transformers/evaluation/EmbeddingSimilarityEvaluator.py:123: ConstantInputWarning: An input array is constant; the correlation coefficient is not defined.\n",
      "  eval_pearson_manhattan, _ = pearsonr(labels, manhattan_distances)\n",
      "/home/nlp/achimoa/miniconda3/envs/htr/lib/python3.12/site-packages/sentence_transformers/evaluation/EmbeddingSimilarityEvaluator.py:124: ConstantInputWarning: An input array is constant; the correlation coefficient is not defined.\n",
      "  eval_spearman_manhattan, _ = spearmanr(labels, manhattan_distances)\n",
      "/home/nlp/achimoa/miniconda3/envs/htr/lib/python3.12/site-packages/sentence_transformers/evaluation/EmbeddingSimilarityEvaluator.py:126: ConstantInputWarning: An input array is constant; the correlation coefficient is not defined.\n",
      "  eval_pearson_euclidean, _ = pearsonr(labels, euclidean_distances)\n",
      "/home/nlp/achimoa/miniconda3/envs/htr/lib/python3.12/site-packages/sentence_transformers/evaluation/EmbeddingSimilarityEvaluator.py:127: ConstantInputWarning: An input array is constant; the correlation coefficient is not defined.\n",
      "  eval_spearman_euclidean, _ = spearmanr(labels, euclidean_distances)\n",
      "/home/nlp/achimoa/miniconda3/envs/htr/lib/python3.12/site-packages/sentence_transformers/evaluation/EmbeddingSimilarityEvaluator.py:129: ConstantInputWarning: An input array is constant; the correlation coefficient is not defined.\n",
      "  eval_pearson_dot, _ = pearsonr(labels, dot_products)\n",
      "/home/nlp/achimoa/miniconda3/envs/htr/lib/python3.12/site-packages/sentence_transformers/evaluation/EmbeddingSimilarityEvaluator.py:130: ConstantInputWarning: An input array is constant; the correlation coefficient is not defined.\n",
      "  eval_spearman_dot, _ = spearmanr(labels, dot_products)\n",
      "/home/nlp/achimoa/miniconda3/envs/htr/lib/python3.12/site-packages/sentence_transformers/evaluation/EmbeddingSimilarityEvaluator.py:120: ConstantInputWarning: An input array is constant; the correlation coefficient is not defined.\n",
      "  eval_pearson_cosine, _ = pearsonr(labels, cosine_scores)\n",
      "/home/nlp/achimoa/miniconda3/envs/htr/lib/python3.12/site-packages/sentence_transformers/evaluation/EmbeddingSimilarityEvaluator.py:121: ConstantInputWarning: An input array is constant; the correlation coefficient is not defined.\n",
      "  eval_spearman_cosine, _ = spearmanr(labels, cosine_scores)\n",
      "/home/nlp/achimoa/miniconda3/envs/htr/lib/python3.12/site-packages/sentence_transformers/evaluation/EmbeddingSimilarityEvaluator.py:123: ConstantInputWarning: An input array is constant; the correlation coefficient is not defined.\n",
      "  eval_pearson_manhattan, _ = pearsonr(labels, manhattan_distances)\n",
      "/home/nlp/achimoa/miniconda3/envs/htr/lib/python3.12/site-packages/sentence_transformers/evaluation/EmbeddingSimilarityEvaluator.py:124: ConstantInputWarning: An input array is constant; the correlation coefficient is not defined.\n",
      "  eval_spearman_manhattan, _ = spearmanr(labels, manhattan_distances)\n",
      "/home/nlp/achimoa/miniconda3/envs/htr/lib/python3.12/site-packages/sentence_transformers/evaluation/EmbeddingSimilarityEvaluator.py:126: ConstantInputWarning: An input array is constant; the correlation coefficient is not defined.\n",
      "  eval_pearson_euclidean, _ = pearsonr(labels, euclidean_distances)\n",
      "/home/nlp/achimoa/miniconda3/envs/htr/lib/python3.12/site-packages/sentence_transformers/evaluation/EmbeddingSimilarityEvaluator.py:127: ConstantInputWarning: An input array is constant; the correlation coefficient is not defined.\n",
      "  eval_spearman_euclidean, _ = spearmanr(labels, euclidean_distances)\n",
      "/home/nlp/achimoa/miniconda3/envs/htr/lib/python3.12/site-packages/sentence_transformers/evaluation/EmbeddingSimilarityEvaluator.py:129: ConstantInputWarning: An input array is constant; the correlation coefficient is not defined.\n",
      "  eval_pearson_dot, _ = pearsonr(labels, dot_products)\n",
      "/home/nlp/achimoa/miniconda3/envs/htr/lib/python3.12/site-packages/sentence_transformers/evaluation/EmbeddingSimilarityEvaluator.py:130: ConstantInputWarning: An input array is constant; the correlation coefficient is not defined.\n",
      "  eval_spearman_dot, _ = spearmanr(labels, dot_products)\n"
     ]
    }
   ],
   "source": [
    "sbert_model.fit(\n",
    "    train_objectives=[(train_dataloader, train_loss)],\n",
    "    evaluator=val_evaluator,\n",
    "    evaluation_steps=100,\n",
    "    epochs=1,\n",
    "    output_path='./outputs/models/sbert/sbert-modernbert-nli',\n",
    "    save_best_model=True,\n",
    ")"
   ]
  },
  {
   "cell_type": "markdown",
   "id": "d17eb99f",
   "metadata": {},
   "source": []
  }
 ],
 "metadata": {
  "kernelspec": {
   "display_name": "htr",
   "language": "python",
   "name": "python3"
  },
  "language_info": {
   "codemirror_mode": {
    "name": "ipython",
    "version": 3
   },
   "file_extension": ".py",
   "mimetype": "text/x-python",
   "name": "python",
   "nbconvert_exporter": "python",
   "pygments_lexer": "ipython3",
   "version": "3.12.9"
  }
 },
 "nbformat": 4,
 "nbformat_minor": 5
}
