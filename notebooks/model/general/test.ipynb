{
 "cells": [
  {
   "cell_type": "code",
   "execution_count": 3,
   "metadata": {},
   "outputs": [],
   "source": [
    "import pandas as pd\n",
    "import csv"
   ]
  },
  {
   "cell_type": "code",
   "execution_count": 24,
   "metadata": {},
   "outputs": [],
   "source": [
    "file_path = '/Users/asaf/Downloads/queries.csv'\n",
    "df = pd.read_csv(file_path, encoding='utf-8')\n",
    "df.to_csv('/Users/asaf/Downloads/queries2.csv', encoding='utf-16', index=False)"
   ]
  },
  {
   "cell_type": "code",
   "execution_count": 26,
   "metadata": {},
   "outputs": [
    {
     "name": "stdout",
     "output_type": "stream",
     "text": [
      "Encoding error: 'utf-8' codec can't decode byte 0xff in position 0: invalid start byte\n"
     ]
    }
   ],
   "source": [
    "\n",
    "import csv\n",
    "import pandas as pd\n",
    "\n",
    "try:\n",
    "    file_path = '/Users/asaf/Downloads/queries2.csv'\n",
    "    with open(file_path, encoding='utf-8') as f:\n",
    "        reader = csv.reader(f)\n",
    "        header_length = len(next(reader))\n",
    "        assert header_length == 5, f\"Error: Expected 5 columns, found {header_length}\"\n",
    "        for i, row in enumerate(reader, start=2):\n",
    "            if len(row) != header_length:\n",
    "                print(f\"Error: Row {i} has {len(row)} columns, expected {header_length}\")\n",
    "    print(\"File is UTF-8 encoded.\")\n",
    "\n",
    "    df = pd.read_csv(file_path, encoding='utf-8')\n",
    "    assert len(df) >= 20, \"Error: The number of queries is expected to be at least 20\"\n",
    "    assert len(df.columns) == header_length, f\"Error: Expected {header_length} columns, found {len(df.columns)}\"\n",
    "    print(f\"Number of rows: {len(df)}\")\n",
    "    print(f\"Number of columns: {len(df.columns)}\")\n",
    "    print(\"Column types:\")\n",
    "    for col in df.columns:\n",
    "        print(f\"{col}: {df[col].dtype}\")\n",
    "\n",
    "except UnicodeDecodeError as e:\n",
    "    print(f\"Encoding error: {e}\")\n",
    "\n",
    "\n"
   ]
  },
  {
   "cell_type": "code",
   "execution_count": 11,
   "metadata": {},
   "outputs": [
    {
     "data": {
      "text/html": [
       "<div>\n",
       "<style scoped>\n",
       "    .dataframe tbody tr th:only-of-type {\n",
       "        vertical-align: middle;\n",
       "    }\n",
       "\n",
       "    .dataframe tbody tr th {\n",
       "        vertical-align: top;\n",
       "    }\n",
       "\n",
       "    .dataframe thead th {\n",
       "        text-align: right;\n",
       "    }\n",
       "</style>\n",
       "<table border=\"1\" class=\"dataframe\">\n",
       "  <thead>\n",
       "    <tr style=\"text-align: right;\">\n",
       "      <th></th>\n",
       "      <th>a1b2b0fe</th>\n",
       "      <th>האם אפשר לפגוע בהיקף המשרה או בהכנסה של עובד או עובדת במשך חופשת הלידה?</th>\n",
       "      <th>במשך תקופת הלידה של עובד או עובדת, האם אפשר לפגוע היקף המשרה או ההכנסה של העובד או העובדת?</th>\n",
       "      <th>TRUE</th>\n",
       "      <th>אסור לפגוע בהיקף המשרה או בהכנסה של עובד/ת במשך חופשת הלידה ובמהלך 60 יום מתום חופשת הלידה, אלא בהיתר מאת משרד העבודה</th>\n",
       "    </tr>\n",
       "  </thead>\n",
       "  <tbody>\n",
       "    <tr>\n",
       "      <th>0</th>\n",
       "      <td>d8302b26</td>\n",
       "      <td>למה זכאים כל עובד שמלאו לו 21 ועובדת שמלאו לה 20?</td>\n",
       "      <td>עבור עובדת שמלאו לה 20 ועובד שמלאו לו 21, מה ה...</td>\n",
       "      <td>True</td>\n",
       "      <td>כל עובד שמלאו לו 21 ועובדת שמלאו לה 20 זכאים ל...</td>\n",
       "    </tr>\n",
       "    <tr>\n",
       "      <th>1</th>\n",
       "      <td>f4fc4a92</td>\n",
       "      <td>האם הנוסעים צריכים לשלם במזומן במקרה שהתגלתה ב...</td>\n",
       "      <td>מכשיר הכרטוס (תיקוף הרב קו) באוטובוס הפסיק לעב...</td>\n",
       "      <td>True</td>\n",
       "      <td>במקרה שהתגלתה במהלך נסיעה באוטובוס תקלה במכשיר...</td>\n",
       "    </tr>\n",
       "    <tr>\n",
       "      <th>2</th>\n",
       "      <td>757063de</td>\n",
       "      <td>מה המעסיק מחויב להעמיד לרשות עובדי שמירה ואבטחה</td>\n",
       "      <td>מה עובדי שמירה ואבטחה זכאים לקבל מהמעסיק שלהם?</td>\n",
       "      <td>True</td>\n",
       "      <td>מעסיק בשירות ציבורי או בעסק מחויב להעמיד לרשות...</td>\n",
       "    </tr>\n",
       "    <tr>\n",
       "      <th>3</th>\n",
       "      <td>99bcec72</td>\n",
       "      <td>האם מוסד חינוכי יכול למנוע מתלמיד לממש את זכות...</td>\n",
       "      <td>האם הזכות לכבוד ופרטיות של תלמיד יכולה להמנע מ...</td>\n",
       "      <td>False</td>\n",
       "      <td>המוסד החינוכי לא ימנע מתלמיד לממש את זכותו לכב...</td>\n",
       "    </tr>\n",
       "    <tr>\n",
       "      <th>4</th>\n",
       "      <td>78238a76</td>\n",
       "      <td>האם סטודנט זכאי להיעדר משיעורים בתקופת שירותו ...</td>\n",
       "      <td>האם זכויותו כסטודנט של סטודנט שנעדר משיעורים ב...</td>\n",
       "      <td>True</td>\n",
       "      <td>סטודנט זכאי להיעדר משיעורים בתקופת שירותו במיל...</td>\n",
       "    </tr>\n",
       "  </tbody>\n",
       "</table>\n",
       "</div>"
      ],
      "text/plain": [
       "   a1b2b0fe   \n",
       "0  d8302b26  \\\n",
       "1  f4fc4a92   \n",
       "2  757063de   \n",
       "3  99bcec72   \n",
       "4  78238a76   \n",
       "\n",
       "  האם אפשר לפגוע בהיקף המשרה או בהכנסה של עובד או עובדת במשך חופשת הלידה?   \n",
       "0  למה זכאים כל עובד שמלאו לו 21 ועובדת שמלאו לה 20?                       \\\n",
       "1  האם הנוסעים צריכים לשלם במזומן במקרה שהתגלתה ב...                        \n",
       "2    מה המעסיק מחויב להעמיד לרשות עובדי שמירה ואבטחה                        \n",
       "3  האם מוסד חינוכי יכול למנוע מתלמיד לממש את זכות...                        \n",
       "4  האם סטודנט זכאי להיעדר משיעורים בתקופת שירותו ...                        \n",
       "\n",
       "  במשך תקופת הלידה של עובד או עובדת, האם אפשר לפגוע היקף המשרה או ההכנסה של העובד או העובדת?   \n",
       "0  עבור עובדת שמלאו לה 20 ועובד שמלאו לו 21, מה ה...                                          \\\n",
       "1  מכשיר הכרטוס (תיקוף הרב קו) באוטובוס הפסיק לעב...                                           \n",
       "2     מה עובדי שמירה ואבטחה זכאים לקבל מהמעסיק שלהם?                                           \n",
       "3  האם הזכות לכבוד ופרטיות של תלמיד יכולה להמנע מ...                                           \n",
       "4  האם זכויותו כסטודנט של סטודנט שנעדר משיעורים ב...                                           \n",
       "\n",
       "    TRUE   \n",
       "0   True  \\\n",
       "1   True   \n",
       "2   True   \n",
       "3  False   \n",
       "4   True   \n",
       "\n",
       "  אסור לפגוע בהיקף המשרה או בהכנסה של עובד/ת במשך חופשת הלידה ובמהלך 60 יום מתום חופשת הלידה, אלא בהיתר מאת משרד העבודה  \n",
       "0  כל עובד שמלאו לו 21 ועובדת שמלאו לה 20 זכאים ל...                                                                     \n",
       "1  במקרה שהתגלתה במהלך נסיעה באוטובוס תקלה במכשיר...                                                                     \n",
       "2  מעסיק בשירות ציבורי או בעסק מחויב להעמיד לרשות...                                                                     \n",
       "3  המוסד החינוכי לא ימנע מתלמיד לממש את זכותו לכב...                                                                     \n",
       "4  סטודנט זכאי להיעדר משיעורים בתקופת שירותו במיל...                                                                     "
      ]
     },
     "execution_count": 11,
     "metadata": {},
     "output_type": "execute_result"
    }
   ],
   "source": [
    "df.head()"
   ]
  },
  {
   "cell_type": "code",
   "execution_count": 15,
   "metadata": {},
   "outputs": [],
   "source": [
    "import os\n",
    "os.chdir('/Users/asaf/Downloads/kolzchut')"
   ]
  },
  {
   "cell_type": "code",
   "execution_count": 16,
   "metadata": {},
   "outputs": [
    {
     "name": "stdout",
     "output_type": "stream",
     "text": [
      "https://www.kolzchut.org.il/he/בדיקות_תקופתיות_לגילוי_מוקדם_של_סרטן_בנשאיות_מוטציה_בגנים_BRCA1/2\n",
      "pages/b604cd57.html\n",
      "b604cd57\n"
     ]
    }
   ],
   "source": [
    "!python get_random_page.py"
   ]
  },
  {
   "cell_type": "code",
   "execution_count": null,
   "metadata": {},
   "outputs": [],
   "source": []
  }
 ],
 "metadata": {
  "kernelspec": {
   "display_name": "biu",
   "language": "python",
   "name": "python3"
  },
  "language_info": {
   "codemirror_mode": {
    "name": "ipython",
    "version": 3
   },
   "file_extension": ".py",
   "mimetype": "text/x-python",
   "name": "python",
   "nbconvert_exporter": "python",
   "pygments_lexer": "ipython3",
   "version": "3.9.15"
  }
 },
 "nbformat": 4,
 "nbformat_minor": 2
}
